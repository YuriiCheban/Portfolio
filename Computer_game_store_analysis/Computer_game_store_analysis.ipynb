{
 "cells": [
  {
   "cell_type": "markdown",
   "metadata": {},
   "source": [
    "# Анализ магазина компьютерных игр"
   ]
  },
  {
   "cell_type": "markdown",
   "metadata": {},
   "source": [
    "# Описание Проекта"
   ]
  },
  {
   "cell_type": "markdown",
   "metadata": {},
   "source": [
    "Интернет-магазин «Стримчик», который продаёт по всему миру компьютерные игры. Из открытых источников доступны исторические данные о продажах игр, оценки пользователей и экспертов, жанры и платформы (например, Xbox или PlayStation). Нужно выявить определяющие успешность игры закономерности. Это позволит сделать ставку на потенциально популярный продукт и спланировать рекламные кампании."
   ]
  },
  {
   "cell_type": "markdown",
   "metadata": {},
   "source": [
    "## Знакомство с данными"
   ]
  },
  {
   "cell_type": "code",
   "execution_count": 1,
   "metadata": {},
   "outputs": [],
   "source": [
    "import pandas as pd\n",
    "import matplotlib.pyplot as plt\n",
    "import numpy as np\n",
    "import  seaborn as sns\n",
    "from scipy import stats as st"
   ]
  },
  {
   "cell_type": "code",
   "execution_count": 2,
   "metadata": {},
   "outputs": [],
   "source": [
    "df = pd.read_csv('/datasets/games.csv')"
   ]
  },
  {
   "cell_type": "code",
   "execution_count": 3,
   "metadata": {},
   "outputs": [
    {
     "data": {
      "text/html": [
       "<div>\n",
       "<style scoped>\n",
       "    .dataframe tbody tr th:only-of-type {\n",
       "        vertical-align: middle;\n",
       "    }\n",
       "\n",
       "    .dataframe tbody tr th {\n",
       "        vertical-align: top;\n",
       "    }\n",
       "\n",
       "    .dataframe thead th {\n",
       "        text-align: right;\n",
       "    }\n",
       "</style>\n",
       "<table border=\"1\" class=\"dataframe\">\n",
       "  <thead>\n",
       "    <tr style=\"text-align: right;\">\n",
       "      <th></th>\n",
       "      <th>Name</th>\n",
       "      <th>Platform</th>\n",
       "      <th>Year_of_Release</th>\n",
       "      <th>Genre</th>\n",
       "      <th>NA_sales</th>\n",
       "      <th>EU_sales</th>\n",
       "      <th>JP_sales</th>\n",
       "      <th>Other_sales</th>\n",
       "      <th>Critic_Score</th>\n",
       "      <th>User_Score</th>\n",
       "      <th>Rating</th>\n",
       "    </tr>\n",
       "  </thead>\n",
       "  <tbody>\n",
       "    <tr>\n",
       "      <th>0</th>\n",
       "      <td>Wii Sports</td>\n",
       "      <td>Wii</td>\n",
       "      <td>2006.0</td>\n",
       "      <td>Sports</td>\n",
       "      <td>41.36</td>\n",
       "      <td>28.96</td>\n",
       "      <td>3.77</td>\n",
       "      <td>8.45</td>\n",
       "      <td>76.0</td>\n",
       "      <td>8</td>\n",
       "      <td>E</td>\n",
       "    </tr>\n",
       "    <tr>\n",
       "      <th>1</th>\n",
       "      <td>Super Mario Bros.</td>\n",
       "      <td>NES</td>\n",
       "      <td>1985.0</td>\n",
       "      <td>Platform</td>\n",
       "      <td>29.08</td>\n",
       "      <td>3.58</td>\n",
       "      <td>6.81</td>\n",
       "      <td>0.77</td>\n",
       "      <td>NaN</td>\n",
       "      <td>NaN</td>\n",
       "      <td>NaN</td>\n",
       "    </tr>\n",
       "    <tr>\n",
       "      <th>2</th>\n",
       "      <td>Mario Kart Wii</td>\n",
       "      <td>Wii</td>\n",
       "      <td>2008.0</td>\n",
       "      <td>Racing</td>\n",
       "      <td>15.68</td>\n",
       "      <td>12.76</td>\n",
       "      <td>3.79</td>\n",
       "      <td>3.29</td>\n",
       "      <td>82.0</td>\n",
       "      <td>8.3</td>\n",
       "      <td>E</td>\n",
       "    </tr>\n",
       "    <tr>\n",
       "      <th>3</th>\n",
       "      <td>Wii Sports Resort</td>\n",
       "      <td>Wii</td>\n",
       "      <td>2009.0</td>\n",
       "      <td>Sports</td>\n",
       "      <td>15.61</td>\n",
       "      <td>10.93</td>\n",
       "      <td>3.28</td>\n",
       "      <td>2.95</td>\n",
       "      <td>80.0</td>\n",
       "      <td>8</td>\n",
       "      <td>E</td>\n",
       "    </tr>\n",
       "    <tr>\n",
       "      <th>4</th>\n",
       "      <td>Pokemon Red/Pokemon Blue</td>\n",
       "      <td>GB</td>\n",
       "      <td>1996.0</td>\n",
       "      <td>Role-Playing</td>\n",
       "      <td>11.27</td>\n",
       "      <td>8.89</td>\n",
       "      <td>10.22</td>\n",
       "      <td>1.00</td>\n",
       "      <td>NaN</td>\n",
       "      <td>NaN</td>\n",
       "      <td>NaN</td>\n",
       "    </tr>\n",
       "  </tbody>\n",
       "</table>\n",
       "</div>"
      ],
      "text/plain": [
       "                       Name Platform  Year_of_Release         Genre  NA_sales  \\\n",
       "0                Wii Sports      Wii           2006.0        Sports     41.36   \n",
       "1         Super Mario Bros.      NES           1985.0      Platform     29.08   \n",
       "2            Mario Kart Wii      Wii           2008.0        Racing     15.68   \n",
       "3         Wii Sports Resort      Wii           2009.0        Sports     15.61   \n",
       "4  Pokemon Red/Pokemon Blue       GB           1996.0  Role-Playing     11.27   \n",
       "\n",
       "   EU_sales  JP_sales  Other_sales  Critic_Score User_Score Rating  \n",
       "0     28.96      3.77         8.45          76.0          8      E  \n",
       "1      3.58      6.81         0.77           NaN        NaN    NaN  \n",
       "2     12.76      3.79         3.29          82.0        8.3      E  \n",
       "3     10.93      3.28         2.95          80.0          8      E  \n",
       "4      8.89     10.22         1.00           NaN        NaN    NaN  "
      ]
     },
     "execution_count": 3,
     "metadata": {},
     "output_type": "execute_result"
    }
   ],
   "source": [
    "df.head()"
   ]
  },
  {
   "cell_type": "code",
   "execution_count": 4,
   "metadata": {
    "scrolled": true
   },
   "outputs": [
    {
     "name": "stdout",
     "output_type": "stream",
     "text": [
      "<class 'pandas.core.frame.DataFrame'>\n",
      "RangeIndex: 16715 entries, 0 to 16714\n",
      "Data columns (total 11 columns):\n",
      " #   Column           Non-Null Count  Dtype  \n",
      "---  ------           --------------  -----  \n",
      " 0   Name             16713 non-null  object \n",
      " 1   Platform         16715 non-null  object \n",
      " 2   Year_of_Release  16446 non-null  float64\n",
      " 3   Genre            16713 non-null  object \n",
      " 4   NA_sales         16715 non-null  float64\n",
      " 5   EU_sales         16715 non-null  float64\n",
      " 6   JP_sales         16715 non-null  float64\n",
      " 7   Other_sales      16715 non-null  float64\n",
      " 8   Critic_Score     8137 non-null   float64\n",
      " 9   User_Score       10014 non-null  object \n",
      " 10  Rating           9949 non-null   object \n",
      "dtypes: float64(6), object(5)\n",
      "memory usage: 1.4+ MB\n"
     ]
    }
   ],
   "source": [
    "df.info()"
   ]
  },
  {
   "cell_type": "markdown",
   "metadata": {},
   "source": [
    "**Промежуточные выводы**\n",
    "\n",
    "Датафрейм загружен корректно.\n",
    "\n",
    "Из информации видны проблемы с наименвоаниями столбцов, есть пропуски, есть ошибки в определении типов данных столбцов.\n",
    "\n",
    "Приступим к обработке данных и исправим неточности!"
   ]
  },
  {
   "cell_type": "markdown",
   "metadata": {},
   "source": [
    "## Обработка, Подготовка данных"
   ]
  },
  {
   "cell_type": "markdown",
   "metadata": {},
   "source": [
    "### Переименование столбцов"
   ]
  },
  {
   "cell_type": "code",
   "execution_count": 5,
   "metadata": {
    "scrolled": true
   },
   "outputs": [
    {
     "data": {
      "text/plain": [
       "Index(['name', 'platform', 'year_of_release', 'genre', 'na_sales', 'eu_sales',\n",
       "       'jp_sales', 'other_sales', 'critic_score', 'user_score', 'rating'],\n",
       "      dtype='object')"
      ]
     },
     "execution_count": 5,
     "metadata": {},
     "output_type": "execute_result"
    }
   ],
   "source": [
    "df.columns= df.columns.str.lower() #приводим наименования столбцов в нижний регистр\n",
    "df.columns"
   ]
  },
  {
   "cell_type": "markdown",
   "metadata": {},
   "source": [
    "### Работа с пропусками и типами данных"
   ]
  },
  {
   "cell_type": "code",
   "execution_count": 6,
   "metadata": {},
   "outputs": [],
   "source": [
    "def pass_value_barh(df): #функция распределения пропущеных значений по столбцам в барах\n",
    "    try:\n",
    "        (\n",
    "            (df.isna().mean()*100)\n",
    "            .to_frame()\n",
    "            .rename(columns = {0:'space'})\n",
    "            .query('space > 0')\n",
    "            .sort_values(by = 'space', ascending = True)\n",
    "            .plot(kind = 'barh', figsize = (19,6), rot = -5, legend = False, fontsize = 16)\n",
    "            .set_title('Пример' + \"\\n\", fontsize = 22, color = 'SteelBlue')    \n",
    "        );    \n",
    "    except:\n",
    "        print('пропусков не осталось :) ')"
   ]
  },
  {
   "cell_type": "code",
   "execution_count": 7,
   "metadata": {
    "scrolled": true
   },
   "outputs": [
    {
     "data": {
      "image/png": "[encoded data removed]",
      "text/plain": [
       "<Figure size 1368x432 with 1 Axes>"
      ]
     },
     "metadata": {
      "needs_background": "light"
     },
     "output_type": "display_data"
    }
   ],
   "source": [
    "pass_value_barh(df)"
   ]
  },
  {
   "cell_type": "code",
   "execution_count": 8,
   "metadata": {
    "scrolled": true
   },
   "outputs": [
    {
     "name": "stdout",
     "output_type": "stream",
     "text": [
      "Количество пропусков в столбце \"year_of_release\": 269\n",
      "Количество пропусков в столбце \"name\": 2\n",
      "Количество пропусков в столбце \"genre\": 2\n"
     ]
    }
   ],
   "source": [
    "print('Количество пропусков в столбце \"year_of_release\":', df.year_of_release.isna().sum())\n",
    "print('Количество пропусков в столбце \"name\":', df.name.isna().sum())\n",
    "print('Количество пропусков в столбце \"genre\":', df.genre.isna().sum())"
   ]
  },
  {
   "cell_type": "markdown",
   "metadata": {},
   "source": [
    "В столбце \"Год выпуска\" всего 269 прпоусков, избавимся от них и приведем столбец к типу данных  int.\n",
    "\n",
    "Оценки критиков по  100 бальной шкале, и оценки имеют целые значения. Большое количество пропусков. Заполнить пропуски значениями не представляется возможным, оставляем как есть.\n",
    "\n",
    "Столбец с наименованиями и жанрами очищаем от пропусков."
   ]
  },
  {
   "cell_type": "code",
   "execution_count": 9,
   "metadata": {
    "scrolled": true
   },
   "outputs": [
    {
     "name": "stdout",
     "output_type": "stream",
     "text": [
      "<class 'pandas.core.frame.DataFrame'>\n",
      "RangeIndex: 16444 entries, 0 to 16443\n",
      "Data columns (total 11 columns):\n",
      " #   Column           Non-Null Count  Dtype  \n",
      "---  ------           --------------  -----  \n",
      " 0   name             16444 non-null  object \n",
      " 1   platform         16444 non-null  object \n",
      " 2   year_of_release  16444 non-null  int64  \n",
      " 3   genre            16444 non-null  object \n",
      " 4   na_sales         16444 non-null  float64\n",
      " 5   eu_sales         16444 non-null  float64\n",
      " 6   jp_sales         16444 non-null  float64\n",
      " 7   other_sales      16444 non-null  float64\n",
      " 8   critic_score     7983 non-null   float64\n",
      " 9   user_score       9839 non-null   object \n",
      " 10  rating           9768 non-null   object \n",
      "dtypes: float64(5), int64(1), object(5)\n",
      "memory usage: 1.4+ MB\n"
     ]
    }
   ],
   "source": [
    "# избавляемся от прпоусков и приводим столбцы к типам данных\n",
    "df = df.dropna(subset=['name', 'year_of_release', 'genre']).reset_index(drop=True)\n",
    "df.year_of_release = df.year_of_release.astype('int')\n",
    "#df.critic_score = df.critic_score.fillna(0).astype('int')\n",
    "df.info()"
   ]
  },
  {
   "cell_type": "code",
   "execution_count": 10,
   "metadata": {
    "scrolled": true
   },
   "outputs": [
    {
     "data": {
      "text/plain": [
       "tbd    2376\n",
       "7.8     322\n",
       "8       285\n",
       "8.2     276\n",
       "8.3     252\n",
       "       ... \n",
       "1         2\n",
       "1.5       2\n",
       "0.2       2\n",
       "0         1\n",
       "9.7       1\n",
       "Name: user_score, Length: 96, dtype: int64"
      ]
     },
     "execution_count": 10,
     "metadata": {},
     "output_type": "execute_result"
    }
   ],
   "source": [
    "df.user_score.value_counts() #проверяем столбец с оценками на уникальные значения"
   ]
  },
  {
   "cell_type": "markdown",
   "metadata": {},
   "source": [
    "**To Be Determined**, то есть \"Будет определено\". Заполнять tbd нулями не считаю корректным, так как 0 - это конкретная оценка игры, при этом tbd означает, что оценка  для данной игры не определена. Заменим tbd на значения типа \"NaN\"."
   ]
  },
  {
   "cell_type": "code",
   "execution_count": 11,
   "metadata": {},
   "outputs": [
    {
     "data": {
      "text/plain": [
       "8981"
      ]
     },
     "execution_count": 11,
     "metadata": {},
     "output_type": "execute_result"
    }
   ],
   "source": [
    "df.loc[df.user_score == 'tbd', 'user_score'] = np.nan\n",
    "df.user_score = df.user_score.astype('float')\n",
    "df.user_score.isna().sum()"
   ]
  },
  {
   "cell_type": "code",
   "execution_count": 12,
   "metadata": {},
   "outputs": [
    {
     "data": {
      "text/html": [
       "<div>\n",
       "<style scoped>\n",
       "    .dataframe tbody tr th:only-of-type {\n",
       "        vertical-align: middle;\n",
       "    }\n",
       "\n",
       "    .dataframe tbody tr th {\n",
       "        vertical-align: top;\n",
       "    }\n",
       "\n",
       "    .dataframe thead th {\n",
       "        text-align: right;\n",
       "    }\n",
       "</style>\n",
       "<table border=\"1\" class=\"dataframe\">\n",
       "  <thead>\n",
       "    <tr style=\"text-align: right;\">\n",
       "      <th></th>\n",
       "      <th>name</th>\n",
       "      <th>platform</th>\n",
       "      <th>year_of_release</th>\n",
       "      <th>genre</th>\n",
       "      <th>na_sales</th>\n",
       "      <th>eu_sales</th>\n",
       "      <th>jp_sales</th>\n",
       "      <th>other_sales</th>\n",
       "      <th>critic_score</th>\n",
       "      <th>user_score</th>\n",
       "      <th>rating</th>\n",
       "    </tr>\n",
       "  </thead>\n",
       "  <tbody>\n",
       "  </tbody>\n",
       "</table>\n",
       "</div>"
      ],
      "text/plain": [
       "Empty DataFrame\n",
       "Columns: [name, platform, year_of_release, genre, na_sales, eu_sales, jp_sales, other_sales, critic_score, user_score, rating]\n",
       "Index: []"
      ]
     },
     "execution_count": 12,
     "metadata": {},
     "output_type": "execute_result"
    }
   ],
   "source": [
    "# check\n",
    "df[df.name.isna()]"
   ]
  },
  {
   "cell_type": "markdown",
   "metadata": {},
   "source": [
    "### Подсчет суммарных продаж"
   ]
  },
  {
   "cell_type": "code",
   "execution_count": 13,
   "metadata": {
    "scrolled": true
   },
   "outputs": [
    {
     "data": {
      "text/html": [
       "<div>\n",
       "<style scoped>\n",
       "    .dataframe tbody tr th:only-of-type {\n",
       "        vertical-align: middle;\n",
       "    }\n",
       "\n",
       "    .dataframe tbody tr th {\n",
       "        vertical-align: top;\n",
       "    }\n",
       "\n",
       "    .dataframe thead th {\n",
       "        text-align: right;\n",
       "    }\n",
       "</style>\n",
       "<table border=\"1\" class=\"dataframe\">\n",
       "  <thead>\n",
       "    <tr style=\"text-align: right;\">\n",
       "      <th></th>\n",
       "      <th>name</th>\n",
       "      <th>platform</th>\n",
       "      <th>year_of_release</th>\n",
       "      <th>genre</th>\n",
       "      <th>na_sales</th>\n",
       "      <th>eu_sales</th>\n",
       "      <th>jp_sales</th>\n",
       "      <th>other_sales</th>\n",
       "      <th>critic_score</th>\n",
       "      <th>user_score</th>\n",
       "      <th>rating</th>\n",
       "      <th>total_sales</th>\n",
       "    </tr>\n",
       "  </thead>\n",
       "  <tbody>\n",
       "    <tr>\n",
       "      <th>0</th>\n",
       "      <td>Wii Sports</td>\n",
       "      <td>Wii</td>\n",
       "      <td>2006</td>\n",
       "      <td>Sports</td>\n",
       "      <td>41.36</td>\n",
       "      <td>28.96</td>\n",
       "      <td>3.77</td>\n",
       "      <td>8.45</td>\n",
       "      <td>76.0</td>\n",
       "      <td>8.0</td>\n",
       "      <td>E</td>\n",
       "      <td>82.54</td>\n",
       "    </tr>\n",
       "    <tr>\n",
       "      <th>1</th>\n",
       "      <td>Super Mario Bros.</td>\n",
       "      <td>NES</td>\n",
       "      <td>1985</td>\n",
       "      <td>Platform</td>\n",
       "      <td>29.08</td>\n",
       "      <td>3.58</td>\n",
       "      <td>6.81</td>\n",
       "      <td>0.77</td>\n",
       "      <td>NaN</td>\n",
       "      <td>NaN</td>\n",
       "      <td>NaN</td>\n",
       "      <td>40.24</td>\n",
       "    </tr>\n",
       "    <tr>\n",
       "      <th>2</th>\n",
       "      <td>Mario Kart Wii</td>\n",
       "      <td>Wii</td>\n",
       "      <td>2008</td>\n",
       "      <td>Racing</td>\n",
       "      <td>15.68</td>\n",
       "      <td>12.76</td>\n",
       "      <td>3.79</td>\n",
       "      <td>3.29</td>\n",
       "      <td>82.0</td>\n",
       "      <td>8.3</td>\n",
       "      <td>E</td>\n",
       "      <td>35.52</td>\n",
       "    </tr>\n",
       "    <tr>\n",
       "      <th>3</th>\n",
       "      <td>Wii Sports Resort</td>\n",
       "      <td>Wii</td>\n",
       "      <td>2009</td>\n",
       "      <td>Sports</td>\n",
       "      <td>15.61</td>\n",
       "      <td>10.93</td>\n",
       "      <td>3.28</td>\n",
       "      <td>2.95</td>\n",
       "      <td>80.0</td>\n",
       "      <td>8.0</td>\n",
       "      <td>E</td>\n",
       "      <td>32.77</td>\n",
       "    </tr>\n",
       "    <tr>\n",
       "      <th>4</th>\n",
       "      <td>Pokemon Red/Pokemon Blue</td>\n",
       "      <td>GB</td>\n",
       "      <td>1996</td>\n",
       "      <td>Role-Playing</td>\n",
       "      <td>11.27</td>\n",
       "      <td>8.89</td>\n",
       "      <td>10.22</td>\n",
       "      <td>1.00</td>\n",
       "      <td>NaN</td>\n",
       "      <td>NaN</td>\n",
       "      <td>NaN</td>\n",
       "      <td>31.38</td>\n",
       "    </tr>\n",
       "  </tbody>\n",
       "</table>\n",
       "</div>"
      ],
      "text/plain": [
       "                       name platform  year_of_release         genre  na_sales  \\\n",
       "0                Wii Sports      Wii             2006        Sports     41.36   \n",
       "1         Super Mario Bros.      NES             1985      Platform     29.08   \n",
       "2            Mario Kart Wii      Wii             2008        Racing     15.68   \n",
       "3         Wii Sports Resort      Wii             2009        Sports     15.61   \n",
       "4  Pokemon Red/Pokemon Blue       GB             1996  Role-Playing     11.27   \n",
       "\n",
       "   eu_sales  jp_sales  other_sales  critic_score  user_score rating  \\\n",
       "0     28.96      3.77         8.45          76.0         8.0      E   \n",
       "1      3.58      6.81         0.77           NaN         NaN    NaN   \n",
       "2     12.76      3.79         3.29          82.0         8.3      E   \n",
       "3     10.93      3.28         2.95          80.0         8.0      E   \n",
       "4      8.89     10.22         1.00           NaN         NaN    NaN   \n",
       "\n",
       "   total_sales  \n",
       "0        82.54  \n",
       "1        40.24  \n",
       "2        35.52  \n",
       "3        32.77  \n",
       "4        31.38  "
      ]
     },
     "execution_count": 13,
     "metadata": {},
     "output_type": "execute_result"
    }
   ],
   "source": [
    "df['total_sales'] = df['na_sales'] + df['eu_sales'] + df['jp_sales'] + df['other_sales']\n",
    "df.head()"
   ]
  },
  {
   "cell_type": "markdown",
   "metadata": {},
   "source": [
    "### Промежуточные выводы"
   ]
  },
  {
   "cell_type": "markdown",
   "metadata": {},
   "source": [
    "**На данном этапе были проделаны след. действия:**\n",
    "\n",
    "- Переименованы все столбцы, переведены в нижний регистр.\n",
    "\n",
    "- Обработаны пропуски. Пропуски в наименвоании игры и жанре могли возникнуть по техническим причинам. Возможно для игры не был определен конкретный жанр. В любом случае прпоуском было мало и мы от них избавились. По году выпуска игры причинами пропусков также могли послужить технические причины, возможно датафрейм был получен в результате обработки более большого набора данных, где были ошибки в определении и выделении года выпуска игры, что и привело к пропускам.\n",
    "\n",
    "- Добавили в датафрейм столбцец с суммарными продажами по всем регионам"
   ]
  },
  {
   "cell_type": "code",
   "execution_count": 14,
   "metadata": {},
   "outputs": [
    {
     "name": "stdout",
     "output_type": "stream",
     "text": [
      "<class 'pandas.core.frame.DataFrame'>\n",
      "RangeIndex: 16444 entries, 0 to 16443\n",
      "Data columns (total 12 columns):\n",
      " #   Column           Non-Null Count  Dtype  \n",
      "---  ------           --------------  -----  \n",
      " 0   name             16444 non-null  object \n",
      " 1   platform         16444 non-null  object \n",
      " 2   year_of_release  16444 non-null  int64  \n",
      " 3   genre            16444 non-null  object \n",
      " 4   na_sales         16444 non-null  float64\n",
      " 5   eu_sales         16444 non-null  float64\n",
      " 6   jp_sales         16444 non-null  float64\n",
      " 7   other_sales      16444 non-null  float64\n",
      " 8   critic_score     7983 non-null   float64\n",
      " 9   user_score       7463 non-null   float64\n",
      " 10  rating           9768 non-null   object \n",
      " 11  total_sales      16444 non-null  float64\n",
      "dtypes: float64(7), int64(1), object(4)\n",
      "memory usage: 1.5+ MB\n"
     ]
    }
   ],
   "source": [
    "# check\n",
    "df.info()"
   ]
  },
  {
   "cell_type": "code",
   "execution_count": 15,
   "metadata": {},
   "outputs": [
    {
     "name": "stdout",
     "output_type": "stream",
     "text": [
      "<class 'pandas.core.frame.DataFrame'>\n",
      "RangeIndex: 16444 entries, 0 to 16443\n",
      "Data columns (total 12 columns):\n",
      " #   Column           Non-Null Count  Dtype  \n",
      "---  ------           --------------  -----  \n",
      " 0   name             16444 non-null  object \n",
      " 1   platform         16444 non-null  object \n",
      " 2   year_of_release  16444 non-null  int64  \n",
      " 3   genre            16444 non-null  object \n",
      " 4   na_sales         16444 non-null  float64\n",
      " 5   eu_sales         16444 non-null  float64\n",
      " 6   jp_sales         16444 non-null  float64\n",
      " 7   other_sales      16444 non-null  float64\n",
      " 8   critic_score     7983 non-null   float64\n",
      " 9   user_score       7463 non-null   float64\n",
      " 10  rating           16444 non-null  object \n",
      " 11  total_sales      16444 non-null  float64\n",
      "dtypes: float64(7), int64(1), object(4)\n",
      "memory usage: 1.5+ MB\n"
     ]
    }
   ],
   "source": [
    "df['rating'] = df['rating'].fillna('unknown')\n",
    "df.info()"
   ]
  },
  {
   "cell_type": "markdown",
   "metadata": {},
   "source": [
    "## Исследовательский анализ данных"
   ]
  },
  {
   "cell_type": "markdown",
   "metadata": {},
   "source": [
    "### Количество выпущенных игр по годам"
   ]
  },
  {
   "cell_type": "code",
   "execution_count": 16,
   "metadata": {
    "scrolled": false
   },
   "outputs": [
    {
     "data": {
      "image/png": "[encoded data removed]",
      "text/plain": [
       "<Figure size 1080x360 with 1 Axes>"
      ]
     },
     "metadata": {
      "needs_background": "light"
     },
     "output_type": "display_data"
    }
   ],
   "source": [
    "(\n",
    "    df.pivot_table(index='year_of_release', values='total_sales', aggfunc='count')\n",
    "    .plot(kind='bar', figsize=(15,5), title='количество игр по годам', legend=False)\n",
    "    .set(title='Количество игр по годам', xlabel='Год выхода игр', ylabel='Общие продажи')\n",
    ");\n"
   ]
  },
  {
   "cell_type": "markdown",
   "metadata": {},
   "source": [
    "Явно видно, что данных с 1980 по 1991 слишком мало. Оставим данные за 1981 и 1982 годы, из всего набора они выделяются все таки.\n",
    "\n",
    "Итак: 1981 и 1982 - оставляем, остальное убираем вплоть до 1991 года."
   ]
  },
  {
   "cell_type": "code",
   "execution_count": 17,
   "metadata": {
    "scrolled": false
   },
   "outputs": [
    {
     "data": {
      "image/png": "[encoded data removed]",
      "text/plain": [
       "<Figure size 1080x360 with 1 Axes>"
      ]
     },
     "metadata": {
      "needs_background": "light"
     },
     "output_type": "display_data"
    }
   ],
   "source": [
    "df = df.query('year_of_release > 1991 or year_of_release == 1981 or year_of_release == 1982')\n",
    "(\n",
    "    df.pivot_table(index='year_of_release', values='total_sales', aggfunc='count')\n",
    "    .plot(kind='bar', figsize=(15,5), title='количество игр по годам', legend=False)\n",
    "    .set(title='Количество игр по годам', xlabel='Год выхода игр', ylabel='Общие продажи')\n",
    ");\n"
   ]
  },
  {
   "cell_type": "markdown",
   "metadata": {},
   "source": [
    "### Изменение продаж по платформам, определение актуального периода."
   ]
  },
  {
   "cell_type": "code",
   "execution_count": 18,
   "metadata": {
    "scrolled": true
   },
   "outputs": [
    {
     "data": {
      "image/png": "[encoded data removed]",
      "text/plain": [
       "<Figure size 1080x360 with 1 Axes>"
      ]
     },
     "metadata": {
      "needs_background": "light"
     },
     "output_type": "display_data"
    }
   ],
   "source": [
    "(\n",
    "    df.pivot_table(index='platform', values='total_sales', aggfunc='sum')['total_sales']\n",
    "    .sort_values(ascending=False).plot(kind='bar', figsize=(15,5))\n",
    "    .set(title='Рейтинг платформ', xlabel='платформы', ylabel='Общие продажи')\n",
    ");"
   ]
  },
  {
   "cell_type": "code",
   "execution_count": 19,
   "metadata": {
    "scrolled": true
   },
   "outputs": [
    {
     "data": {
      "image/png": "[encoded data removed]",
      "text/plain": [
       "<Figure size 1440x432 with 1 Axes>"
      ]
     },
     "metadata": {
      "needs_background": "light"
     },
     "output_type": "display_data"
    }
   ],
   "source": [
    "pl = ['PS2', 'X360', 'PS3', 'Wii', 'PS', 'DS']\n",
    "(\n",
    "    df.query('platform in @pl').pivot_table(index='year_of_release',  columns='platform', values='total_sales', aggfunc='sum')\n",
    "    .plot(kind='bar', figsize=(20,6),  grid=True)\n",
    ");"
   ]
  },
  {
   "cell_type": "markdown",
   "metadata": {},
   "source": [
    "В среднем выбранные платформы живут порядка 10 лет, постепенно теряя актуальность после 5 лет с момента выхода, и заменяются новыми платформами. \n",
    "\n",
    "5 лет большой период, что бы считать его актуальным для прогнозирования продаж. Предлагаю взять период - 3 года. "
   ]
  },
  {
   "cell_type": "markdown",
   "metadata": {},
   "source": [
    "### Исследование популярных платформ"
   ]
  },
  {
   "cell_type": "code",
   "execution_count": 20,
   "metadata": {
    "scrolled": true
   },
   "outputs": [
    {
     "data": {
      "image/png": "[encoded data removed]",
      "text/plain": [
       "<Figure size 1080x288 with 1 Axes>"
      ]
     },
     "metadata": {
      "needs_background": "light"
     },
     "output_type": "display_data"
    }
   ],
   "source": [
    "actual_df = df.query('year_of_release >= 2014')\n",
    "(\n",
    "    actual_df.pivot_table(index='platform', values='total_sales',  aggfunc='sum')['total_sales']\n",
    "    .sort_values(ascending=False)\n",
    "    .plot(kind='bar', figsize=(15,4))\n",
    ");"
   ]
  },
  {
   "cell_type": "markdown",
   "metadata": {},
   "source": [
    "Тройка лидеров - PS4, XOne и 3DS"
   ]
  },
  {
   "cell_type": "code",
   "execution_count": 21,
   "metadata": {
    "scrolled": true
   },
   "outputs": [
    {
     "data": {
      "image/png": "[encoded data removed]",
      "text/plain": [
       "<Figure size 720x216 with 1 Axes>"
      ]
     },
     "metadata": {
      "needs_background": "light"
     },
     "output_type": "display_data"
    },
    {
     "data": {
      "image/png": "[encoded data removed]",
      "text/plain": [
       "<Figure size 720x216 with 1 Axes>"
      ]
     },
     "metadata": {
      "needs_background": "light"
     },
     "output_type": "display_data"
    },
    {
     "data": {
      "image/png": "[encoded data removed]",
      "text/plain": [
       "<Figure size 720x216 with 1 Axes>"
      ]
     },
     "metadata": {
      "needs_background": "light"
     },
     "output_type": "display_data"
    },
    {
     "data": {
      "image/png": "[encoded data removed]",
      "text/plain": [
       "<Figure size 720x216 with 1 Axes>"
      ]
     },
     "metadata": {
      "needs_background": "light"
     },
     "output_type": "display_data"
    },
    {
     "data": {
      "image/png": "[encoded data removed]",
      "text/plain": [
       "<Figure size 720x216 with 1 Axes>"
      ]
     },
     "metadata": {
      "needs_background": "light"
     },
     "output_type": "display_data"
    },
    {
     "data": {
      "image/png": "[encoded data removed]",
      "text/plain": [
       "<Figure size 720x216 with 1 Axes>"
      ]
     },
     "metadata": {
      "needs_background": "light"
     },
     "output_type": "display_data"
    },
    {
     "data": {
      "image/png": "[encoded data removed]",
      "text/plain": [
       "<Figure size 720x216 with 1 Axes>"
      ]
     },
     "metadata": {
      "needs_background": "light"
     },
     "output_type": "display_data"
    },
    {
     "data": {
      "image/png": "[encoded data removed]",
      "text/plain": [
       "<Figure size 720x216 with 1 Axes>"
      ]
     },
     "metadata": {
      "needs_background": "light"
     },
     "output_type": "display_data"
    },
    {
     "data": {
      "image/png": "[encoded data removed]",
      "text/plain": [
       "<Figure size 720x216 with 1 Axes>"
      ]
     },
     "metadata": {
      "needs_background": "light"
     },
     "output_type": "display_data"
    },
    {
     "data": {
      "image/png": "[encoded data removed]",
      "text/plain": [
       "<Figure size 720x216 with 1 Axes>"
      ]
     },
     "metadata": {
      "needs_background": "light"
     },
     "output_type": "display_data"
    }
   ],
   "source": [
    "per_pl =  actual_df.platform.unique()\n",
    "for y in per_pl:\n",
    "    (actual_df.query('platform == @y')\n",
    "     .pivot_table(index='year_of_release', values='total_sales', aggfunc='sum')\n",
    "     .plot(kind='bar',figsize=(10,3), title=y, legend=False)\n",
    "    );"
   ]
  },
  {
   "cell_type": "code",
   "execution_count": 22,
   "metadata": {},
   "outputs": [
    {
     "name": "stdout",
     "output_type": "stream",
     "text": [
      "количество данных за 2016 год: 502\n"
     ]
    }
   ],
   "source": [
    "print('количество данных за 2016 год:', len(actual_df.query('year_of_release == 2016')))"
   ]
  },
  {
   "cell_type": "markdown",
   "metadata": {},
   "source": [
    "PS4, XOne, 3DS, PC можно  считать потенциально прибыльными, т.к. на графиках показывается рост продаж, при этом падение к 2016 году  связано с малым  количеством данных."
   ]
  },
  {
   "cell_type": "markdown",
   "metadata": {},
   "source": [
    "### График «ящик с усами»"
   ]
  },
  {
   "cell_type": "code",
   "execution_count": 23,
   "metadata": {},
   "outputs": [
    {
     "data": {
      "image/png": "[encoded data removed]",
      "text/plain": [
       "<Figure size 1080x576 with 1 Axes>"
      ]
     },
     "metadata": {
      "needs_background": "light"
     },
     "output_type": "display_data"
    }
   ],
   "source": [
    "plt.figure(figsize=(15, 8))\n",
    "sns.boxplot(data = actual_df, y = 'total_sales', x='platform').set(\n",
    "    title = 'Продажи по перспективным платформам за 2014-2016 гг', xlabel = 'Платформы', ylabel = 'Общие продажи');"
   ]
  },
  {
   "cell_type": "code",
   "execution_count": 24,
   "metadata": {
    "scrolled": false
   },
   "outputs": [
    {
     "data": {
      "image/png": "[encoded data removed]",
      "text/plain": [
       "<Figure size 1080x576 with 1 Axes>"
      ]
     },
     "metadata": {
      "needs_background": "light"
     },
     "output_type": "display_data"
    }
   ],
   "source": [
    "plt.figure(figsize=(15, 8))\n",
    "sns.boxplot(data = actual_df, y = 'total_sales', x='platform').set(\n",
    "    title = 'Продажи по перспективным платформам за 2014-2016 гг', xlabel = 'Платформы', ylabel = 'Общие продажи', ylim=(0, 3));"
   ]
  },
  {
   "cell_type": "code",
   "execution_count": 25,
   "metadata": {},
   "outputs": [
    {
     "data": {
      "text/html": [
       "<div>\n",
       "<style scoped>\n",
       "    .dataframe tbody tr th:only-of-type {\n",
       "        vertical-align: middle;\n",
       "    }\n",
       "\n",
       "    .dataframe tbody tr th {\n",
       "        vertical-align: top;\n",
       "    }\n",
       "\n",
       "    .dataframe thead tr th {\n",
       "        text-align: left;\n",
       "    }\n",
       "\n",
       "    .dataframe thead tr:last-of-type th {\n",
       "        text-align: right;\n",
       "    }\n",
       "</style>\n",
       "<table border=\"1\" class=\"dataframe\">\n",
       "  <thead>\n",
       "    <tr>\n",
       "      <th></th>\n",
       "      <th colspan=\"8\" halign=\"left\">describe</th>\n",
       "    </tr>\n",
       "    <tr>\n",
       "      <th></th>\n",
       "      <th>25%</th>\n",
       "      <th>50%</th>\n",
       "      <th>75%</th>\n",
       "      <th>count</th>\n",
       "      <th>max</th>\n",
       "      <th>mean</th>\n",
       "      <th>min</th>\n",
       "      <th>std</th>\n",
       "    </tr>\n",
       "    <tr>\n",
       "      <th>platform</th>\n",
       "      <th></th>\n",
       "      <th></th>\n",
       "      <th></th>\n",
       "      <th></th>\n",
       "      <th></th>\n",
       "      <th></th>\n",
       "      <th></th>\n",
       "      <th></th>\n",
       "    </tr>\n",
       "  </thead>\n",
       "  <tbody>\n",
       "    <tr>\n",
       "      <th>3DS</th>\n",
       "      <td>0.0300</td>\n",
       "      <td>0.090</td>\n",
       "      <td>0.2500</td>\n",
       "      <td>212.0</td>\n",
       "      <td>11.68</td>\n",
       "      <td>0.408868</td>\n",
       "      <td>0.01</td>\n",
       "      <td>1.188368</td>\n",
       "    </tr>\n",
       "    <tr>\n",
       "      <th>PC</th>\n",
       "      <td>0.0200</td>\n",
       "      <td>0.060</td>\n",
       "      <td>0.2000</td>\n",
       "      <td>151.0</td>\n",
       "      <td>3.05</td>\n",
       "      <td>0.179139</td>\n",
       "      <td>0.01</td>\n",
       "      <td>0.329359</td>\n",
       "    </tr>\n",
       "    <tr>\n",
       "      <th>PS3</th>\n",
       "      <td>0.0400</td>\n",
       "      <td>0.110</td>\n",
       "      <td>0.3250</td>\n",
       "      <td>219.0</td>\n",
       "      <td>5.27</td>\n",
       "      <td>0.311324</td>\n",
       "      <td>0.01</td>\n",
       "      <td>0.633059</td>\n",
       "    </tr>\n",
       "    <tr>\n",
       "      <th>PS4</th>\n",
       "      <td>0.0575</td>\n",
       "      <td>0.185</td>\n",
       "      <td>0.6900</td>\n",
       "      <td>376.0</td>\n",
       "      <td>14.63</td>\n",
       "      <td>0.766356</td>\n",
       "      <td>0.01</td>\n",
       "      <td>1.614969</td>\n",
       "    </tr>\n",
       "    <tr>\n",
       "      <th>PSP</th>\n",
       "      <td>0.0100</td>\n",
       "      <td>0.020</td>\n",
       "      <td>0.0200</td>\n",
       "      <td>13.0</td>\n",
       "      <td>0.09</td>\n",
       "      <td>0.027692</td>\n",
       "      <td>0.01</td>\n",
       "      <td>0.027735</td>\n",
       "    </tr>\n",
       "    <tr>\n",
       "      <th>PSV</th>\n",
       "      <td>0.0200</td>\n",
       "      <td>0.040</td>\n",
       "      <td>0.0900</td>\n",
       "      <td>295.0</td>\n",
       "      <td>1.96</td>\n",
       "      <td>0.075932</td>\n",
       "      <td>0.01</td>\n",
       "      <td>0.141591</td>\n",
       "    </tr>\n",
       "    <tr>\n",
       "      <th>Wii</th>\n",
       "      <td>0.0350</td>\n",
       "      <td>0.180</td>\n",
       "      <td>0.7550</td>\n",
       "      <td>11.0</td>\n",
       "      <td>2.01</td>\n",
       "      <td>0.460909</td>\n",
       "      <td>0.01</td>\n",
       "      <td>0.625451</td>\n",
       "    </tr>\n",
       "    <tr>\n",
       "      <th>WiiU</th>\n",
       "      <td>0.0500</td>\n",
       "      <td>0.190</td>\n",
       "      <td>0.5700</td>\n",
       "      <td>73.0</td>\n",
       "      <td>7.09</td>\n",
       "      <td>0.588767</td>\n",
       "      <td>0.01</td>\n",
       "      <td>1.161467</td>\n",
       "    </tr>\n",
       "    <tr>\n",
       "      <th>X360</th>\n",
       "      <td>0.0700</td>\n",
       "      <td>0.180</td>\n",
       "      <td>0.5050</td>\n",
       "      <td>111.0</td>\n",
       "      <td>4.28</td>\n",
       "      <td>0.434414</td>\n",
       "      <td>0.01</td>\n",
       "      <td>0.628967</td>\n",
       "    </tr>\n",
       "    <tr>\n",
       "      <th>XOne</th>\n",
       "      <td>0.0500</td>\n",
       "      <td>0.205</td>\n",
       "      <td>0.6325</td>\n",
       "      <td>228.0</td>\n",
       "      <td>7.39</td>\n",
       "      <td>0.615614</td>\n",
       "      <td>0.01</td>\n",
       "      <td>1.046513</td>\n",
       "    </tr>\n",
       "  </tbody>\n",
       "</table>\n",
       "</div>"
      ],
      "text/plain": [
       "         describe                                                       \n",
       "              25%    50%     75%  count    max      mean   min       std\n",
       "platform                                                                \n",
       "3DS        0.0300  0.090  0.2500  212.0  11.68  0.408868  0.01  1.188368\n",
       "PC         0.0200  0.060  0.2000  151.0   3.05  0.179139  0.01  0.329359\n",
       "PS3        0.0400  0.110  0.3250  219.0   5.27  0.311324  0.01  0.633059\n",
       "PS4        0.0575  0.185  0.6900  376.0  14.63  0.766356  0.01  1.614969\n",
       "PSP        0.0100  0.020  0.0200   13.0   0.09  0.027692  0.01  0.027735\n",
       "PSV        0.0200  0.040  0.0900  295.0   1.96  0.075932  0.01  0.141591\n",
       "Wii        0.0350  0.180  0.7550   11.0   2.01  0.460909  0.01  0.625451\n",
       "WiiU       0.0500  0.190  0.5700   73.0   7.09  0.588767  0.01  1.161467\n",
       "X360       0.0700  0.180  0.5050  111.0   4.28  0.434414  0.01  0.628967\n",
       "XOne       0.0500  0.205  0.6325  228.0   7.39  0.615614  0.01  1.046513"
      ]
     },
     "execution_count": 25,
     "metadata": {},
     "output_type": "execute_result"
    }
   ],
   "source": [
    "actual_df.pivot_table(index='platform', values = 'total_sales', aggfunc = ['describe'])"
   ]
  },
  {
   "cell_type": "markdown",
   "metadata": {},
   "source": [
    "Из графиков и численных значений видим, что размахи продаж сильно отличаются на разных платформах, при этом медианные значения в среднем примерно на одном уровне 0,1 - 0,2 млн копий. Большое количество выбросов на определенных платформах говорит о том, что у некоторых игр этих платформ были большие продажи."
   ]
  },
  {
   "cell_type": "markdown",
   "metadata": {},
   "source": [
    "### Влияние отзывов на продажи"
   ]
  },
  {
   "cell_type": "markdown",
   "metadata": {},
   "source": [
    "Для анализа влияния оценок пользоваталей и критиков на продажи исследуем данные по платформе PS4:"
   ]
  },
  {
   "cell_type": "code",
   "execution_count": 26,
   "metadata": {},
   "outputs": [],
   "source": [
    "# сделаем сводную таблицу по платформе PS4\n",
    "corr_score = (\n",
    "    actual_df.query('platform == \"PS4\"')\n",
    "    .pivot_table(index='total_sales', values=['user_score', 'critic_score'], aggfunc='median')\n",
    "    .reset_index()\n",
    "    \n",
    ") "
   ]
  },
  {
   "cell_type": "code",
   "execution_count": 27,
   "metadata": {},
   "outputs": [
    {
     "data": {
      "image/png": "[encoded data removed]",
      "text/plain": [
       "<Figure size 432x288 with 1 Axes>"
      ]
     },
     "metadata": {
      "needs_background": "light"
     },
     "output_type": "display_data"
    },
    {
     "data": {
      "image/png": "[encoded data removed]",
      "text/plain": [
       "<Figure size 432x288 with 1 Axes>"
      ]
     },
     "metadata": {
      "needs_background": "light"
     },
     "output_type": "display_data"
    }
   ],
   "source": [
    "for name in ['critic_score', 'user_score']:\n",
    "    corr_score.plot(x=name, y='total_sales', kind='scatter').set(title='Влияние на продажи внутри платформы PS4',\n",
    "                                                                 ylabel='Миллионы проданных копий');\n"
   ]
  },
  {
   "cell_type": "code",
   "execution_count": 28,
   "metadata": {
    "scrolled": false
   },
   "outputs": [
    {
     "data": {
      "image/png": "[encoded data removed]",
      "text/plain": [
       "<Figure size 720x576 with 2 Axes>"
      ]
     },
     "metadata": {
      "needs_background": "light"
     },
     "output_type": "display_data"
    }
   ],
   "source": [
    "plt.figure(figsize=(10,8))\n",
    "sns.heatmap(corr_score.corr(),  annot=True, cmap='Blues', fmt='.2f');"
   ]
  },
  {
   "cell_type": "markdown",
   "metadata": {},
   "source": [
    "Умеренная зависимость продаж от оценок критиков. С ростом оценки критиков растут объемы продаж, при этом разброс продаж также увеличивается. Что не скажешь о оценке пользователей. В данном случае зависимость отрицательная. оценки пользователей не влияют на продажи.\n",
    "\n",
    "\n",
    "Посмотрим на зависимость продаж от оценок критиков и пользователей по другим платформам"
   ]
  },
  {
   "cell_type": "code",
   "execution_count": 29,
   "metadata": {
    "scrolled": false
   },
   "outputs": [
    {
     "data": {
      "image/png": "[encoded data removed]",
      "text/plain": [
       "<Figure size 432x288 with 1 Axes>"
      ]
     },
     "metadata": {
      "needs_background": "light"
     },
     "output_type": "display_data"
    },
    {
     "data": {
      "image/png": "[encoded data removed]",
      "text/plain": [
       "<Figure size 432x288 with 1 Axes>"
      ]
     },
     "metadata": {
      "needs_background": "light"
     },
     "output_type": "display_data"
    },
    {
     "data": {
      "image/png": "[encoded data removed]",
      "text/plain": [
       "<Figure size 432x288 with 1 Axes>"
      ]
     },
     "metadata": {
      "needs_background": "light"
     },
     "output_type": "display_data"
    },
    {
     "data": {
      "image/png": "[encoded data removed]",
      "text/plain": [
       "<Figure size 432x288 with 1 Axes>"
      ]
     },
     "metadata": {
      "needs_background": "light"
     },
     "output_type": "display_data"
    }
   ],
   "source": [
    "per_plat = ['XOne','3DS']\n",
    "\n",
    "for p in per_plat:\n",
    "    XOne_3DS = (\n",
    "        actual_df.query('platform == @p')\n",
    "        .pivot_table(index='total_sales', values=['user_score', 'critic_score'], aggfunc='median')\n",
    "        .reset_index()\n",
    "    )\n",
    "    for name in ['critic_score', 'user_score']:\n",
    "        XOne_3DS.plot(x=name, y='total_sales', kind='scatter').set(title=f'Влияние на продажи внутри платформы {p}',\n",
    "                                                                 ylabel='Миллионы проданных копий');\n"
   ]
  },
  {
   "cell_type": "code",
   "execution_count": 30,
   "metadata": {
    "scrolled": false
   },
   "outputs": [
    {
     "data": {
      "image/png": "[encoded data removed]",
      "text/plain": [
       "<Figure size 720x576 with 2 Axes>"
      ]
     },
     "metadata": {
      "needs_background": "light"
     },
     "output_type": "display_data"
    },
    {
     "data": {
      "image/png": "[encoded data removed]",
      "text/plain": [
       "<Figure size 720x576 with 2 Axes>"
      ]
     },
     "metadata": {
      "needs_background": "light"
     },
     "output_type": "display_data"
    }
   ],
   "source": [
    "per_plat = ['XOne','3DS']\n",
    "for p in per_plat:\n",
    "    XOne_3DS = (\n",
    "        actual_df.query('platform == @p')\n",
    "        .pivot_table(index='total_sales', values=['user_score', 'critic_score'], aggfunc='median')\n",
    "        .reset_index()\n",
    "    )\n",
    "    plt.figure(figsize=(10,8))\n",
    "    sns.heatmap(XOne_3DS.corr(),  annot=True, cmap='Blues', fmt='.2f');"
   ]
  },
  {
   "cell_type": "markdown",
   "metadata": {},
   "source": [
    "Зависимость оценок критиков по платформам XOne и 3DS также есть, у платформы 3DS она больше.\n",
    "Зависимость от оценок пользователей немного меняется. Так по платформе XOne она так же отрицательная, а вот 3DS зависит от оценок пользователей больше, чем другие сравниваемые платформы."
   ]
  },
  {
   "cell_type": "markdown",
   "metadata": {},
   "source": [
    "### Распределение игр по жанрам"
   ]
  },
  {
   "cell_type": "code",
   "execution_count": 31,
   "metadata": {
    "scrolled": true
   },
   "outputs": [
    {
     "data": {
      "image/png": "[encoded data removed]",
      "text/plain": [
       "<Figure size 1080x288 with 1 Axes>"
      ]
     },
     "metadata": {
      "needs_background": "light"
     },
     "output_type": "display_data"
    }
   ],
   "source": [
    "# построим график распределения общих продаж по жанрам.\n",
    "(\n",
    "    actual_df.pivot_table(index='genre', values='total_sales', aggfunc='sum')\n",
    "    .sort_values(by= 'total_sales', ascending=False)\n",
    "    .plot(kind='bar', figsize=(15,4)).set(title='Распределение игр по жанрам',\n",
    "                                          xlabel='Жанры',\n",
    "                                          ylabel='Общие продажи')\n",
    ");"
   ]
  },
  {
   "cell_type": "markdown",
   "metadata": {},
   "source": [
    "Исходя из графика - лидер продаж - жанр экшн, на втором месте шутеры и так далее по графику.\n",
    "\n",
    "Из одного графика сложно понять так ли это. Попробуем посмотреть на количество игр по жанрам, т.к. от  количества также зависят суммарные продажи."
   ]
  },
  {
   "cell_type": "code",
   "execution_count": 32,
   "metadata": {
    "scrolled": true
   },
   "outputs": [
    {
     "data": {
      "image/png": "[encoded data removed]",
      "text/plain": [
       "<Figure size 1080x288 with 1 Axes>"
      ]
     },
     "metadata": {
      "needs_background": "light"
     },
     "output_type": "display_data"
    }
   ],
   "source": [
    "# построим график распределения количество игр по жанрам.\n",
    "(\n",
    "    actual_df.pivot_table(index='genre', values='total_sales', aggfunc='count')\n",
    "    .sort_values(by='total_sales', ascending=False)\n",
    "    .plot(kind='bar', figsize=(15,4)).set(title='Распределение игр по жанрам',\n",
    "                                          xlabel='Жанры',\n",
    "                                          ylabel='Количество игр')\n",
    ");"
   ]
  },
  {
   "cell_type": "code",
   "execution_count": 33,
   "metadata": {
    "scrolled": false
   },
   "outputs": [
    {
     "data": {
      "image/png": "[encoded data removed]",
      "text/plain": [
       "<Figure size 1080x576 with 1 Axes>"
      ]
     },
     "metadata": {
      "needs_background": "light"
     },
     "output_type": "display_data"
    }
   ],
   "source": [
    "plt.figure(figsize=(15, 8))\n",
    "sns.boxplot(data = actual_df, y = 'total_sales', x='genre').set(\n",
    "    title = 'Продажи по жанрам за 2014-2016 гг', xlabel = 'Жанр', ylabel = 'Общие продажи');"
   ]
  },
  {
   "cell_type": "code",
   "execution_count": 34,
   "metadata": {
    "scrolled": true
   },
   "outputs": [
    {
     "data": {
      "text/html": [
       "<div>\n",
       "<style scoped>\n",
       "    .dataframe tbody tr th:only-of-type {\n",
       "        vertical-align: middle;\n",
       "    }\n",
       "\n",
       "    .dataframe tbody tr th {\n",
       "        vertical-align: top;\n",
       "    }\n",
       "\n",
       "    .dataframe thead th {\n",
       "        text-align: right;\n",
       "    }\n",
       "</style>\n",
       "<table border=\"1\" class=\"dataframe\">\n",
       "  <thead>\n",
       "    <tr style=\"text-align: right;\">\n",
       "      <th></th>\n",
       "      <th>name</th>\n",
       "      <th>platform</th>\n",
       "      <th>year_of_release</th>\n",
       "      <th>genre</th>\n",
       "      <th>na_sales</th>\n",
       "      <th>eu_sales</th>\n",
       "      <th>jp_sales</th>\n",
       "      <th>other_sales</th>\n",
       "      <th>critic_score</th>\n",
       "      <th>user_score</th>\n",
       "      <th>rating</th>\n",
       "      <th>total_sales</th>\n",
       "    </tr>\n",
       "  </thead>\n",
       "  <tbody>\n",
       "    <tr>\n",
       "      <th>31</th>\n",
       "      <td>Call of Duty: Black Ops 3</td>\n",
       "      <td>PS4</td>\n",
       "      <td>2015</td>\n",
       "      <td>Shooter</td>\n",
       "      <td>6.03</td>\n",
       "      <td>5.86</td>\n",
       "      <td>0.36</td>\n",
       "      <td>2.38</td>\n",
       "      <td>NaN</td>\n",
       "      <td>NaN</td>\n",
       "      <td>unknown</td>\n",
       "      <td>14.63</td>\n",
       "    </tr>\n",
       "    <tr>\n",
       "      <th>42</th>\n",
       "      <td>Grand Theft Auto V</td>\n",
       "      <td>PS4</td>\n",
       "      <td>2014</td>\n",
       "      <td>Action</td>\n",
       "      <td>3.96</td>\n",
       "      <td>6.31</td>\n",
       "      <td>0.38</td>\n",
       "      <td>1.97</td>\n",
       "      <td>97.0</td>\n",
       "      <td>8.3</td>\n",
       "      <td>M</td>\n",
       "      <td>12.62</td>\n",
       "    </tr>\n",
       "    <tr>\n",
       "      <th>47</th>\n",
       "      <td>Pokemon Omega Ruby/Pokemon Alpha Sapphire</td>\n",
       "      <td>3DS</td>\n",
       "      <td>2014</td>\n",
       "      <td>Role-Playing</td>\n",
       "      <td>4.35</td>\n",
       "      <td>3.49</td>\n",
       "      <td>3.10</td>\n",
       "      <td>0.74</td>\n",
       "      <td>NaN</td>\n",
       "      <td>NaN</td>\n",
       "      <td>unknown</td>\n",
       "      <td>11.68</td>\n",
       "    </tr>\n",
       "  </tbody>\n",
       "</table>\n",
       "</div>"
      ],
      "text/plain": [
       "                                         name platform  year_of_release  \\\n",
       "31                  Call of Duty: Black Ops 3      PS4             2015   \n",
       "42                         Grand Theft Auto V      PS4             2014   \n",
       "47  Pokemon Omega Ruby/Pokemon Alpha Sapphire      3DS             2014   \n",
       "\n",
       "           genre  na_sales  eu_sales  jp_sales  other_sales  critic_score  \\\n",
       "31       Shooter      6.03      5.86      0.36         2.38           NaN   \n",
       "42        Action      3.96      6.31      0.38         1.97          97.0   \n",
       "47  Role-Playing      4.35      3.49      3.10         0.74           NaN   \n",
       "\n",
       "    user_score   rating  total_sales  \n",
       "31         NaN  unknown        14.63  \n",
       "42         8.3        M        12.62  \n",
       "47         NaN  unknown        11.68  "
      ]
     },
     "execution_count": 34,
     "metadata": {},
     "output_type": "execute_result"
    }
   ],
   "source": [
    "actual_df.query('total_sales > 11')"
   ]
  },
  {
   "cell_type": "markdown",
   "metadata": {},
   "source": [
    "GTA - не стареющая классика) "
   ]
  },
  {
   "cell_type": "code",
   "execution_count": 35,
   "metadata": {
    "scrolled": true
   },
   "outputs": [
    {
     "data": {
      "image/png": "[encoded data removed]",
      "text/plain": [
       "<Figure size 1080x576 with 1 Axes>"
      ]
     },
     "metadata": {
      "needs_background": "light"
     },
     "output_type": "display_data"
    }
   ],
   "source": [
    "plt.figure(figsize=(15, 8))\n",
    "sns.boxplot(data = actual_df, y = 'total_sales', x='genre').set(\n",
    "    title = 'Продажи по жанрам за 2014-2016 гг', xlabel = 'Жанр', ylabel = 'Общие продажи', ylim=(0, 2));"
   ]
  },
  {
   "cell_type": "markdown",
   "metadata": {},
   "source": [
    "Явный фаворит по количеству вышедших игр - жанр  экшн, этим можно обьяснить результат общих продаж.Чем больше количество, тем больше продажи по жанру.\n",
    "\n",
    "В свою очередь наиболее прибыльным жанром однозначно являются шутеры. Из последнх графиком можно увидеть, что количество игр в данном жанре гораздо меньше, чем Экшн-игр, продажи игр в жанре \"шутер\" более стабильны."
   ]
  },
  {
   "cell_type": "markdown",
   "metadata": {},
   "source": [
    "### Промежуточные выводы"
   ]
  },
  {
   "cell_type": "markdown",
   "metadata": {},
   "source": [
    "На этапе ИА:\n",
    "\n",
    "1. Посмотрели на количество выпущенных игр по годам, избавились от редких значений (80, 83-90  года).\n",
    "2. Определили жизненный цикл и актуальный период (3 года) для проведения прогнозирования следующий год.\n",
    "3. Определили популярные платформы. Потенциально прибыльными считаем PS4, XOne и 3DS.\n",
    "4. Построили  график \"ящик  с усами\":\n",
    "- Размахи продаж сильно отличаются на разных платформах, при этом медианные значения в среднем примерно на одном уровне 0,1 - 0,2 млн копий. Большое количество выбросов на определенных платформах говорит о том, что у некоторых игр этих платформ были большие продажи.\n",
    "5. Оценили влияние оценок на продажи.\n",
    "- **PS** Умеренная зависимость продаж от оценок критиков. С ростом оценки критиков растут объемы продаж, при этом разброс продаж также увеличивается. Что не скажешь о оценке пользователей. В данном случае зависимость отрицательная. оценки пользователей не влияют на продажи.\n",
    "- **XOne** и **3DS** Зависимость оценок критиков по платформам XOne и 3DS также есть, у платформы 3DS она больше. Зависимость от оценок пользователей немного меняется. Так по платформе XOne она так же отрицательная, а вот 3DS зависит от оценок пользователей больше, чем другие сравниваемые платформы.\n",
    "6. Оценили продажи игр по жанрам.\n",
    "- Экшн-игры лидируют по  продажам за счет большого количества выпущенных игр, при этом на 1 игру в жанрах  шутер и спорт приходится больше продаж, чем на 1 игру жанра экшн."
   ]
  },
  {
   "cell_type": "markdown",
   "metadata": {},
   "source": [
    "## Портрет пользователя каждого региона"
   ]
  },
  {
   "cell_type": "markdown",
   "metadata": {},
   "source": [
    "### Самые популярные платформы (топ-5)."
   ]
  },
  {
   "cell_type": "code",
   "execution_count": 36,
   "metadata": {},
   "outputs": [],
   "source": [
    "def popular_platf(val) :\n",
    "    top_5 = actual_df.groupby('platform')[[val]].sum().sort_values(by=val, ascending=False).head().reset_index()\n",
    "    t = actual_df.groupby('platform')[[val]].sum().sort_values(by=val, ascending=False)[5:]\n",
    "    others = {'platform': 'others_platform', val: t[val].sum()}\n",
    "    top5_and_others = top_5.append(others, ignore_index=True).set_index('platform')\n",
    "    return top5_and_others\n",
    "   "
   ]
  },
  {
   "cell_type": "code",
   "execution_count": 37,
   "metadata": {},
   "outputs": [
    {
     "data": {
      "image/png": "[encoded data removed]",
      "text/plain": [
       "<Figure size 1440x576 with 3 Axes>"
      ]
     },
     "metadata": {},
     "output_type": "display_data"
    }
   ],
   "source": [
    "fig, (ax0, ax1, ax2) = plt.subplots(1,3, sharey=True, figsize=(20,8))\n",
    "fig.suptitle('Популярные платформы по регионам', fontsize=20)\n",
    "popular_platf('na_sales').plot(kind='pie', radius=1.3,\n",
    "                               y='na_sales', legend=False, ax=ax0,\n",
    "                               autopct='%.1f%%', explode=(0.1,0.1,0.1,0.1,0.1,0.1));\n",
    "ax0.set(title='na_sales');\n",
    "\n",
    "popular_platf('eu_sales').plot(kind='pie', radius=1.3,\n",
    "                               y='eu_sales', legend=False, ax=ax1,\n",
    "                               autopct='%.1f%%', explode=(0.1,0.1,0.1,0.1,0.1,0.1));\n",
    "ax1.set(title='eu_sales');\n",
    "\n",
    "popular_platf('jp_sales').plot(kind='pie', radius=1.3,\n",
    "                               y='jp_sales', legend=False, ax=ax2,\n",
    "                               autopct='%.1f%%', explode=(0.1,0.1,0.1,0.1,0.1,0.1));\n",
    "ax2.set(title='jp_sales');"
   ]
  },
  {
   "cell_type": "markdown",
   "metadata": {},
   "source": [
    "В Северной   Америке и Европе популярнее всего PS4. Причем в Северной америке разрыв не такой большой, как в Европе  (В европе разрыв составляет 31,4%). Лично меня в Sony привлекают  качественные эксклюзивки (к примеру God of War, или всякие игры  на компанию). Не исключено, что у данной платформы гораздо  мощнее рекламные кампании.\n",
    "\n",
    "В Японии весь топ занимают японские платформы. С гигантским разрывом лидирует платформа 3DS. Можно заметить, что в топ 3 попадают портативные консоли 3DS и PSV. Что не скажешь о Северной Америке и Европе, где 3DS занимает 4 и  5 места соответственно. "
   ]
  },
  {
   "cell_type": "code",
   "execution_count": 38,
   "metadata": {},
   "outputs": [
    {
     "data": {
      "image/png": "[encoded data removed]",
      "text/plain": [
       "<Figure size 1224x432 with 3 Axes>"
      ]
     },
     "metadata": {},
     "output_type": "display_data"
    }
   ],
   "source": [
    "# check \n",
    "\n",
    "fig, (ax0, ax1, ax2) = plt.subplots(1,3, figsize=(17,6))\n",
    "fig.suptitle('Популярные платформы по регионам', fontsize=20)\n",
    "popular_platf('na_sales').plot(kind='pie', \n",
    "                               y='na_sales', legend=False, ax=ax0,\n",
    "                               autopct='%.0f%%', textprops={'size': 'x-large'});\n",
    "ax0.set(title='na_sales', ylabel='');\n",
    "\n",
    "popular_platf('eu_sales').plot(kind='pie', \n",
    "                               y='eu_sales', legend=False, ax=ax1,\n",
    "                               autopct='%.0f%%', textprops={'size': 'x-large'});\n",
    "ax1.set(title='eu_sales', ylabel='');\n",
    "\n",
    "popular_platf('jp_sales').plot(kind='pie',  y='jp_sales', legend=False, ax=ax2,\n",
    "                               autopct='%.0f%%', textprops={'size': 'x-large'},\n",
    "                               wedgeprops={'linewidth': 3.0, 'edgecolor': 'white'});\n",
    "ax2.set(title='jp_sales', ylabel='')\n",
    "plt.tight_layout();"
   ]
  },
  {
   "cell_type": "markdown",
   "metadata": {},
   "source": [
    "### Самые популярные жанры (топ-5)."
   ]
  },
  {
   "cell_type": "code",
   "execution_count": 39,
   "metadata": {},
   "outputs": [],
   "source": [
    "def popular_genre (val):\n",
    "    top_5 = actual_df.groupby('genre')[[val]].sum().sort_values(by=val, ascending=False).head().reset_index()\n",
    "    t = actual_df.groupby('genre')[[val]].sum().sort_values(by=val, ascending=False)[5:]\n",
    "    others = {'genre': 'others_genres', val: t[val].sum()}\n",
    "    top5_and_others = top_5.append(others, ignore_index=True).set_index('genre')\n",
    "    top5_and_others.plot(kind='pie', radius=1.6, y=val, legend=False, autopct='%.1f%%', explode=(0.1,0.1,0.1,0.1,0.1,0.1))\n",
    "    \n",
    "    plt.title(val +'\\n'*3, size=15)\n",
    "    plt.show()"
   ]
  },
  {
   "cell_type": "code",
   "execution_count": 40,
   "metadata": {
    "scrolled": false
   },
   "outputs": [
    {
     "data": {
      "image/png": "[encoded data removed]",
      "text/plain": [
       "<Figure size 432x288 with 1 Axes>"
      ]
     },
     "metadata": {},
     "output_type": "display_data"
    },
    {
     "data": {
      "image/png": "[encoded data removed]",
      "text/plain": [
       "<Figure size 432x288 with 1 Axes>"
      ]
     },
     "metadata": {},
     "output_type": "display_data"
    },
    {
     "data": {
      "image/png": "[encoded data removed]",
      "text/plain": [
       "<Figure size 432x288 with 1 Axes>"
      ]
     },
     "metadata": {},
     "output_type": "display_data"
    }
   ],
   "source": [
    "popular_genre('na_sales')\n",
    "popular_genre('eu_sales')\n",
    "popular_genre('jp_sales')"
   ]
  },
  {
   "cell_type": "markdown",
   "metadata": {},
   "source": [
    "Картина по предпочтениям жанров американцев и европейцев похожа. Отличия минимальны. Популярные жанры Action и Shooter.\n",
    "\n",
    "На этом фоне Япония снова выделяется - первое место среди всех жанров занимают ролевые игры, а именно японские ролевые игры (JRPG), которые там безумно популярны, а так же известны во всем мире. JRPG можно смело выделить как отдельный жанр. Выше мы выяснили, что в Японии популярнее всего портативные консоли. Именно на них в огромном количестве выпускают JRPG, которые в большом количестве разрабатываются исключительно для внутреннего рынка. Поэтому там очень долго остается \"вживых\" та же PSV, которая провалилась в мировых продажах."
   ]
  },
  {
   "cell_type": "markdown",
   "metadata": {},
   "source": [
    "### Влияние рейтинга ESRB на продажи в отдельном регионе."
   ]
  },
  {
   "cell_type": "markdown",
   "metadata": {},
   "source": [
    "Для начала разберем, что такое рейтинг **ESRB**.\n",
    "\n",
    "**Entertainment Software Rating Board (ESRB)** — негосударственная организация, основное направление деятельности — принятие и определение рейтингов для компьютерных видеоигр и другого развлекательного программного обеспечения в США и Канаде.\n",
    "\n",
    "Классификация рейтинга:\n",
    "\n",
    "**EC** - Для детей младшего возраста. Подходит для детей от 3 лет, неприемлемое содержание отсутствует. Примеры: Дора Исследовательница.\n",
    "\n",
    "**E** - Подходит для всех возрастных категорий. Игра не должна содержать звуков или изображений, которые могут напугать маленьких детей. Не должна использоваться ненормативная лексика. Примеры: FIFA.\n",
    "\n",
    "**E 10+** - Подходит для лиц старше 10 лет. Игра может содержать умеренные формы насилия, а некоторые сцены могут пугать детей. Примеры: Minecraft Dungeons.\n",
    "\n",
    "**T** - Подходит для лиц старше 13 лет. Игра может содержать более реалистичные и натуралистические сцены насилия. Примеры: Fortnite, Sims 4.\n",
    "\n",
    "**M** - Подходит для лиц старше 17 лет. Этот рейтинг используется, когда насилие становится реалистичным и похожим на реальную жизнь. Также может присутствовать ненормативная лексика, употребление табака, алкоголя или запрещенных наркотиков. Примеры:  Destiny 2.\n",
    "\n",
    "**AO** - Подходит для взрослых старше 18 лет. Классификация «для взрослых» используется, когда в игре присутствует крайний уровень насилия и немотивированного убийства. Также может присутствовать романтизация наркотиков, азартных игр и сексуальной активности. Примеры: Grand Theft Auto V, Fallout 4.\n",
    "\n",
    "**RP** - Категория ещё не присвоена. Играм с категорией RP еще не присвоен окончательный рейтинг ESRB."
   ]
  },
  {
   "cell_type": "code",
   "execution_count": 41,
   "metadata": {},
   "outputs": [
    {
     "data": {
      "text/plain": [
       "array(['unknown', 'M', 'E', 'T', 'E10+'], dtype=object)"
      ]
     },
     "execution_count": 41,
     "metadata": {},
     "output_type": "execute_result"
    }
   ],
   "source": [
    "actual_df['rating'].unique()"
   ]
  },
  {
   "cell_type": "code",
   "execution_count": 42,
   "metadata": {
    "scrolled": true
   },
   "outputs": [
    {
     "data": {
      "image/png": "[encoded data removed]",
      "text/plain": [
       "<Figure size 1080x216 with 1 Axes>"
      ]
     },
     "metadata": {
      "needs_background": "light"
     },
     "output_type": "display_data"
    },
    {
     "data": {
      "image/png": "[encoded data removed]",
      "text/plain": [
       "<Figure size 1080x216 with 1 Axes>"
      ]
     },
     "metadata": {
      "needs_background": "light"
     },
     "output_type": "display_data"
    },
    {
     "data": {
      "image/png": "[encoded data removed]",
      "text/plain": [
       "<Figure size 1080x216 with 1 Axes>"
      ]
     },
     "metadata": {
      "needs_background": "light"
     },
     "output_type": "display_data"
    }
   ],
   "source": [
    "for r in ['na_sales', 'eu_sales', 'jp_sales']:\n",
    "    (\n",
    "        actual_df.pivot_table(index='rating', values=r, aggfunc='sum')[r]\n",
    "        .reset_index().sort_values(by=r).set_index('rating')\n",
    "        .plot(kind='barh', figsize=(15,3))\n",
    "    );"
   ]
  },
  {
   "cell_type": "markdown",
   "metadata": {},
   "source": [
    "Геймеры из Европы и Северной Америки отдают предпочтения играм с рейтингом **М**, что соответствует  предпочтениям в жанрах (Шутеры и Экшн). В Европе игры с аналогичным рейтингом будут обозначаться **PEGI 16**. Это объясняется тем, что игры с заявкой на реализм достаточно давно претендуют на первенство в игровой индустрии, а, как правило, геймеры из Европы и Штатов раньше всех следуют тенденциям.\n",
    "\n",
    "В свою очередь пропуски в данных по рейтингу, которые мы заполнили категорией \"не известен\" имеют очень большой вес в наборе данных. \n",
    "\n",
    "И тут Япония выделяется. Очень большой вес по региону имеют значения unknown, что не удивительно, ведь рейтинг ESRB предназначен для США и Канады. В целом исследование данного региона показало, что Япония больше ориентирована на внутренний рынок платформ и игр. Большинство предпочитает игры с рейтингом **T**, в Японии обозначается как рейтинг **A** по системе **CERO**."
   ]
  },
  {
   "cell_type": "markdown",
   "metadata": {},
   "source": [
    "### Промежуточные выводы"
   ]
  },
  {
   "cell_type": "markdown",
   "metadata": {},
   "source": [
    "**1. Самые популярные жанры (топ-5):**\n",
    "\n",
    "В Северной   Америке и Европе популярнее всего PS4. Причем в Северной америке разрыв не такой большой, как в Европе  (В европе разрыв составляет 31,4%). Лично меня в Sony привлекают  качественные эксклюзивки (к примеру God of War, или всякие игры  на компанию). Не исключено, что у данной платформы гораздо  мощнее рекламные кампании.\n",
    "\n",
    "В Японии весь топ занимают японские платформы. С гигантским разрывом лидирует платформа 3DS. Можно заметить, что в топ 3 попадают портативные консоли 3DS и PSV. Что не скажешь о Северной Америке и Европе, где 3DS занимает 4 и  5 места соответственно. \n",
    "\n",
    "**2. Самые популярные платформы (топ-5).**\n",
    "\n",
    "Картина по предпочтениям жанров американцев и европейцев похожа. Отличия минимальны. Популярные жанры Action и Shooter.\n",
    "\n",
    "На этом фоне Япония снова выделяется - первое место среди всех жанров занимают ролевые игры, а именно японские ролевые игры (JRPG), которые там безумно популярны, а так же известны во всем мире. JRPG можно смело выделить как отдельный жанр. Выше мы выяснили, что в Японии популярнее всего портативные консоли. Именно на них в огромном количестве выпускают JRPG, которые в большом количестве разрабатываются исключительно для внутреннего рынка. Поэтому там очень долго остается \"вживых\" та же PSV, которая провалилась в мировых продажах.\n",
    "\n",
    "**3. Влияние рейтинга ESRB на продажи в отдельном регионе.**\n",
    "\n",
    "Геймеры из Европы и Северной Америки отдают предпочтения играм с рейтингом М, что соответствует предпочтениям в жанрах (Шутеры и Экшн). В Европе игры с аналогичным рейтингом будут обозначаться PEGI 16. Это объясняется тем, что игры с заявкой на реализм достаточно давно претендуют на первенство в игровой индустрии, а, как правило, геймеры из Европы и Штатов раньше всех следуют тенденциям.\n",
    "\n",
    "И тут Япония выделяется. Большинство предпочитает игры с рейтингом T, в Японии обозначается как рейтинг A по системе CERO.\n"
   ]
  },
  {
   "cell_type": "markdown",
   "metadata": {},
   "source": [
    "\n",
    "## Проверка гипотез"
   ]
  },
  {
   "cell_type": "markdown",
   "metadata": {},
   "source": [
    "- **Средние пользовательские рейтинги платформ Xbox One и PC одинаковые;**\n",
    "\n",
    "Нулевая гипотеза всегда формулируется так, чтобы использовать знак равенства. Проверим гипотезы с помощью t-test.\n",
    "\n",
    "Сформулируем гипотезы:\n",
    "\n",
    "**H_0:** средние пользовательские оценки (user_score) XOne = средние пользовательские оценки PC.\n",
    "\n",
    "**H_a:** средние пользовательские оценки (user_score) XOne ≠ средние пользовательские оценки PC.\n",
    "\n",
    "alpha = 0.05 — критический уровень статистической значимости, общепринятое значение в 5%."
   ]
  },
  {
   "cell_type": "code",
   "execution_count": 43,
   "metadata": {},
   "outputs": [
    {
     "name": "stdout",
     "output_type": "stream",
     "text": [
      "размер выборки платформы XOne: 165\n",
      "размер выборки платформы PC: 122\n"
     ]
    }
   ],
   "source": [
    "print('размер выборки платформы XOne:', actual_df.query('platform == \"XOne\"')['user_score'].count())\n",
    "print('размер выборки платформы PC:', actual_df.query('platform == \"PC\"')['user_score'].count())"
   ]
  },
  {
   "cell_type": "markdown",
   "metadata": {},
   "source": [
    "Так как выборки разного размера, параметр equal_var возьмем как False"
   ]
  },
  {
   "cell_type": "code",
   "execution_count": 44,
   "metadata": {},
   "outputs": [
    {
     "name": "stdout",
     "output_type": "stream",
     "text": [
      "0.11601398086668943\n",
      "Не получилось отвергнуть нулевую гипотезу\n"
     ]
    }
   ],
   "source": [
    "# results = вызов метода для проверки гипотезы\n",
    "results = st.ttest_ind(\n",
    "    actual_df.query('platform == \"XOne\"')['user_score'],\n",
    "    actual_df.query('platform == \"PC\"')['user_score'], \n",
    "    equal_var = False, nan_policy='omit'\n",
    ")\n",
    "# alpha\n",
    "alpha = .05\n",
    "# вывод значения p-value на экран\n",
    "print(results.pvalue)\n",
    "# условный оператор с выводом строки с ответом\n",
    "if results.pvalue < alpha:\n",
    "    print('Отвергаем нулевую гипотезу')\n",
    "else:\n",
    "    print('Не получилось отвергнуть нулевую гипотезу')"
   ]
  },
  {
   "cell_type": "markdown",
   "metadata": {},
   "source": [
    "**p-value** - Это вероятность получить наблюдаемый или еще более далекий от предполагаемого результат при условии, что нулевая гипотеза верна.\n",
    "\n",
    "Средние пользовательские оценки на XOne и PC приблизительно равны. Возможно, потому что обе платформы от Microsoft и  большинство игр могут быть общими для двух платформ, соответственно и оценки - общие."
   ]
  },
  {
   "cell_type": "code",
   "execution_count": 45,
   "metadata": {},
   "outputs": [
    {
     "name": "stdout",
     "output_type": "stream",
     "text": [
      "p-значение: 0.1912450522572209\n",
      "Не получилось отвергнуть нулевую гипотезу\n"
     ]
    }
   ],
   "source": [
    "# Приведены два датасета: сумма покупок, совершённых за месяц посетителями ...\n",
    "\n",
    "sample_1 = [3071, 3636, 3454, 3151, 2185, 3259, 1727, 2263, 2015,\n",
    "2582, 4815, 633, 3186, 887, 2028, 3589, 2564, 1422, 1785,\n",
    "3180, 1770, 2716, 2546, 1848, 4644, 3134, 475, 2686,\n",
    "1838, 3352]\n",
    "sample_2 = [1211, 1228, 2157, 3699, 600, 1898, 1688, 1420, 5048, 3007,\n",
    "509, 3777, 5583, 3949, 121, 1674, 4300, 1338, 3066,\n",
    "3562, 1010, 2311, 462, 863, 2021, 528, 1849, 255,\n",
    "1740, 2596]\n",
    "alpha = .05 # критический уровень статистической значимости\n",
    "# если p-value окажется меньше него - отвергнем гипотезу\n",
    "results = st.ttest_ind(\n",
    "sample_1,\n",
    "sample_2)\n",
    "print('p-значение:', results.pvalue)\n",
    "if (results.pvalue < alpha):\n",
    "    print(\"Отвергаем нулевую гипотезу\")\n",
    "else:\n",
    "\n",
    "    print(\"Не получилось отвергнуть нулевую гипотезу\")"
   ]
  },
  {
   "cell_type": "markdown",
   "metadata": {},
   "source": [
    "- **Средние пользовательские рейтинги жанров Action (англ. «действие», экшен-игры) и Sports (англ. «спортивные соревнования») разные.**\n"
   ]
  },
  {
   "cell_type": "markdown",
   "metadata": {},
   "source": [
    "Нулевая гипотеза всегда формулируется так, чтобы использовать знак равенства. Также используем t-test.\n",
    "\n",
    "Сформулируем гипотезы:\n",
    "\n",
    "**H_0:** средние пользовательские рейтинги жанров Action и Sports равны\n",
    "\n",
    "**H_a:** средние пользовательские рейтинги жанров Action и Sports различаются\n",
    "\n",
    "alpha = 0.05 — критический уровень статистической значимости, общепринятое значение в 5%."
   ]
  },
  {
   "cell_type": "code",
   "execution_count": 46,
   "metadata": {},
   "outputs": [
    {
     "name": "stdout",
     "output_type": "stream",
     "text": [
      "размер выборки жанра Action: 297\n",
      "размер выборки жанра Sports: 127\n"
     ]
    }
   ],
   "source": [
    "print('размер выборки жанра Action:', actual_df.query('genre == \"Action\"')['user_score'].count())\n",
    "print('размер выборки жанра Sports:', actual_df.query('genre == \"Sports\"')['user_score'].count())"
   ]
  },
  {
   "cell_type": "markdown",
   "metadata": {},
   "source": [
    "Так как выборки разного размера, параметр equal_var возьмем как False"
   ]
  },
  {
   "cell_type": "code",
   "execution_count": 47,
   "metadata": {},
   "outputs": [
    {
     "name": "stdout",
     "output_type": "stream",
     "text": [
      "1.182555038264477e-14\n",
      "Отвергаем нулевую гипотезу\n"
     ]
    }
   ],
   "source": [
    "# results = вызов метода для проверки гипотезы\n",
    "results = st.ttest_ind(\n",
    "    actual_df.query('genre == \"Action\"')['user_score'],\n",
    "    actual_df.query('genre == \"Sports\"')['user_score'], \n",
    "    equal_var = False, nan_policy='omit'\n",
    ")\n",
    "# alpha\n",
    "alpha = .05\n",
    "# вывод значения p-value на экран\n",
    "print(results.pvalue)\n",
    "# условный оператор с выводом строки с ответом\n",
    "if results.pvalue < alpha:\n",
    "    print('Отвергаем нулевую гипотезу')\n",
    "else:\n",
    "    print('Не получилось отвергнуть нулевую гипотезу')"
   ]
  },
  {
   "cell_type": "markdown",
   "metadata": {},
   "source": [
    "Средние пользовательские рейтинги жанров Action и Sports разные."
   ]
  },
  {
   "cell_type": "markdown",
   "metadata": {},
   "source": [
    "## Общий вывод"
   ]
  },
  {
   "cell_type": "markdown",
   "metadata": {},
   "source": [
    "В ходе проведения проекта  мы проделали большую работу.\n",
    "\n",
    "- ***Обработали и подготовили данные к анализу.*** \n",
    "1. Переименовали все столбцы, перевели в нижний регистр.\n",
    "2. Обработали пропуски. Пропуски в наименвоании игры и жанре могли возникнуть по техническим причинам. Возможно для игры не был определен конкретный жанр. В любом случае пропусков было мало и мы от них избавились. По году выпуска игры причинами пропусков также могли послужить технические причины, возможно датафрейм был получен в результате обработки более большого набора данных, где были ошибки в определении и выделении года выпуска игры, что и привело к пропускам. Пропуски по рейтингу ESRB могли возникнуть из-за сущности самого рейтинга. Данный рейниг ориентирован на  рынок США и Канады. Для устранения прпоусков можно было взять также рейтинги для Европы и Японии (**PEGI** **CERO**)\n",
    "3. Добавили в датафрейм столбцец с суммарными продажами по всем регионам\n",
    "\n",
    "- ***Провели исследовательский анализ.***\n",
    "1. Посмотрели на количество выпущенных игр по годам, избавились от редких значений (80, 83-90  года).\n",
    "2. Определили жизненный цикл и актуальный период (3 года) для проведения прогнозирования следующий год.\n",
    "3. Определили популярные платформы. Потенциально прибыльными считаем PS4, XOne и 3DS, а также PC.\n",
    "4. Построили  график \"ящик  с усами\":\n",
    "Размахи продаж сильно отличаются на разных платформах, при этом медианные значения в среднем примерно на одном уровне 0,1 - 0,2 млн копий. Большое количество выбросов на определенных платформах говорит о том, что у некоторых игр этих платформ были большие продажи.\n",
    "5. Оценили влияние оценок на продажи.\n",
    "\n",
    "**PS** Умеренная зависимость продаж от оценок критиков. С ростом оценки критиков растут объемы продаж, при этом разброс продаж также увеличивается. Что не скажешь о оценке пользователей. В данном случае зависимость отрицательная. оценки пользователей не влияют на продажи.\n",
    "\n",
    "**XOne** и **3DS** Зависимость оценок критиков по платформам XOne и 3DS также есть, у платформы 3DS она больше. Зависимость от оценок пользователей немного меняется. Так по платформе XOne она так же отрицательная, а вот 3DS зависит от оценок пользователей больше, чем другие сравниваемые платформы.\n",
    "6. Оценили продажи игр по жанрам.\n",
    "\n",
    "Экшн-игры лидируют по  продажам за счет большого количества выпущенных игр, при этом на 1 игру в жанрах  шутер и спорт приходится больше продаж, чем на 1 игру жанра экшн.\n",
    "\n",
    "- ***Построили портрет пользователя каждого региона.***\n",
    "1. Самые популярные жанры (топ-5):\n",
    "\n",
    "В Северной   Америке и Европе популярнее всего PS4. Причем в Северной америке разрыв не такой большой, как в Европе  (В европе разрыв составляет 31,4%). Лично меня в Sony привлекают  качественные эксклюзивки (к примеру God of War, или всякие игры  на компанию). Не исключено, что у данной платформы гораздо  мощнее рекламные кампании.\n",
    "\n",
    "В Японии весь топ занимают японские платформы. С гигантским разрывом лидирует платформа 3DS. Можно заметить, что в топ 3 попадают портативные консоли 3DS и PSV. Что не скажешь о Северной Америке и Европе, где 3DS занимает 4 и  5 места соответственно. \n",
    "\n",
    "2. Самые популярные платформы (топ-5).\n",
    "\n",
    "Картина по предпочтениям жанров американцев и европейцев похожа. Отличия минимальны. Популярные жанры Action и Shooter.\n",
    "\n",
    "На этом фоне Япония снова выделяется - первое место среди всех жанров занимают ролевые игры, а именно японские ролевые игры (JRPG), которые там безумно популярны, а так же известны во всем мире. JRPG можно смело выделить как отдельный жанр. Выше мы выяснили, что в Японии популярнее всего портативные консоли. Именно на них в огромном количестве выпускают JRPG, которые в большом количестве разрабатываются исключительно для внутреннего рынка. Поэтому там очень долго остается \"вживых\" та же PSV, которая провалилась в мировых продажах.\n",
    "\n",
    "3. Влияние рейтинга ESRB на продажи в отдельном регионе.\n",
    "\n",
    "Геймеры из Европы и Северной Америки отдают предпочтения играм с рейтингом **М**, что соответствует  предпочтениям в жанрах (Шутеры и Экшн). В Европе игры с аналогичным рейтингом будут обозначаться **PEGI 16**. Это объясняется тем, что игры с заявкой на реализм достаточно давно претендуют на первенство в игровой индустрии, а, как правило, геймеры из Европы и Штатов раньше всех следуют тенденциям.\n",
    "\n",
    "В свою очередь пропуски в данных по рейтингу, которые мы заполнили категорией \"не известен\" имеют очень большой вес в наборе данных. \n",
    "\n",
    "И тут Япония выделяется. Очень большой вес по региону имеют значения unknown, что не удивительно, ведь рейтинг ESRB предназначен для США и Канады. В целом исследование данного региона показало, что Япония больше ориентирована на внутренний рынок платформ и игр. Большинство предпочитает игры с рейтингом **T**, в Японии обозначается как рейтинг **A** по системе **CERO**.\n",
    "\n",
    "- ***Провели проверку гипотез.***\n",
    "1. Средние пользовательские рейтинги платформ Xbox One и PC одинаковые.\n",
    "\n",
    "Средние пользовательские оценки на XOne и PC приблизительно равны. Возможно, потому что обе платформы от Microsoft и большинство игр могут быть общими для двух платформ, соответственно и оценки - общие.\n",
    "\n",
    "2.  Средние пользовательские рейтинги жанров Action (англ. «действие», экшен-игры) и Sports (англ. «спортивные соревнования») разные.\n",
    "\n",
    "Средние пользовательские рейтинги жанров Action и Sports разные."
   ]
  },
  {
   "cell_type": "markdown",
   "metadata": {},
   "source": [
    "Спасибо!"
   ]
  },
  {
   "cell_type": "code",
   "execution_count": null,
   "metadata": {},
   "outputs": [],
   "source": []
  }
 ],
 "metadata": {
  "ExecuteTimeLog": [
   {
    "duration": 452,
    "start_time": "2022-12-23T09:06:39.079Z"
   },
   {
    "duration": 96,
    "start_time": "2022-12-23T09:07:16.574Z"
   },
   {
    "duration": 26,
    "start_time": "2022-12-23T09:07:25.852Z"
   },
   {
    "duration": 14,
    "start_time": "2022-12-23T09:08:04.358Z"
   },
   {
    "duration": 13,
    "start_time": "2022-12-23T09:08:17.765Z"
   },
   {
    "duration": 510,
    "start_time": "2022-12-25T10:05:43.321Z"
   },
   {
    "duration": 414,
    "start_time": "2022-12-25T10:05:43.833Z"
   },
   {
    "duration": 24,
    "start_time": "2022-12-25T10:05:44.249Z"
   },
   {
    "duration": 15,
    "start_time": "2022-12-25T10:05:44.275Z"
   },
   {
    "duration": 66,
    "start_time": "2022-12-25T10:07:46.299Z"
   },
   {
    "duration": 7,
    "start_time": "2022-12-25T10:09:06.812Z"
   },
   {
    "duration": 3,
    "start_time": "2022-12-25T10:11:09.443Z"
   },
   {
    "duration": 8,
    "start_time": "2022-12-25T10:11:18.897Z"
   },
   {
    "duration": 10,
    "start_time": "2022-12-25T10:11:29.183Z"
   },
   {
    "duration": 7,
    "start_time": "2022-12-25T10:14:51.898Z"
   },
   {
    "duration": 7,
    "start_time": "2022-12-25T10:17:03.579Z"
   },
   {
    "duration": 6,
    "start_time": "2022-12-25T10:17:07.349Z"
   },
   {
    "duration": 2,
    "start_time": "2022-12-25T10:17:10.217Z"
   },
   {
    "duration": 59,
    "start_time": "2022-12-25T10:17:10.221Z"
   },
   {
    "duration": 17,
    "start_time": "2022-12-25T10:17:10.281Z"
   },
   {
    "duration": 26,
    "start_time": "2022-12-25T10:17:10.300Z"
   },
   {
    "duration": 24,
    "start_time": "2022-12-25T10:17:10.328Z"
   },
   {
    "duration": 69,
    "start_time": "2022-12-25T10:19:41.172Z"
   },
   {
    "duration": 7,
    "start_time": "2022-12-25T10:19:44.252Z"
   },
   {
    "duration": 31,
    "start_time": "2022-12-25T10:19:53.166Z"
   },
   {
    "duration": 12,
    "start_time": "2022-12-25T10:20:13.372Z"
   },
   {
    "duration": 10,
    "start_time": "2022-12-25T10:20:21.204Z"
   },
   {
    "duration": 10,
    "start_time": "2022-12-25T10:20:33.950Z"
   },
   {
    "duration": 7,
    "start_time": "2022-12-25T10:21:27.651Z"
   },
   {
    "duration": 5,
    "start_time": "2022-12-25T10:21:34.444Z"
   },
   {
    "duration": 5,
    "start_time": "2022-12-25T10:23:44.032Z"
   },
   {
    "duration": 95,
    "start_time": "2022-12-25T10:24:00.865Z"
   },
   {
    "duration": 7,
    "start_time": "2022-12-25T10:24:04.180Z"
   },
   {
    "duration": 10,
    "start_time": "2022-12-25T10:24:16.135Z"
   },
   {
    "duration": 14,
    "start_time": "2022-12-25T10:25:29.364Z"
   },
   {
    "duration": 8,
    "start_time": "2022-12-25T10:30:02.248Z"
   },
   {
    "duration": 8,
    "start_time": "2022-12-25T10:30:10.515Z"
   },
   {
    "duration": 7,
    "start_time": "2022-12-25T10:31:16.770Z"
   },
   {
    "duration": 6,
    "start_time": "2022-12-25T10:31:23.030Z"
   },
   {
    "duration": 4,
    "start_time": "2022-12-25T10:31:40.905Z"
   },
   {
    "duration": 5,
    "start_time": "2022-12-25T10:33:44.667Z"
   },
   {
    "duration": 63,
    "start_time": "2022-12-25T10:33:51.333Z"
   },
   {
    "duration": 8,
    "start_time": "2022-12-25T10:35:05.445Z"
   },
   {
    "duration": 8,
    "start_time": "2022-12-25T10:36:47.949Z"
   },
   {
    "duration": 21,
    "start_time": "2022-12-25T10:36:54.889Z"
   },
   {
    "duration": 4,
    "start_time": "2022-12-25T10:37:46.915Z"
   },
   {
    "duration": 3,
    "start_time": "2022-12-25T10:37:56.194Z"
   },
   {
    "duration": 64,
    "start_time": "2022-12-25T10:37:56.199Z"
   },
   {
    "duration": 14,
    "start_time": "2022-12-25T10:37:56.264Z"
   },
   {
    "duration": 20,
    "start_time": "2022-12-25T10:37:56.280Z"
   },
   {
    "duration": 4,
    "start_time": "2022-12-25T10:37:56.302Z"
   },
   {
    "duration": 6,
    "start_time": "2022-12-25T10:37:56.308Z"
   },
   {
    "duration": 46,
    "start_time": "2022-12-25T10:37:56.316Z"
   },
   {
    "duration": 6,
    "start_time": "2022-12-25T10:42:37.935Z"
   },
   {
    "duration": 8,
    "start_time": "2022-12-25T10:45:08.389Z"
   },
   {
    "duration": 16,
    "start_time": "2022-12-25T10:46:31.235Z"
   },
   {
    "duration": 20,
    "start_time": "2022-12-25T10:55:34.734Z"
   },
   {
    "duration": 71,
    "start_time": "2022-12-25T10:57:02.748Z"
   },
   {
    "duration": 6,
    "start_time": "2022-12-25T10:57:18.763Z"
   },
   {
    "duration": 2,
    "start_time": "2022-12-25T10:57:25.053Z"
   },
   {
    "duration": 67,
    "start_time": "2022-12-25T10:57:25.058Z"
   },
   {
    "duration": 15,
    "start_time": "2022-12-25T10:57:25.126Z"
   },
   {
    "duration": 24,
    "start_time": "2022-12-25T10:57:25.143Z"
   },
   {
    "duration": 5,
    "start_time": "2022-12-25T10:57:25.168Z"
   },
   {
    "duration": 11,
    "start_time": "2022-12-25T10:57:25.175Z"
   },
   {
    "duration": 34,
    "start_time": "2022-12-25T10:57:25.187Z"
   },
   {
    "duration": 6,
    "start_time": "2022-12-25T10:57:25.223Z"
   },
   {
    "duration": 31,
    "start_time": "2022-12-25T10:57:25.231Z"
   },
   {
    "duration": 8,
    "start_time": "2022-12-25T11:12:35.900Z"
   },
   {
    "duration": 3,
    "start_time": "2022-12-25T11:12:42.367Z"
   },
   {
    "duration": 56,
    "start_time": "2022-12-25T11:12:42.372Z"
   },
   {
    "duration": 15,
    "start_time": "2022-12-25T11:12:42.430Z"
   },
   {
    "duration": 36,
    "start_time": "2022-12-25T11:12:42.447Z"
   },
   {
    "duration": 4,
    "start_time": "2022-12-25T11:12:42.486Z"
   },
   {
    "duration": 9,
    "start_time": "2022-12-25T11:12:42.492Z"
   },
   {
    "duration": 22,
    "start_time": "2022-12-25T11:12:42.504Z"
   },
   {
    "duration": 8,
    "start_time": "2022-12-25T11:12:42.528Z"
   },
   {
    "duration": 26,
    "start_time": "2022-12-25T11:12:42.538Z"
   },
   {
    "duration": 334,
    "start_time": "2022-12-25T11:18:28.578Z"
   },
   {
    "duration": 18,
    "start_time": "2022-12-25T11:22:57.718Z"
   },
   {
    "duration": 3,
    "start_time": "2022-12-25T11:23:14.504Z"
   },
   {
    "duration": 12,
    "start_time": "2022-12-25T11:23:19.166Z"
   },
   {
    "duration": 13,
    "start_time": "2022-12-25T11:23:25.835Z"
   },
   {
    "duration": 20,
    "start_time": "2022-12-25T11:23:56.037Z"
   },
   {
    "duration": 11,
    "start_time": "2022-12-25T11:24:38.862Z"
   },
   {
    "duration": 18,
    "start_time": "2022-12-25T11:24:43.807Z"
   },
   {
    "duration": 19,
    "start_time": "2022-12-25T11:24:46.565Z"
   },
   {
    "duration": 10,
    "start_time": "2022-12-25T11:25:27.503Z"
   },
   {
    "duration": 6,
    "start_time": "2022-12-25T11:25:52.238Z"
   },
   {
    "duration": 3,
    "start_time": "2022-12-25T11:25:56.092Z"
   },
   {
    "duration": 63,
    "start_time": "2022-12-25T11:25:56.097Z"
   },
   {
    "duration": 17,
    "start_time": "2022-12-25T11:25:56.162Z"
   },
   {
    "duration": 25,
    "start_time": "2022-12-25T11:25:56.180Z"
   },
   {
    "duration": 5,
    "start_time": "2022-12-25T11:25:56.207Z"
   },
   {
    "duration": 13,
    "start_time": "2022-12-25T11:25:56.214Z"
   },
   {
    "duration": 35,
    "start_time": "2022-12-25T11:25:56.228Z"
   },
   {
    "duration": 7,
    "start_time": "2022-12-25T11:25:56.265Z"
   },
   {
    "duration": 16,
    "start_time": "2022-12-25T11:25:56.274Z"
   },
   {
    "duration": 6,
    "start_time": "2022-12-25T11:26:06.780Z"
   },
   {
    "duration": 3,
    "start_time": "2022-12-25T11:26:11.111Z"
   },
   {
    "duration": 63,
    "start_time": "2022-12-25T11:26:11.116Z"
   },
   {
    "duration": 16,
    "start_time": "2022-12-25T11:26:11.182Z"
   },
   {
    "duration": 20,
    "start_time": "2022-12-25T11:26:11.200Z"
   },
   {
    "duration": 6,
    "start_time": "2022-12-25T11:26:11.222Z"
   },
   {
    "duration": 25,
    "start_time": "2022-12-25T11:26:11.229Z"
   },
   {
    "duration": 20,
    "start_time": "2022-12-25T11:26:11.256Z"
   },
   {
    "duration": 7,
    "start_time": "2022-12-25T11:26:11.278Z"
   },
   {
    "duration": 16,
    "start_time": "2022-12-25T11:26:11.286Z"
   },
   {
    "duration": 734,
    "start_time": "2022-12-25T11:28:39.574Z"
   },
   {
    "duration": 53,
    "start_time": "2022-12-25T11:28:40.310Z"
   },
   {
    "duration": 18,
    "start_time": "2022-12-25T11:28:40.365Z"
   },
   {
    "duration": 16,
    "start_time": "2022-12-25T11:28:40.385Z"
   },
   {
    "duration": 5,
    "start_time": "2022-12-25T11:28:40.403Z"
   },
   {
    "duration": 12,
    "start_time": "2022-12-25T11:28:40.409Z"
   },
   {
    "duration": 49,
    "start_time": "2022-12-25T11:28:40.423Z"
   },
   {
    "duration": 8,
    "start_time": "2022-12-25T11:28:40.474Z"
   },
   {
    "duration": 14,
    "start_time": "2022-12-25T11:28:40.484Z"
   },
   {
    "duration": 98,
    "start_time": "2022-12-25T11:28:40.500Z"
   },
   {
    "duration": 6,
    "start_time": "2022-12-25T11:29:31.858Z"
   },
   {
    "duration": 5,
    "start_time": "2022-12-25T11:32:20.103Z"
   },
   {
    "duration": 5,
    "start_time": "2022-12-25T11:32:55.791Z"
   },
   {
    "duration": 4,
    "start_time": "2022-12-25T11:33:03.275Z"
   },
   {
    "duration": 3,
    "start_time": "2022-12-25T11:33:05.735Z"
   },
   {
    "duration": 56,
    "start_time": "2022-12-25T11:33:05.740Z"
   },
   {
    "duration": 19,
    "start_time": "2022-12-25T11:33:05.797Z"
   },
   {
    "duration": 33,
    "start_time": "2022-12-25T11:33:05.819Z"
   },
   {
    "duration": 6,
    "start_time": "2022-12-25T11:33:05.854Z"
   },
   {
    "duration": 13,
    "start_time": "2022-12-25T11:33:05.862Z"
   },
   {
    "duration": 23,
    "start_time": "2022-12-25T11:33:05.877Z"
   },
   {
    "duration": 8,
    "start_time": "2022-12-25T11:33:05.903Z"
   },
   {
    "duration": 44,
    "start_time": "2022-12-25T11:33:05.914Z"
   },
   {
    "duration": 5,
    "start_time": "2022-12-25T11:33:05.960Z"
   },
   {
    "duration": 5,
    "start_time": "2022-12-25T11:33:12.230Z"
   },
   {
    "duration": 3,
    "start_time": "2022-12-25T11:33:14.456Z"
   },
   {
    "duration": 61,
    "start_time": "2022-12-25T11:33:14.460Z"
   },
   {
    "duration": 14,
    "start_time": "2022-12-25T11:33:14.523Z"
   },
   {
    "duration": 18,
    "start_time": "2022-12-25T11:33:14.538Z"
   },
   {
    "duration": 7,
    "start_time": "2022-12-25T11:33:14.558Z"
   },
   {
    "duration": 8,
    "start_time": "2022-12-25T11:33:14.567Z"
   },
   {
    "duration": 25,
    "start_time": "2022-12-25T11:33:14.577Z"
   },
   {
    "duration": 7,
    "start_time": "2022-12-25T11:33:14.604Z"
   },
   {
    "duration": 13,
    "start_time": "2022-12-25T11:33:14.613Z"
   },
   {
    "duration": 5,
    "start_time": "2022-12-25T11:33:14.650Z"
   },
   {
    "duration": 19,
    "start_time": "2022-12-25T11:33:29.088Z"
   },
   {
    "duration": 24,
    "start_time": "2022-12-25T11:39:22.866Z"
   },
   {
    "duration": 631,
    "start_time": "2022-12-25T11:40:26.882Z"
   },
   {
    "duration": 53,
    "start_time": "2022-12-25T11:40:27.515Z"
   },
   {
    "duration": 18,
    "start_time": "2022-12-25T11:40:27.570Z"
   },
   {
    "duration": 16,
    "start_time": "2022-12-25T11:40:27.591Z"
   },
   {
    "duration": 5,
    "start_time": "2022-12-25T11:40:27.609Z"
   },
   {
    "duration": 8,
    "start_time": "2022-12-25T11:40:27.616Z"
   },
   {
    "duration": 43,
    "start_time": "2022-12-25T11:40:27.625Z"
   },
   {
    "duration": 8,
    "start_time": "2022-12-25T11:40:27.669Z"
   },
   {
    "duration": 16,
    "start_time": "2022-12-25T11:40:27.679Z"
   },
   {
    "duration": 21,
    "start_time": "2022-12-25T11:40:27.698Z"
   },
   {
    "duration": 108,
    "start_time": "2022-12-25T11:40:27.721Z"
   },
   {
    "duration": 8,
    "start_time": "2022-12-25T11:40:55.300Z"
   },
   {
    "duration": 16,
    "start_time": "2022-12-25T11:41:04.805Z"
   },
   {
    "duration": 17,
    "start_time": "2022-12-25T11:41:18.199Z"
   },
   {
    "duration": 17,
    "start_time": "2022-12-25T11:41:29.785Z"
   },
   {
    "duration": 10,
    "start_time": "2022-12-25T11:41:38.715Z"
   },
   {
    "duration": 14,
    "start_time": "2022-12-25T11:41:43.515Z"
   },
   {
    "duration": 8,
    "start_time": "2022-12-25T11:41:46.784Z"
   },
   {
    "duration": 13,
    "start_time": "2022-12-25T11:41:56.473Z"
   },
   {
    "duration": 338,
    "start_time": "2022-12-25T11:42:11.073Z"
   },
   {
    "duration": 320,
    "start_time": "2022-12-25T11:42:31.391Z"
   },
   {
    "duration": 318,
    "start_time": "2022-12-25T11:42:47.589Z"
   },
   {
    "duration": 93,
    "start_time": "2022-12-25T11:43:39.269Z"
   },
   {
    "duration": 12,
    "start_time": "2022-12-25T11:43:44.672Z"
   },
   {
    "duration": 17,
    "start_time": "2022-12-25T11:44:00.157Z"
   },
   {
    "duration": 16,
    "start_time": "2022-12-25T11:44:39.034Z"
   },
   {
    "duration": 11,
    "start_time": "2022-12-25T11:44:55.532Z"
   },
   {
    "duration": 10,
    "start_time": "2022-12-25T11:45:56.495Z"
   },
   {
    "duration": 80,
    "start_time": "2022-12-25T11:53:38.849Z"
   },
   {
    "duration": 346,
    "start_time": "2022-12-25T11:53:43.443Z"
   },
   {
    "duration": 401,
    "start_time": "2022-12-25T11:53:50.533Z"
   },
   {
    "duration": 352,
    "start_time": "2022-12-25T11:54:08.241Z"
   },
   {
    "duration": 378,
    "start_time": "2022-12-25T11:54:18.543Z"
   },
   {
    "duration": 448,
    "start_time": "2022-12-25T11:55:31.943Z"
   },
   {
    "duration": 320,
    "start_time": "2022-12-25T11:56:32.458Z"
   },
   {
    "duration": 17,
    "start_time": "2022-12-25T13:06:05.823Z"
   },
   {
    "duration": 37,
    "start_time": "2022-12-25T13:07:50.577Z"
   },
   {
    "duration": 3,
    "start_time": "2022-12-25T13:08:03.171Z"
   },
   {
    "duration": 54,
    "start_time": "2022-12-25T13:08:03.176Z"
   },
   {
    "duration": 15,
    "start_time": "2022-12-25T13:08:03.232Z"
   },
   {
    "duration": 20,
    "start_time": "2022-12-25T13:08:03.248Z"
   },
   {
    "duration": 5,
    "start_time": "2022-12-25T13:08:03.270Z"
   },
   {
    "duration": 10,
    "start_time": "2022-12-25T13:08:03.277Z"
   },
   {
    "duration": 26,
    "start_time": "2022-12-25T13:08:03.289Z"
   },
   {
    "duration": 8,
    "start_time": "2022-12-25T13:08:03.317Z"
   },
   {
    "duration": 34,
    "start_time": "2022-12-25T13:08:03.328Z"
   },
   {
    "duration": 19,
    "start_time": "2022-12-25T13:08:03.364Z"
   },
   {
    "duration": 352,
    "start_time": "2022-12-25T13:08:03.386Z"
   },
   {
    "duration": 41,
    "start_time": "2022-12-25T13:08:03.740Z"
   },
   {
    "duration": 77,
    "start_time": "2022-12-25T13:08:28.725Z"
   },
   {
    "duration": 37,
    "start_time": "2022-12-25T13:08:37.544Z"
   },
   {
    "duration": 840,
    "start_time": "2022-12-25T13:08:53.277Z"
   },
   {
    "duration": 8,
    "start_time": "2022-12-25T13:10:57.980Z"
   },
   {
    "duration": 287,
    "start_time": "2022-12-25T13:11:10.485Z"
   },
   {
    "duration": 290,
    "start_time": "2022-12-25T13:13:52.974Z"
   },
   {
    "duration": 9,
    "start_time": "2022-12-25T13:15:38.211Z"
   },
   {
    "duration": 144,
    "start_time": "2022-12-25T13:18:36.691Z"
   },
   {
    "duration": 320,
    "start_time": "2022-12-25T13:18:58.256Z"
   },
   {
    "duration": 320,
    "start_time": "2022-12-25T13:19:05.176Z"
   },
   {
    "duration": 202,
    "start_time": "2022-12-25T13:20:11.877Z"
   },
   {
    "duration": 297,
    "start_time": "2022-12-25T13:20:26.573Z"
   },
   {
    "duration": 304,
    "start_time": "2022-12-25T13:20:30.351Z"
   },
   {
    "duration": 314,
    "start_time": "2022-12-25T13:20:36.688Z"
   },
   {
    "duration": 340,
    "start_time": "2022-12-25T13:20:51.708Z"
   },
   {
    "duration": 18,
    "start_time": "2022-12-25T13:30:09.156Z"
   },
   {
    "duration": 17,
    "start_time": "2022-12-25T13:30:25.788Z"
   },
   {
    "duration": 305,
    "start_time": "2022-12-25T13:31:07.657Z"
   },
   {
    "duration": 429,
    "start_time": "2022-12-25T13:31:41.872Z"
   },
   {
    "duration": 298,
    "start_time": "2022-12-25T13:33:45.086Z"
   },
   {
    "duration": 75,
    "start_time": "2022-12-25T13:38:03.739Z"
   },
   {
    "duration": 283,
    "start_time": "2022-12-25T13:38:08.093Z"
   },
   {
    "duration": 279,
    "start_time": "2022-12-25T13:38:11.203Z"
   },
   {
    "duration": 529,
    "start_time": "2022-12-25T13:38:58.226Z"
   },
   {
    "duration": 530,
    "start_time": "2022-12-25T13:39:37.180Z"
   },
   {
    "duration": 686,
    "start_time": "2022-12-25T13:39:41.312Z"
   },
   {
    "duration": 555,
    "start_time": "2022-12-25T13:39:47.598Z"
   },
   {
    "duration": 8,
    "start_time": "2022-12-25T13:50:30.973Z"
   },
   {
    "duration": 16,
    "start_time": "2022-12-25T14:09:07.411Z"
   },
   {
    "duration": 215,
    "start_time": "2022-12-25T14:09:19.887Z"
   },
   {
    "duration": 200,
    "start_time": "2022-12-25T14:09:52.919Z"
   },
   {
    "duration": 10,
    "start_time": "2022-12-25T14:11:55.269Z"
   },
   {
    "duration": 3,
    "start_time": "2022-12-25T14:12:07.639Z"
   },
   {
    "duration": 3,
    "start_time": "2022-12-25T14:14:30.034Z"
   },
   {
    "duration": 70,
    "start_time": "2022-12-25T14:15:34.439Z"
   },
   {
    "duration": 190,
    "start_time": "2022-12-25T14:15:41.487Z"
   },
   {
    "duration": 1143,
    "start_time": "2022-12-25T14:16:56.133Z"
   },
   {
    "duration": 169,
    "start_time": "2022-12-25T14:17:12.977Z"
   },
   {
    "duration": 2176,
    "start_time": "2022-12-25T14:20:44.916Z"
   },
   {
    "duration": 1682,
    "start_time": "2022-12-25T14:23:11.185Z"
   },
   {
    "duration": 1824,
    "start_time": "2022-12-25T14:23:38.435Z"
   },
   {
    "duration": 1338,
    "start_time": "2022-12-25T14:25:07.575Z"
   },
   {
    "duration": 1585,
    "start_time": "2022-12-25T14:25:15.595Z"
   },
   {
    "duration": 1489,
    "start_time": "2022-12-25T14:25:19.206Z"
   },
   {
    "duration": 181,
    "start_time": "2022-12-25T14:26:55.935Z"
   },
   {
    "duration": 286,
    "start_time": "2022-12-25T14:27:06.489Z"
   },
   {
    "duration": 450,
    "start_time": "2022-12-25T14:27:16.859Z"
   },
   {
    "duration": 1568,
    "start_time": "2022-12-25T14:33:55.642Z"
   },
   {
    "duration": 8,
    "start_time": "2022-12-25T14:37:52.433Z"
   },
   {
    "duration": 655,
    "start_time": "2022-12-25T14:38:15.921Z"
   },
   {
    "duration": 252,
    "start_time": "2022-12-25T14:38:25.106Z"
   },
   {
    "duration": 71,
    "start_time": "2022-12-25T14:38:38.508Z"
   },
   {
    "duration": 157,
    "start_time": "2022-12-25T14:38:45.170Z"
   },
   {
    "duration": 280,
    "start_time": "2022-12-25T14:39:01.931Z"
   },
   {
    "duration": 260,
    "start_time": "2022-12-25T14:39:58.678Z"
   },
   {
    "duration": 258,
    "start_time": "2022-12-25T14:40:22.728Z"
   },
   {
    "duration": 270,
    "start_time": "2022-12-25T14:40:25.789Z"
   },
   {
    "duration": 65,
    "start_time": "2022-12-25T14:41:05.515Z"
   },
   {
    "duration": 335,
    "start_time": "2022-12-25T14:41:09.866Z"
   },
   {
    "duration": 162,
    "start_time": "2022-12-25T14:43:41.968Z"
   },
   {
    "duration": 1615,
    "start_time": "2022-12-25T14:44:00.257Z"
   },
   {
    "duration": 286,
    "start_time": "2022-12-25T14:44:18.074Z"
   },
   {
    "duration": 293,
    "start_time": "2022-12-25T14:45:38.970Z"
   },
   {
    "duration": 279,
    "start_time": "2022-12-25T14:45:46.033Z"
   },
   {
    "duration": 286,
    "start_time": "2022-12-25T14:46:39.821Z"
   },
   {
    "duration": 452,
    "start_time": "2022-12-25T14:46:52.822Z"
   },
   {
    "duration": 282,
    "start_time": "2022-12-25T14:47:21.201Z"
   },
   {
    "duration": 1372,
    "start_time": "2022-12-25T18:36:52.886Z"
   },
   {
    "duration": 190,
    "start_time": "2022-12-25T18:36:54.260Z"
   },
   {
    "duration": 18,
    "start_time": "2022-12-25T18:36:54.451Z"
   },
   {
    "duration": 19,
    "start_time": "2022-12-25T18:36:54.471Z"
   },
   {
    "duration": 13,
    "start_time": "2022-12-25T18:36:54.493Z"
   },
   {
    "duration": 36,
    "start_time": "2022-12-25T18:36:54.508Z"
   },
   {
    "duration": 48,
    "start_time": "2022-12-25T18:36:54.546Z"
   },
   {
    "duration": 11,
    "start_time": "2022-12-25T18:36:54.597Z"
   },
   {
    "duration": 22,
    "start_time": "2022-12-25T18:36:54.610Z"
   },
   {
    "duration": 17,
    "start_time": "2022-12-25T18:36:54.634Z"
   },
   {
    "duration": 365,
    "start_time": "2022-12-25T18:36:54.652Z"
   },
   {
    "duration": 275,
    "start_time": "2022-12-25T18:36:55.019Z"
   },
   {
    "duration": 278,
    "start_time": "2022-12-25T18:36:55.297Z"
   },
   {
    "duration": 693,
    "start_time": "2022-12-25T18:36:55.577Z"
   },
   {
    "duration": 184,
    "start_time": "2022-12-25T18:36:56.272Z"
   },
   {
    "duration": 1438,
    "start_time": "2022-12-25T18:36:56.462Z"
   },
   {
    "duration": 298,
    "start_time": "2022-12-25T18:36:57.902Z"
   },
   {
    "duration": 1164,
    "start_time": "2022-12-25T18:37:31.038Z"
   },
   {
    "duration": 227,
    "start_time": "2022-12-25T18:41:46.772Z"
   },
   {
    "duration": 12,
    "start_time": "2022-12-25T18:42:13.441Z"
   },
   {
    "duration": 18,
    "start_time": "2022-12-25T18:42:20.541Z"
   },
   {
    "duration": 16,
    "start_time": "2022-12-25T18:42:35.750Z"
   },
   {
    "duration": 16,
    "start_time": "2022-12-25T18:43:09.763Z"
   },
   {
    "duration": 19,
    "start_time": "2022-12-25T18:43:19.441Z"
   },
   {
    "duration": 18,
    "start_time": "2022-12-25T18:43:24.126Z"
   },
   {
    "duration": 134,
    "start_time": "2022-12-25T18:43:41.230Z"
   },
   {
    "duration": 134,
    "start_time": "2022-12-25T18:44:39.307Z"
   },
   {
    "duration": 706,
    "start_time": "2022-12-25T18:45:18.312Z"
   },
   {
    "duration": 734,
    "start_time": "2022-12-25T18:45:40.772Z"
   },
   {
    "duration": 72,
    "start_time": "2022-12-25T18:58:20.025Z"
   },
   {
    "duration": 23,
    "start_time": "2022-12-25T18:58:33.720Z"
   },
   {
    "duration": 1155,
    "start_time": "2022-12-25T18:58:51.527Z"
   },
   {
    "duration": 19,
    "start_time": "2022-12-25T18:59:40.114Z"
   },
   {
    "duration": 16,
    "start_time": "2022-12-25T19:00:01.049Z"
   },
   {
    "duration": 18,
    "start_time": "2022-12-25T19:00:17.737Z"
   },
   {
    "duration": 18,
    "start_time": "2022-12-25T19:00:27.132Z"
   },
   {
    "duration": 17,
    "start_time": "2022-12-25T19:00:34.949Z"
   },
   {
    "duration": 12,
    "start_time": "2022-12-25T19:01:27.873Z"
   },
   {
    "duration": 286,
    "start_time": "2022-12-25T19:02:27.604Z"
   },
   {
    "duration": 318,
    "start_time": "2022-12-25T19:02:59.280Z"
   },
   {
    "duration": 310,
    "start_time": "2022-12-25T19:03:15.321Z"
   },
   {
    "duration": 289,
    "start_time": "2022-12-25T19:03:28.324Z"
   },
   {
    "duration": 2434,
    "start_time": "2022-12-25T19:07:01.491Z"
   },
   {
    "duration": 13,
    "start_time": "2022-12-25T19:07:29.528Z"
   },
   {
    "duration": 114,
    "start_time": "2022-12-25T19:08:12.786Z"
   },
   {
    "duration": 130,
    "start_time": "2022-12-25T19:08:37.145Z"
   },
   {
    "duration": 126,
    "start_time": "2022-12-25T19:08:52.366Z"
   },
   {
    "duration": 169,
    "start_time": "2022-12-25T19:09:06.876Z"
   },
   {
    "duration": 143,
    "start_time": "2022-12-25T19:09:34.914Z"
   },
   {
    "duration": 118,
    "start_time": "2022-12-25T19:10:04.436Z"
   },
   {
    "duration": 136,
    "start_time": "2022-12-25T19:10:14.161Z"
   },
   {
    "duration": 12,
    "start_time": "2022-12-25T19:10:45.769Z"
   },
   {
    "duration": 2119,
    "start_time": "2022-12-25T19:10:53.293Z"
   },
   {
    "duration": 648,
    "start_time": "2022-12-25T19:11:24.305Z"
   },
   {
    "duration": 734,
    "start_time": "2022-12-25T19:13:13.866Z"
   },
   {
    "duration": 618,
    "start_time": "2022-12-25T19:13:20.868Z"
   },
   {
    "duration": 22,
    "start_time": "2022-12-25T19:20:07.307Z"
   },
   {
    "duration": 2452,
    "start_time": "2022-12-25T19:20:14.126Z"
   },
   {
    "duration": 277,
    "start_time": "2022-12-25T19:23:33.047Z"
   },
   {
    "duration": 1374,
    "start_time": "2022-12-26T07:02:54.057Z"
   },
   {
    "duration": 114,
    "start_time": "2022-12-26T07:02:55.433Z"
   },
   {
    "duration": 17,
    "start_time": "2022-12-26T07:02:55.548Z"
   },
   {
    "duration": 13,
    "start_time": "2022-12-26T07:02:55.566Z"
   },
   {
    "duration": 6,
    "start_time": "2022-12-26T07:02:55.581Z"
   },
   {
    "duration": 14,
    "start_time": "2022-12-26T07:02:55.589Z"
   },
   {
    "duration": 30,
    "start_time": "2022-12-26T07:02:55.605Z"
   },
   {
    "duration": 9,
    "start_time": "2022-12-26T07:02:55.637Z"
   },
   {
    "duration": 17,
    "start_time": "2022-12-26T07:02:55.648Z"
   },
   {
    "duration": 16,
    "start_time": "2022-12-26T07:02:55.668Z"
   },
   {
    "duration": 360,
    "start_time": "2022-12-26T07:02:55.686Z"
   },
   {
    "duration": 255,
    "start_time": "2022-12-26T07:02:56.048Z"
   },
   {
    "duration": 277,
    "start_time": "2022-12-26T07:02:56.305Z"
   },
   {
    "duration": 607,
    "start_time": "2022-12-26T07:02:56.584Z"
   },
   {
    "duration": 174,
    "start_time": "2022-12-26T07:02:57.194Z"
   },
   {
    "duration": 1126,
    "start_time": "2022-12-26T07:02:57.370Z"
   },
   {
    "duration": 319,
    "start_time": "2022-12-26T07:02:58.498Z"
   },
   {
    "duration": 396,
    "start_time": "2022-12-26T07:02:58.819Z"
   },
   {
    "duration": 276,
    "start_time": "2022-12-26T07:02:59.217Z"
   },
   {
    "duration": 332,
    "start_time": "2022-12-26T08:29:59.699Z"
   },
   {
    "duration": 226,
    "start_time": "2022-12-26T08:30:32.297Z"
   },
   {
    "duration": 283,
    "start_time": "2022-12-26T08:30:45.436Z"
   },
   {
    "duration": 29,
    "start_time": "2022-12-26T08:32:16.500Z"
   },
   {
    "duration": 27,
    "start_time": "2022-12-26T08:32:48.661Z"
   },
   {
    "duration": 29,
    "start_time": "2022-12-26T08:32:54.436Z"
   },
   {
    "duration": 257,
    "start_time": "2022-12-26T08:33:29.304Z"
   },
   {
    "duration": 479,
    "start_time": "2022-12-26T08:34:23.049Z"
   },
   {
    "duration": 26,
    "start_time": "2022-12-26T08:34:50.272Z"
   },
   {
    "duration": 502,
    "start_time": "2022-12-26T08:34:54.422Z"
   },
   {
    "duration": 519,
    "start_time": "2022-12-26T08:36:00.074Z"
   },
   {
    "duration": 145,
    "start_time": "2022-12-26T08:36:22.490Z"
   },
   {
    "duration": 627,
    "start_time": "2022-12-26T08:36:36.771Z"
   },
   {
    "duration": 483,
    "start_time": "2022-12-26T08:36:59.530Z"
   },
   {
    "duration": 576,
    "start_time": "2022-12-26T08:37:05.129Z"
   },
   {
    "duration": 509,
    "start_time": "2022-12-26T08:37:20.729Z"
   },
   {
    "duration": 174,
    "start_time": "2022-12-26T08:56:43.210Z"
   },
   {
    "duration": 175,
    "start_time": "2022-12-26T08:56:54.917Z"
   },
   {
    "duration": 168,
    "start_time": "2022-12-26T08:58:02.427Z"
   },
   {
    "duration": 730,
    "start_time": "2022-12-26T11:24:19.961Z"
   },
   {
    "duration": 15,
    "start_time": "2022-12-26T11:28:36.897Z"
   },
   {
    "duration": 14,
    "start_time": "2022-12-26T11:28:48.781Z"
   },
   {
    "duration": 18,
    "start_time": "2022-12-26T11:29:09.976Z"
   },
   {
    "duration": 15,
    "start_time": "2022-12-26T11:29:27.278Z"
   },
   {
    "duration": 17,
    "start_time": "2022-12-26T11:29:31.480Z"
   },
   {
    "duration": 16,
    "start_time": "2022-12-26T11:29:58.775Z"
   },
   {
    "duration": 18,
    "start_time": "2022-12-26T11:30:11.045Z"
   },
   {
    "duration": 18,
    "start_time": "2022-12-26T11:30:21.561Z"
   },
   {
    "duration": 50,
    "start_time": "2022-12-26T11:30:57.664Z"
   },
   {
    "duration": 94,
    "start_time": "2022-12-26T11:31:06.680Z"
   },
   {
    "duration": 179,
    "start_time": "2022-12-26T11:33:05.817Z"
   },
   {
    "duration": 270,
    "start_time": "2022-12-26T11:34:14.905Z"
   },
   {
    "duration": 253,
    "start_time": "2022-12-26T11:35:12.535Z"
   },
   {
    "duration": 246,
    "start_time": "2022-12-26T11:35:21.665Z"
   },
   {
    "duration": 259,
    "start_time": "2022-12-26T11:36:05.764Z"
   },
   {
    "duration": 256,
    "start_time": "2022-12-26T11:36:37.181Z"
   },
   {
    "duration": 271,
    "start_time": "2022-12-26T11:38:45.575Z"
   },
   {
    "duration": 240,
    "start_time": "2022-12-26T11:42:17.569Z"
   },
   {
    "duration": 694,
    "start_time": "2022-12-26T11:44:26.689Z"
   },
   {
    "duration": 21,
    "start_time": "2022-12-26T11:44:50.963Z"
   },
   {
    "duration": 41,
    "start_time": "2022-12-26T11:45:01.808Z"
   },
   {
    "duration": 28,
    "start_time": "2022-12-26T11:45:07.072Z"
   },
   {
    "duration": 808,
    "start_time": "2022-12-26T11:46:54.785Z"
   },
   {
    "duration": 38,
    "start_time": "2022-12-26T11:48:18.708Z"
   },
   {
    "duration": 849,
    "start_time": "2022-12-26T11:49:12.583Z"
   },
   {
    "duration": 29,
    "start_time": "2022-12-26T11:50:13.765Z"
   },
   {
    "duration": 54,
    "start_time": "2022-12-26T11:50:22.376Z"
   },
   {
    "duration": 254,
    "start_time": "2022-12-26T11:51:15.586Z"
   },
   {
    "duration": 195,
    "start_time": "2022-12-26T11:51:38.061Z"
   },
   {
    "duration": 224,
    "start_time": "2022-12-26T11:59:07.853Z"
   },
   {
    "duration": 199,
    "start_time": "2022-12-26T11:59:26.057Z"
   },
   {
    "duration": 4,
    "start_time": "2022-12-26T15:17:09.184Z"
   },
   {
    "duration": 4,
    "start_time": "2022-12-26T15:18:23.375Z"
   },
   {
    "duration": 4,
    "start_time": "2022-12-26T15:20:30.369Z"
   },
   {
    "duration": 11,
    "start_time": "2022-12-26T15:20:52.402Z"
   },
   {
    "duration": 6,
    "start_time": "2022-12-26T15:22:05.773Z"
   },
   {
    "duration": 11,
    "start_time": "2022-12-26T15:22:06.807Z"
   },
   {
    "duration": 4,
    "start_time": "2022-12-26T15:22:38.763Z"
   },
   {
    "duration": 12,
    "start_time": "2022-12-26T15:22:39.794Z"
   },
   {
    "duration": 6,
    "start_time": "2022-12-26T15:23:00.057Z"
   },
   {
    "duration": 26,
    "start_time": "2022-12-26T15:23:00.515Z"
   },
   {
    "duration": 6,
    "start_time": "2022-12-26T15:23:37.761Z"
   },
   {
    "duration": 24,
    "start_time": "2022-12-26T15:23:38.378Z"
   },
   {
    "duration": 9,
    "start_time": "2022-12-26T15:23:50.657Z"
   },
   {
    "duration": 25,
    "start_time": "2022-12-26T15:23:51.161Z"
   },
   {
    "duration": 6,
    "start_time": "2022-12-26T15:23:59.505Z"
   },
   {
    "duration": 25,
    "start_time": "2022-12-26T15:23:59.851Z"
   },
   {
    "duration": 5,
    "start_time": "2022-12-26T15:24:12.138Z"
   },
   {
    "duration": 127,
    "start_time": "2022-12-26T15:24:12.978Z"
   },
   {
    "duration": 6,
    "start_time": "2022-12-26T15:24:45.266Z"
   },
   {
    "duration": 176,
    "start_time": "2022-12-26T15:24:48.669Z"
   },
   {
    "duration": 5,
    "start_time": "2022-12-26T15:24:57.657Z"
   },
   {
    "duration": 442,
    "start_time": "2022-12-26T15:24:58.232Z"
   },
   {
    "duration": 7,
    "start_time": "2022-12-26T15:25:59.041Z"
   },
   {
    "duration": 338,
    "start_time": "2022-12-26T15:25:59.347Z"
   },
   {
    "duration": 5,
    "start_time": "2022-12-26T15:26:40.057Z"
   },
   {
    "duration": 345,
    "start_time": "2022-12-26T15:26:43.049Z"
   },
   {
    "duration": 5,
    "start_time": "2022-12-26T15:26:50.569Z"
   },
   {
    "duration": 168,
    "start_time": "2022-12-26T15:26:51.025Z"
   },
   {
    "duration": 5,
    "start_time": "2022-12-26T15:26:56.338Z"
   },
   {
    "duration": 340,
    "start_time": "2022-12-26T15:26:56.714Z"
   },
   {
    "duration": 5,
    "start_time": "2022-12-26T15:27:03.162Z"
   },
   {
    "duration": 456,
    "start_time": "2022-12-26T15:27:03.456Z"
   },
   {
    "duration": 5,
    "start_time": "2022-12-26T15:27:16.066Z"
   },
   {
    "duration": 358,
    "start_time": "2022-12-26T15:27:16.385Z"
   },
   {
    "duration": 4,
    "start_time": "2022-12-26T15:27:56.937Z"
   },
   {
    "duration": 337,
    "start_time": "2022-12-26T15:27:57.577Z"
   },
   {
    "duration": 6,
    "start_time": "2022-12-26T15:28:12.052Z"
   },
   {
    "duration": 571,
    "start_time": "2022-12-26T15:28:13.227Z"
   },
   {
    "duration": 10,
    "start_time": "2022-12-26T15:28:21.090Z"
   },
   {
    "duration": 689,
    "start_time": "2022-12-26T15:28:21.594Z"
   },
   {
    "duration": 9,
    "start_time": "2022-12-26T15:29:28.074Z"
   },
   {
    "duration": 5,
    "start_time": "2022-12-26T15:29:32.081Z"
   },
   {
    "duration": 404,
    "start_time": "2022-12-26T15:29:32.500Z"
   },
   {
    "duration": 4,
    "start_time": "2022-12-26T15:30:09.260Z"
   },
   {
    "duration": 381,
    "start_time": "2022-12-26T15:30:09.772Z"
   },
   {
    "duration": 7,
    "start_time": "2022-12-26T15:30:52.985Z"
   },
   {
    "duration": 382,
    "start_time": "2022-12-26T15:31:06.474Z"
   },
   {
    "duration": 7,
    "start_time": "2022-12-26T15:31:32.500Z"
   },
   {
    "duration": 429,
    "start_time": "2022-12-26T15:31:32.962Z"
   },
   {
    "duration": 8,
    "start_time": "2022-12-26T15:31:46.202Z"
   },
   {
    "duration": 437,
    "start_time": "2022-12-26T15:31:46.505Z"
   },
   {
    "duration": 6,
    "start_time": "2022-12-26T15:31:58.074Z"
   },
   {
    "duration": 532,
    "start_time": "2022-12-26T15:31:58.389Z"
   },
   {
    "duration": 1321,
    "start_time": "2022-12-26T18:13:26.810Z"
   },
   {
    "duration": 184,
    "start_time": "2022-12-26T18:13:28.133Z"
   },
   {
    "duration": 17,
    "start_time": "2022-12-26T18:13:28.319Z"
   },
   {
    "duration": 14,
    "start_time": "2022-12-26T18:13:28.338Z"
   },
   {
    "duration": 4,
    "start_time": "2022-12-26T18:13:28.354Z"
   },
   {
    "duration": 6,
    "start_time": "2022-12-26T18:13:28.360Z"
   },
   {
    "duration": 21,
    "start_time": "2022-12-26T18:13:28.367Z"
   },
   {
    "duration": 6,
    "start_time": "2022-12-26T18:13:28.390Z"
   },
   {
    "duration": 13,
    "start_time": "2022-12-26T18:13:28.398Z"
   },
   {
    "duration": 44,
    "start_time": "2022-12-26T18:13:28.414Z"
   },
   {
    "duration": 320,
    "start_time": "2022-12-26T18:13:28.460Z"
   },
   {
    "duration": 255,
    "start_time": "2022-12-26T18:13:28.782Z"
   },
   {
    "duration": 278,
    "start_time": "2022-12-26T18:13:29.039Z"
   },
   {
    "duration": 548,
    "start_time": "2022-12-26T18:13:29.318Z"
   },
   {
    "duration": 150,
    "start_time": "2022-12-26T18:13:29.868Z"
   },
   {
    "duration": 1065,
    "start_time": "2022-12-26T18:13:30.019Z"
   },
   {
    "duration": 267,
    "start_time": "2022-12-26T18:13:31.086Z"
   },
   {
    "duration": 350,
    "start_time": "2022-12-26T18:13:31.355Z"
   },
   {
    "duration": 254,
    "start_time": "2022-12-26T18:13:31.706Z"
   },
   {
    "duration": 717,
    "start_time": "2022-12-26T18:13:31.961Z"
   },
   {
    "duration": 207,
    "start_time": "2022-12-26T18:13:32.680Z"
   },
   {
    "duration": 5,
    "start_time": "2022-12-26T18:13:32.889Z"
   },
   {
    "duration": 368,
    "start_time": "2022-12-26T18:13:32.895Z"
   },
   {
    "duration": 5,
    "start_time": "2022-12-26T18:13:33.264Z"
   },
   {
    "duration": 347,
    "start_time": "2022-12-26T18:13:33.271Z"
   },
   {
    "duration": 415,
    "start_time": "2022-12-26T18:27:25.276Z"
   },
   {
    "duration": 96,
    "start_time": "2022-12-26T18:45:49.694Z"
   },
   {
    "duration": 159,
    "start_time": "2022-12-26T18:46:05.901Z"
   },
   {
    "duration": 408,
    "start_time": "2022-12-26T18:47:10.146Z"
   },
   {
    "duration": 79,
    "start_time": "2022-12-26T18:47:58.417Z"
   },
   {
    "duration": 28,
    "start_time": "2022-12-26T18:48:07.268Z"
   },
   {
    "duration": 370,
    "start_time": "2022-12-26T18:49:51.260Z"
   },
   {
    "duration": 388,
    "start_time": "2022-12-26T18:50:24.450Z"
   },
   {
    "duration": 380,
    "start_time": "2022-12-26T18:50:48.626Z"
   },
   {
    "duration": 5,
    "start_time": "2022-12-26T18:51:27.638Z"
   },
   {
    "duration": 166,
    "start_time": "2022-12-26T19:00:40.540Z"
   },
   {
    "duration": 259,
    "start_time": "2022-12-26T19:00:50.312Z"
   },
   {
    "duration": 167,
    "start_time": "2022-12-26T19:00:55.410Z"
   },
   {
    "duration": 3,
    "start_time": "2022-12-26T19:05:13.521Z"
   },
   {
    "duration": 96,
    "start_time": "2022-12-26T19:30:05.703Z"
   },
   {
    "duration": 10,
    "start_time": "2022-12-26T19:30:11.113Z"
   },
   {
    "duration": 10,
    "start_time": "2022-12-26T19:30:13.609Z"
   },
   {
    "duration": 9,
    "start_time": "2022-12-26T19:34:55.868Z"
   },
   {
    "duration": 10,
    "start_time": "2022-12-26T19:35:25.387Z"
   },
   {
    "duration": 10,
    "start_time": "2022-12-26T19:37:18.862Z"
   },
   {
    "duration": 9,
    "start_time": "2022-12-26T19:43:14.573Z"
   },
   {
    "duration": 10,
    "start_time": "2022-12-26T19:44:36.299Z"
   },
   {
    "duration": 10,
    "start_time": "2022-12-26T19:45:22.670Z"
   },
   {
    "duration": 14,
    "start_time": "2022-12-26T19:45:30.268Z"
   },
   {
    "duration": 11,
    "start_time": "2022-12-26T19:46:30.478Z"
   },
   {
    "duration": 13,
    "start_time": "2022-12-26T19:46:42.385Z"
   },
   {
    "duration": 15,
    "start_time": "2022-12-26T19:48:42.763Z"
   },
   {
    "duration": 12,
    "start_time": "2022-12-26T19:48:53.776Z"
   },
   {
    "duration": 4,
    "start_time": "2022-12-26T19:49:12.433Z"
   },
   {
    "duration": 103,
    "start_time": "2022-12-26T19:49:12.439Z"
   },
   {
    "duration": 20,
    "start_time": "2022-12-26T19:49:12.543Z"
   },
   {
    "duration": 38,
    "start_time": "2022-12-26T19:49:12.566Z"
   },
   {
    "duration": 28,
    "start_time": "2022-12-26T19:49:12.606Z"
   },
   {
    "duration": 20,
    "start_time": "2022-12-26T19:49:12.636Z"
   },
   {
    "duration": 58,
    "start_time": "2022-12-26T19:49:12.657Z"
   },
   {
    "duration": 31,
    "start_time": "2022-12-26T19:49:12.717Z"
   },
   {
    "duration": 39,
    "start_time": "2022-12-26T19:49:12.751Z"
   },
   {
    "duration": 30,
    "start_time": "2022-12-26T19:49:12.791Z"
   },
   {
    "duration": 321,
    "start_time": "2022-12-26T19:49:12.823Z"
   },
   {
    "duration": 262,
    "start_time": "2022-12-26T19:49:13.146Z"
   },
   {
    "duration": 280,
    "start_time": "2022-12-26T19:49:13.409Z"
   },
   {
    "duration": 511,
    "start_time": "2022-12-26T19:49:13.690Z"
   },
   {
    "duration": 202,
    "start_time": "2022-12-26T19:49:14.202Z"
   },
   {
    "duration": 1215,
    "start_time": "2022-12-26T19:49:14.406Z"
   },
   {
    "duration": 277,
    "start_time": "2022-12-26T19:49:15.623Z"
   },
   {
    "duration": 328,
    "start_time": "2022-12-26T19:49:15.901Z"
   },
   {
    "duration": 279,
    "start_time": "2022-12-26T19:49:16.231Z"
   },
   {
    "duration": 573,
    "start_time": "2022-12-26T19:49:16.511Z"
   },
   {
    "duration": 283,
    "start_time": "2022-12-26T19:49:17.086Z"
   },
   {
    "duration": 5,
    "start_time": "2022-12-26T19:49:17.371Z"
   },
   {
    "duration": 349,
    "start_time": "2022-12-26T19:49:17.377Z"
   },
   {
    "duration": 5,
    "start_time": "2022-12-26T19:49:17.728Z"
   },
   {
    "duration": 360,
    "start_time": "2022-12-26T19:49:17.735Z"
   },
   {
    "duration": 4,
    "start_time": "2022-12-26T19:49:18.097Z"
   },
   {
    "duration": 398,
    "start_time": "2022-12-26T19:49:18.102Z"
   },
   {
    "duration": 8,
    "start_time": "2022-12-26T19:49:18.502Z"
   },
   {
    "duration": 13,
    "start_time": "2022-12-26T19:49:18.512Z"
   },
   {
    "duration": 10,
    "start_time": "2022-12-26T19:49:18.527Z"
   },
   {
    "duration": 13,
    "start_time": "2022-12-26T19:49:18.558Z"
   },
   {
    "duration": 1250,
    "start_time": "2022-12-27T07:52:38.376Z"
   },
   {
    "duration": 187,
    "start_time": "2022-12-27T07:52:39.628Z"
   },
   {
    "duration": 19,
    "start_time": "2022-12-27T07:52:39.817Z"
   },
   {
    "duration": 19,
    "start_time": "2022-12-27T07:52:39.838Z"
   },
   {
    "duration": 20,
    "start_time": "2022-12-27T07:52:39.858Z"
   },
   {
    "duration": 21,
    "start_time": "2022-12-27T07:52:39.880Z"
   },
   {
    "duration": 26,
    "start_time": "2022-12-27T07:52:39.903Z"
   },
   {
    "duration": 21,
    "start_time": "2022-12-27T07:52:39.931Z"
   },
   {
    "duration": 33,
    "start_time": "2022-12-27T07:52:39.953Z"
   },
   {
    "duration": 52,
    "start_time": "2022-12-27T07:52:39.989Z"
   },
   {
    "duration": 336,
    "start_time": "2022-12-27T07:52:40.043Z"
   },
   {
    "duration": 251,
    "start_time": "2022-12-27T07:52:40.381Z"
   },
   {
    "duration": 263,
    "start_time": "2022-12-27T07:52:40.634Z"
   },
   {
    "duration": 575,
    "start_time": "2022-12-27T07:52:40.899Z"
   },
   {
    "duration": 197,
    "start_time": "2022-12-27T07:52:41.476Z"
   },
   {
    "duration": 1157,
    "start_time": "2022-12-27T07:52:41.674Z"
   },
   {
    "duration": 276,
    "start_time": "2022-12-27T07:52:42.833Z"
   },
   {
    "duration": 364,
    "start_time": "2022-12-27T07:52:43.110Z"
   },
   {
    "duration": 272,
    "start_time": "2022-12-27T07:52:43.475Z"
   },
   {
    "duration": 667,
    "start_time": "2022-12-27T07:52:43.750Z"
   },
   {
    "duration": 174,
    "start_time": "2022-12-27T07:52:44.419Z"
   },
   {
    "duration": 5,
    "start_time": "2022-12-27T07:52:44.595Z"
   },
   {
    "duration": 351,
    "start_time": "2022-12-27T07:52:44.602Z"
   },
   {
    "duration": 5,
    "start_time": "2022-12-27T07:52:44.955Z"
   },
   {
    "duration": 370,
    "start_time": "2022-12-27T07:52:44.962Z"
   },
   {
    "duration": 5,
    "start_time": "2022-12-27T07:52:45.334Z"
   },
   {
    "duration": 441,
    "start_time": "2022-12-27T07:52:45.341Z"
   },
   {
    "duration": 8,
    "start_time": "2022-12-27T07:52:45.784Z"
   },
   {
    "duration": 25,
    "start_time": "2022-12-27T07:52:45.794Z"
   },
   {
    "duration": 35,
    "start_time": "2022-12-27T07:52:45.821Z"
   },
   {
    "duration": 13,
    "start_time": "2022-12-27T07:52:45.858Z"
   },
   {
    "duration": 4,
    "start_time": "2022-12-27T07:53:57.947Z"
   },
   {
    "duration": 4,
    "start_time": "2022-12-27T07:54:02.916Z"
   },
   {
    "duration": 203,
    "start_time": "2022-12-27T07:54:38.781Z"
   },
   {
    "duration": 1071,
    "start_time": "2022-12-27T07:56:18.881Z"
   },
   {
    "duration": 54,
    "start_time": "2022-12-27T07:56:19.954Z"
   },
   {
    "duration": 18,
    "start_time": "2022-12-27T07:56:20.010Z"
   },
   {
    "duration": 46,
    "start_time": "2022-12-27T07:56:20.030Z"
   },
   {
    "duration": 22,
    "start_time": "2022-12-27T07:56:20.078Z"
   },
   {
    "duration": 33,
    "start_time": "2022-12-27T07:56:20.102Z"
   },
   {
    "duration": 199,
    "start_time": "2022-12-27T07:56:20.137Z"
   },
   {
    "duration": 5,
    "start_time": "2022-12-27T07:56:20.338Z"
   },
   {
    "duration": 91,
    "start_time": "2022-12-27T07:56:20.345Z"
   },
   {
    "duration": 74,
    "start_time": "2022-12-27T07:56:20.439Z"
   },
   {
    "duration": 248,
    "start_time": "2022-12-27T07:56:20.514Z"
   },
   {
    "duration": 68,
    "start_time": "2022-12-27T07:56:20.764Z"
   },
   {
    "duration": 368,
    "start_time": "2022-12-27T07:56:20.834Z"
   },
   {
    "duration": 254,
    "start_time": "2022-12-27T07:56:21.204Z"
   },
   {
    "duration": 287,
    "start_time": "2022-12-27T07:56:21.460Z"
   },
   {
    "duration": 568,
    "start_time": "2022-12-27T07:56:21.749Z"
   },
   {
    "duration": 153,
    "start_time": "2022-12-27T07:56:22.319Z"
   },
   {
    "duration": 1085,
    "start_time": "2022-12-27T07:56:22.473Z"
   },
   {
    "duration": 285,
    "start_time": "2022-12-27T07:56:23.559Z"
   },
   {
    "duration": 287,
    "start_time": "2022-12-27T07:56:23.847Z"
   },
   {
    "duration": 274,
    "start_time": "2022-12-27T07:56:24.137Z"
   },
   {
    "duration": 644,
    "start_time": "2022-12-27T07:56:24.413Z"
   },
   {
    "duration": 188,
    "start_time": "2022-12-27T07:56:25.059Z"
   },
   {
    "duration": 5,
    "start_time": "2022-12-27T07:56:25.248Z"
   },
   {
    "duration": 426,
    "start_time": "2022-12-27T07:56:25.254Z"
   },
   {
    "duration": 5,
    "start_time": "2022-12-27T07:56:25.681Z"
   },
   {
    "duration": 371,
    "start_time": "2022-12-27T07:56:25.688Z"
   },
   {
    "duration": 5,
    "start_time": "2022-12-27T07:56:26.062Z"
   },
   {
    "duration": 383,
    "start_time": "2022-12-27T07:56:26.069Z"
   },
   {
    "duration": 8,
    "start_time": "2022-12-27T07:56:26.454Z"
   },
   {
    "duration": 12,
    "start_time": "2022-12-27T07:56:26.463Z"
   },
   {
    "duration": 10,
    "start_time": "2022-12-27T07:56:26.476Z"
   },
   {
    "duration": 12,
    "start_time": "2022-12-27T07:56:26.488Z"
   },
   {
    "duration": 10,
    "start_time": "2022-12-27T07:58:06.980Z"
   },
   {
    "duration": 114,
    "start_time": "2022-12-27T07:58:27.275Z"
   },
   {
    "duration": 9,
    "start_time": "2022-12-27T07:58:39.197Z"
   },
   {
    "duration": 9,
    "start_time": "2022-12-27T07:59:04.934Z"
   },
   {
    "duration": 9,
    "start_time": "2022-12-27T07:59:09.074Z"
   },
   {
    "duration": 6,
    "start_time": "2022-12-27T07:59:49.397Z"
   },
   {
    "duration": 14,
    "start_time": "2022-12-27T08:00:12.037Z"
   },
   {
    "duration": 8,
    "start_time": "2022-12-27T08:01:01.350Z"
   },
   {
    "duration": 3,
    "start_time": "2022-12-27T08:01:11.752Z"
   },
   {
    "duration": 105,
    "start_time": "2022-12-27T08:01:11.757Z"
   },
   {
    "duration": 15,
    "start_time": "2022-12-27T08:01:11.864Z"
   },
   {
    "duration": 128,
    "start_time": "2022-12-27T08:01:11.880Z"
   },
   {
    "duration": 5,
    "start_time": "2022-12-27T08:01:12.011Z"
   },
   {
    "duration": 65,
    "start_time": "2022-12-27T08:01:12.018Z"
   },
   {
    "duration": 238,
    "start_time": "2022-12-27T08:01:12.085Z"
   },
   {
    "duration": 7,
    "start_time": "2022-12-27T08:01:12.325Z"
   },
   {
    "duration": 43,
    "start_time": "2022-12-27T08:01:12.334Z"
   },
   {
    "duration": 60,
    "start_time": "2022-12-27T08:01:12.378Z"
   },
   {
    "duration": 47,
    "start_time": "2022-12-27T08:01:12.440Z"
   },
   {
    "duration": 50,
    "start_time": "2022-12-27T08:01:12.488Z"
   },
   {
    "duration": 322,
    "start_time": "2022-12-27T08:01:12.540Z"
   },
   {
    "duration": 256,
    "start_time": "2022-12-27T08:01:12.864Z"
   },
   {
    "duration": 258,
    "start_time": "2022-12-27T08:01:13.125Z"
   },
   {
    "duration": 491,
    "start_time": "2022-12-27T08:01:13.384Z"
   },
   {
    "duration": 159,
    "start_time": "2022-12-27T08:01:13.877Z"
   },
   {
    "duration": 1199,
    "start_time": "2022-12-27T08:01:14.037Z"
   },
   {
    "duration": 303,
    "start_time": "2022-12-27T08:01:15.238Z"
   },
   {
    "duration": 315,
    "start_time": "2022-12-27T08:01:15.543Z"
   },
   {
    "duration": 295,
    "start_time": "2022-12-27T08:01:15.859Z"
   },
   {
    "duration": 551,
    "start_time": "2022-12-27T08:01:16.156Z"
   },
   {
    "duration": 169,
    "start_time": "2022-12-27T08:01:16.710Z"
   },
   {
    "duration": 5,
    "start_time": "2022-12-27T08:01:16.881Z"
   },
   {
    "duration": 523,
    "start_time": "2022-12-27T08:01:16.888Z"
   },
   {
    "duration": 13,
    "start_time": "2022-12-27T08:01:17.413Z"
   },
   {
    "duration": 390,
    "start_time": "2022-12-27T08:01:17.428Z"
   },
   {
    "duration": 7,
    "start_time": "2022-12-27T08:01:17.820Z"
   },
   {
    "duration": 462,
    "start_time": "2022-12-27T08:01:17.832Z"
   },
   {
    "duration": 8,
    "start_time": "2022-12-27T08:01:18.296Z"
   },
   {
    "duration": 22,
    "start_time": "2022-12-27T08:01:18.306Z"
   },
   {
    "duration": 36,
    "start_time": "2022-12-27T08:01:18.330Z"
   },
   {
    "duration": 40,
    "start_time": "2022-12-27T08:01:18.368Z"
   },
   {
    "duration": 19,
    "start_time": "2022-12-27T08:01:36.484Z"
   },
   {
    "duration": 1355,
    "start_time": "2022-12-27T08:01:45.479Z"
   },
   {
    "duration": 51,
    "start_time": "2022-12-27T08:01:46.836Z"
   },
   {
    "duration": 19,
    "start_time": "2022-12-27T08:01:46.889Z"
   },
   {
    "duration": 18,
    "start_time": "2022-12-27T08:01:46.910Z"
   },
   {
    "duration": 15,
    "start_time": "2022-12-27T08:01:46.930Z"
   },
   {
    "duration": 9,
    "start_time": "2022-12-27T08:01:46.947Z"
   },
   {
    "duration": 212,
    "start_time": "2022-12-27T08:01:46.958Z"
   },
   {
    "duration": 8,
    "start_time": "2022-12-27T08:01:47.172Z"
   },
   {
    "duration": 36,
    "start_time": "2022-12-27T08:01:47.182Z"
   },
   {
    "duration": 11,
    "start_time": "2022-12-27T08:01:47.220Z"
   },
   {
    "duration": 33,
    "start_time": "2022-12-27T08:01:47.233Z"
   },
   {
    "duration": 40,
    "start_time": "2022-12-27T08:01:47.268Z"
   },
   {
    "duration": 319,
    "start_time": "2022-12-27T08:01:47.310Z"
   },
   {
    "duration": 316,
    "start_time": "2022-12-27T08:01:47.632Z"
   },
   {
    "duration": 305,
    "start_time": "2022-12-27T08:01:47.950Z"
   },
   {
    "duration": 619,
    "start_time": "2022-12-27T08:01:48.257Z"
   },
   {
    "duration": 213,
    "start_time": "2022-12-27T08:01:48.879Z"
   },
   {
    "duration": 1373,
    "start_time": "2022-12-27T08:01:49.094Z"
   },
   {
    "duration": 365,
    "start_time": "2022-12-27T08:01:50.470Z"
   },
   {
    "duration": 334,
    "start_time": "2022-12-27T08:01:50.837Z"
   },
   {
    "duration": 395,
    "start_time": "2022-12-27T08:01:51.173Z"
   },
   {
    "duration": 739,
    "start_time": "2022-12-27T08:01:51.569Z"
   },
   {
    "duration": 210,
    "start_time": "2022-12-27T08:01:52.311Z"
   },
   {
    "duration": 8,
    "start_time": "2022-12-27T08:01:52.522Z"
   },
   {
    "duration": 462,
    "start_time": "2022-12-27T08:01:52.531Z"
   },
   {
    "duration": 7,
    "start_time": "2022-12-27T08:01:52.995Z"
   },
   {
    "duration": 419,
    "start_time": "2022-12-27T08:01:53.004Z"
   },
   {
    "duration": 6,
    "start_time": "2022-12-27T08:01:53.425Z"
   },
   {
    "duration": 443,
    "start_time": "2022-12-27T08:01:53.432Z"
   },
   {
    "duration": 10,
    "start_time": "2022-12-27T08:01:53.876Z"
   },
   {
    "duration": 44,
    "start_time": "2022-12-27T08:01:53.887Z"
   },
   {
    "duration": 50,
    "start_time": "2022-12-27T08:01:53.932Z"
   },
   {
    "duration": 41,
    "start_time": "2022-12-27T08:01:53.983Z"
   },
   {
    "duration": 4,
    "start_time": "2022-12-27T08:06:19.900Z"
   },
   {
    "duration": 7,
    "start_time": "2022-12-27T08:06:35.237Z"
   },
   {
    "duration": 31,
    "start_time": "2022-12-27T08:07:00.302Z"
   },
   {
    "duration": 8,
    "start_time": "2022-12-27T08:07:32.261Z"
   },
   {
    "duration": 92,
    "start_time": "2022-12-27T08:51:08.114Z"
   },
   {
    "duration": 11,
    "start_time": "2022-12-27T08:51:29.971Z"
   },
   {
    "duration": 819,
    "start_time": "2022-12-27T08:52:05.901Z"
   },
   {
    "duration": 905,
    "start_time": "2022-12-27T08:52:32.980Z"
   },
   {
    "duration": 1076,
    "start_time": "2022-12-27T08:52:53.525Z"
   },
   {
    "duration": 47,
    "start_time": "2022-12-27T08:52:54.603Z"
   },
   {
    "duration": 17,
    "start_time": "2022-12-27T08:52:54.652Z"
   },
   {
    "duration": 13,
    "start_time": "2022-12-27T08:52:54.671Z"
   },
   {
    "duration": 5,
    "start_time": "2022-12-27T08:52:54.685Z"
   },
   {
    "duration": 5,
    "start_time": "2022-12-27T08:52:54.691Z"
   },
   {
    "duration": 187,
    "start_time": "2022-12-27T08:52:54.698Z"
   },
   {
    "duration": 7,
    "start_time": "2022-12-27T08:52:54.887Z"
   },
   {
    "duration": 104,
    "start_time": "2022-12-27T08:52:54.895Z"
   },
   {
    "duration": 0,
    "start_time": "2022-12-27T08:52:55.001Z"
   },
   {
    "duration": 0,
    "start_time": "2022-12-27T08:52:55.002Z"
   },
   {
    "duration": 1,
    "start_time": "2022-12-27T08:52:55.003Z"
   },
   {
    "duration": 0,
    "start_time": "2022-12-27T08:52:55.004Z"
   },
   {
    "duration": 0,
    "start_time": "2022-12-27T08:52:55.005Z"
   },
   {
    "duration": 0,
    "start_time": "2022-12-27T08:52:55.006Z"
   },
   {
    "duration": 0,
    "start_time": "2022-12-27T08:52:55.007Z"
   },
   {
    "duration": 0,
    "start_time": "2022-12-27T08:52:55.008Z"
   },
   {
    "duration": 0,
    "start_time": "2022-12-27T08:52:55.009Z"
   },
   {
    "duration": 0,
    "start_time": "2022-12-27T08:52:55.026Z"
   },
   {
    "duration": 0,
    "start_time": "2022-12-27T08:52:55.027Z"
   },
   {
    "duration": 0,
    "start_time": "2022-12-27T08:52:55.028Z"
   },
   {
    "duration": 0,
    "start_time": "2022-12-27T08:52:55.029Z"
   },
   {
    "duration": 0,
    "start_time": "2022-12-27T08:52:55.031Z"
   },
   {
    "duration": 0,
    "start_time": "2022-12-27T08:52:55.031Z"
   },
   {
    "duration": 0,
    "start_time": "2022-12-27T08:52:55.032Z"
   },
   {
    "duration": 0,
    "start_time": "2022-12-27T08:52:55.034Z"
   },
   {
    "duration": 0,
    "start_time": "2022-12-27T08:52:55.035Z"
   },
   {
    "duration": 0,
    "start_time": "2022-12-27T08:52:55.035Z"
   },
   {
    "duration": 1,
    "start_time": "2022-12-27T08:52:55.036Z"
   },
   {
    "duration": 0,
    "start_time": "2022-12-27T08:52:55.038Z"
   },
   {
    "duration": 0,
    "start_time": "2022-12-27T08:52:55.038Z"
   },
   {
    "duration": 0,
    "start_time": "2022-12-27T08:52:55.040Z"
   },
   {
    "duration": 0,
    "start_time": "2022-12-27T08:52:55.041Z"
   },
   {
    "duration": 17,
    "start_time": "2022-12-27T08:53:16.252Z"
   },
   {
    "duration": 16,
    "start_time": "2022-12-27T08:53:26.492Z"
   },
   {
    "duration": 23,
    "start_time": "2022-12-27T08:54:58.381Z"
   },
   {
    "duration": 7,
    "start_time": "2022-12-27T08:55:25.146Z"
   },
   {
    "duration": 15,
    "start_time": "2022-12-27T08:55:52.557Z"
   },
   {
    "duration": 1079,
    "start_time": "2022-12-27T08:56:36.198Z"
   },
   {
    "duration": 72,
    "start_time": "2022-12-27T08:57:01.222Z"
   },
   {
    "duration": 15,
    "start_time": "2022-12-27T08:57:04.834Z"
   },
   {
    "duration": 3,
    "start_time": "2022-12-27T08:57:13.848Z"
   },
   {
    "duration": 54,
    "start_time": "2022-12-27T08:57:13.853Z"
   },
   {
    "duration": 13,
    "start_time": "2022-12-27T08:57:13.908Z"
   },
   {
    "duration": 29,
    "start_time": "2022-12-27T08:57:13.922Z"
   },
   {
    "duration": 10,
    "start_time": "2022-12-27T08:57:13.953Z"
   },
   {
    "duration": 21,
    "start_time": "2022-12-27T08:57:13.964Z"
   },
   {
    "duration": 157,
    "start_time": "2022-12-27T08:57:13.986Z"
   },
   {
    "duration": 7,
    "start_time": "2022-12-27T08:57:14.144Z"
   },
   {
    "duration": 30,
    "start_time": "2022-12-27T08:57:14.153Z"
   },
   {
    "duration": 9,
    "start_time": "2022-12-27T08:57:14.184Z"
   },
   {
    "duration": 37,
    "start_time": "2022-12-27T08:57:14.195Z"
   },
   {
    "duration": 22,
    "start_time": "2022-12-27T08:57:14.234Z"
   },
   {
    "duration": 292,
    "start_time": "2022-12-27T08:57:14.257Z"
   },
   {
    "duration": 233,
    "start_time": "2022-12-27T08:57:14.550Z"
   },
   {
    "duration": 261,
    "start_time": "2022-12-27T08:57:14.784Z"
   },
   {
    "duration": 626,
    "start_time": "2022-12-27T08:57:15.047Z"
   },
   {
    "duration": 168,
    "start_time": "2022-12-27T08:57:15.674Z"
   },
   {
    "duration": 1015,
    "start_time": "2022-12-27T08:57:15.844Z"
   },
   {
    "duration": 250,
    "start_time": "2022-12-27T08:57:16.861Z"
   },
   {
    "duration": 297,
    "start_time": "2022-12-27T08:57:17.113Z"
   },
   {
    "duration": 334,
    "start_time": "2022-12-27T08:57:17.412Z"
   },
   {
    "duration": 501,
    "start_time": "2022-12-27T08:57:17.748Z"
   },
   {
    "duration": 163,
    "start_time": "2022-12-27T08:57:18.250Z"
   },
   {
    "duration": 11,
    "start_time": "2022-12-27T08:57:18.415Z"
   },
   {
    "duration": 328,
    "start_time": "2022-12-27T08:57:18.428Z"
   },
   {
    "duration": 4,
    "start_time": "2022-12-27T08:57:18.757Z"
   },
   {
    "duration": 349,
    "start_time": "2022-12-27T08:57:18.763Z"
   },
   {
    "duration": 4,
    "start_time": "2022-12-27T08:57:19.114Z"
   },
   {
    "duration": 443,
    "start_time": "2022-12-27T08:57:19.128Z"
   },
   {
    "duration": 8,
    "start_time": "2022-12-27T08:57:19.572Z"
   },
   {
    "duration": 36,
    "start_time": "2022-12-27T08:57:19.581Z"
   },
   {
    "duration": 16,
    "start_time": "2022-12-27T08:57:19.618Z"
   },
   {
    "duration": 34,
    "start_time": "2022-12-27T08:57:19.635Z"
   },
   {
    "duration": 3,
    "start_time": "2022-12-27T09:14:04.326Z"
   },
   {
    "duration": 50,
    "start_time": "2022-12-27T09:14:04.333Z"
   },
   {
    "duration": 13,
    "start_time": "2022-12-27T09:14:04.385Z"
   },
   {
    "duration": 16,
    "start_time": "2022-12-27T09:14:04.399Z"
   },
   {
    "duration": 11,
    "start_time": "2022-12-27T09:14:04.417Z"
   },
   {
    "duration": 8,
    "start_time": "2022-12-27T09:14:04.430Z"
   },
   {
    "duration": 160,
    "start_time": "2022-12-27T09:14:04.440Z"
   },
   {
    "duration": 7,
    "start_time": "2022-12-27T09:14:04.602Z"
   },
   {
    "duration": 33,
    "start_time": "2022-12-27T09:14:04.610Z"
   },
   {
    "duration": 6,
    "start_time": "2022-12-27T09:14:04.645Z"
   },
   {
    "duration": 18,
    "start_time": "2022-12-27T09:14:04.653Z"
   },
   {
    "duration": 16,
    "start_time": "2022-12-27T09:14:04.673Z"
   },
   {
    "duration": 315,
    "start_time": "2022-12-27T09:14:04.691Z"
   },
   {
    "duration": 255,
    "start_time": "2022-12-27T09:14:05.007Z"
   },
   {
    "duration": 277,
    "start_time": "2022-12-27T09:14:05.265Z"
   },
   {
    "duration": 587,
    "start_time": "2022-12-27T09:14:05.543Z"
   },
   {
    "duration": 147,
    "start_time": "2022-12-27T09:14:06.132Z"
   },
   {
    "duration": 1149,
    "start_time": "2022-12-27T09:14:06.281Z"
   },
   {
    "duration": 261,
    "start_time": "2022-12-27T09:14:07.432Z"
   },
   {
    "duration": 309,
    "start_time": "2022-12-27T09:14:07.695Z"
   },
   {
    "duration": 275,
    "start_time": "2022-12-27T09:14:08.005Z"
   },
   {
    "duration": 541,
    "start_time": "2022-12-27T09:14:08.281Z"
   },
   {
    "duration": 263,
    "start_time": "2022-12-27T09:14:08.825Z"
   },
   {
    "duration": 5,
    "start_time": "2022-12-27T09:14:09.090Z"
   },
   {
    "duration": 384,
    "start_time": "2022-12-27T09:14:09.096Z"
   },
   {
    "duration": 4,
    "start_time": "2022-12-27T09:14:09.482Z"
   },
   {
    "duration": 369,
    "start_time": "2022-12-27T09:14:09.488Z"
   },
   {
    "duration": 5,
    "start_time": "2022-12-27T09:14:09.858Z"
   },
   {
    "duration": 413,
    "start_time": "2022-12-27T09:14:09.865Z"
   },
   {
    "duration": 7,
    "start_time": "2022-12-27T09:14:10.280Z"
   },
   {
    "duration": 22,
    "start_time": "2022-12-27T09:14:10.289Z"
   },
   {
    "duration": 42,
    "start_time": "2022-12-27T09:14:10.313Z"
   },
   {
    "duration": 19,
    "start_time": "2022-12-27T09:14:10.356Z"
   },
   {
    "duration": 6,
    "start_time": "2022-12-27T09:19:11.779Z"
   },
   {
    "duration": 72,
    "start_time": "2022-12-27T09:20:20.161Z"
   },
   {
    "duration": 75,
    "start_time": "2022-12-27T09:20:29.027Z"
   },
   {
    "duration": 78,
    "start_time": "2022-12-27T09:20:32.090Z"
   },
   {
    "duration": 73,
    "start_time": "2022-12-27T09:20:34.737Z"
   },
   {
    "duration": 7,
    "start_time": "2022-12-27T09:20:37.200Z"
   },
   {
    "duration": 59,
    "start_time": "2022-12-27T09:54:50.421Z"
   },
   {
    "duration": 267,
    "start_time": "2022-12-27T09:58:24.910Z"
   },
   {
    "duration": 305,
    "start_time": "2022-12-27T09:59:45.085Z"
   },
   {
    "duration": 11,
    "start_time": "2022-12-27T10:01:20.694Z"
   },
   {
    "duration": 327,
    "start_time": "2022-12-27T10:01:21.646Z"
   },
   {
    "duration": 12,
    "start_time": "2022-12-27T10:01:31.773Z"
   },
   {
    "duration": 246,
    "start_time": "2022-12-27T10:01:32.887Z"
   },
   {
    "duration": 243,
    "start_time": "2022-12-27T10:01:33.260Z"
   },
   {
    "duration": 3,
    "start_time": "2022-12-27T10:02:34.410Z"
   },
   {
    "duration": 76,
    "start_time": "2022-12-27T10:02:34.414Z"
   },
   {
    "duration": 14,
    "start_time": "2022-12-27T10:02:34.491Z"
   },
   {
    "duration": 18,
    "start_time": "2022-12-27T10:02:34.507Z"
   },
   {
    "duration": 8,
    "start_time": "2022-12-27T10:02:34.527Z"
   },
   {
    "duration": 11,
    "start_time": "2022-12-27T10:02:34.536Z"
   },
   {
    "duration": 153,
    "start_time": "2022-12-27T10:02:34.549Z"
   },
   {
    "duration": 8,
    "start_time": "2022-12-27T10:02:34.703Z"
   },
   {
    "duration": 28,
    "start_time": "2022-12-27T10:02:34.713Z"
   },
   {
    "duration": 7,
    "start_time": "2022-12-27T10:02:34.742Z"
   },
   {
    "duration": 16,
    "start_time": "2022-12-27T10:02:34.750Z"
   },
   {
    "duration": 14,
    "start_time": "2022-12-27T10:02:34.768Z"
   },
   {
    "duration": 296,
    "start_time": "2022-12-27T10:02:34.784Z"
   },
   {
    "duration": 241,
    "start_time": "2022-12-27T10:02:35.082Z"
   },
   {
    "duration": 290,
    "start_time": "2022-12-27T10:02:35.326Z"
   },
   {
    "duration": 602,
    "start_time": "2022-12-27T10:02:35.618Z"
   },
   {
    "duration": 147,
    "start_time": "2022-12-27T10:02:36.222Z"
   },
   {
    "duration": 1043,
    "start_time": "2022-12-27T10:02:36.371Z"
   },
   {
    "duration": 11,
    "start_time": "2022-12-27T10:02:37.416Z"
   },
   {
    "duration": 254,
    "start_time": "2022-12-27T10:02:37.429Z"
   },
   {
    "duration": 68,
    "start_time": "2022-12-27T10:02:37.685Z"
   },
   {
    "duration": 11,
    "start_time": "2022-12-27T10:02:37.755Z"
   },
   {
    "duration": 262,
    "start_time": "2022-12-27T10:02:37.768Z"
   },
   {
    "duration": 287,
    "start_time": "2022-12-27T10:02:38.034Z"
   },
   {
    "duration": 640,
    "start_time": "2022-12-27T10:02:38.327Z"
   },
   {
    "duration": 160,
    "start_time": "2022-12-27T10:02:38.968Z"
   },
   {
    "duration": 4,
    "start_time": "2022-12-27T10:02:39.130Z"
   },
   {
    "duration": 336,
    "start_time": "2022-12-27T10:02:39.136Z"
   },
   {
    "duration": 4,
    "start_time": "2022-12-27T10:02:39.474Z"
   },
   {
    "duration": 366,
    "start_time": "2022-12-27T10:02:39.479Z"
   },
   {
    "duration": 5,
    "start_time": "2022-12-27T10:02:39.847Z"
   },
   {
    "duration": 399,
    "start_time": "2022-12-27T10:02:39.860Z"
   },
   {
    "duration": 8,
    "start_time": "2022-12-27T10:02:40.261Z"
   },
   {
    "duration": 12,
    "start_time": "2022-12-27T10:02:40.270Z"
   },
   {
    "duration": 13,
    "start_time": "2022-12-27T10:02:40.284Z"
   },
   {
    "duration": 28,
    "start_time": "2022-12-27T10:02:40.298Z"
   },
   {
    "duration": 664,
    "start_time": "2022-12-27T10:10:08.514Z"
   },
   {
    "duration": 12,
    "start_time": "2022-12-27T10:11:23.715Z"
   },
   {
    "duration": 1256,
    "start_time": "2022-12-27T10:11:58.816Z"
   },
   {
    "duration": 605,
    "start_time": "2022-12-27T10:13:55.731Z"
   },
   {
    "duration": 1239,
    "start_time": "2022-12-27T10:14:19.521Z"
   },
   {
    "duration": 687,
    "start_time": "2022-12-27T10:14:54.066Z"
   },
   {
    "duration": 163,
    "start_time": "2022-12-27T10:24:26.845Z"
   },
   {
    "duration": 1375,
    "start_time": "2022-12-27T18:29:34.813Z"
   },
   {
    "duration": 478,
    "start_time": "2022-12-27T18:29:36.197Z"
   },
   {
    "duration": 24,
    "start_time": "2022-12-27T18:29:36.676Z"
   },
   {
    "duration": 22,
    "start_time": "2022-12-27T18:29:36.703Z"
   },
   {
    "duration": 16,
    "start_time": "2022-12-27T18:29:36.727Z"
   },
   {
    "duration": 13,
    "start_time": "2022-12-27T18:29:36.745Z"
   },
   {
    "duration": 224,
    "start_time": "2022-12-27T18:29:36.760Z"
   },
   {
    "duration": 9,
    "start_time": "2022-12-27T18:29:36.993Z"
   },
   {
    "duration": 45,
    "start_time": "2022-12-27T18:29:37.004Z"
   },
   {
    "duration": 25,
    "start_time": "2022-12-27T18:29:37.053Z"
   },
   {
    "duration": 48,
    "start_time": "2022-12-27T18:29:37.080Z"
   },
   {
    "duration": 46,
    "start_time": "2022-12-27T18:29:37.130Z"
   },
   {
    "duration": 336,
    "start_time": "2022-12-27T18:29:37.178Z"
   },
   {
    "duration": 247,
    "start_time": "2022-12-27T18:29:37.516Z"
   },
   {
    "duration": 265,
    "start_time": "2022-12-27T18:29:37.764Z"
   },
   {
    "duration": 628,
    "start_time": "2022-12-27T18:29:38.030Z"
   },
   {
    "duration": 325,
    "start_time": "2022-12-27T18:29:38.660Z"
   },
   {
    "duration": 2020,
    "start_time": "2022-12-27T18:29:38.987Z"
   },
   {
    "duration": 5,
    "start_time": "2022-12-27T18:29:41.009Z"
   },
   {
    "duration": 284,
    "start_time": "2022-12-27T18:29:41.015Z"
   },
   {
    "duration": 60,
    "start_time": "2022-12-27T18:29:41.301Z"
   },
   {
    "duration": 26,
    "start_time": "2022-12-27T18:29:41.363Z"
   },
   {
    "duration": 253,
    "start_time": "2022-12-27T18:29:41.394Z"
   },
   {
    "duration": 349,
    "start_time": "2022-12-27T18:29:41.648Z"
   },
   {
    "duration": 638,
    "start_time": "2022-12-27T18:29:41.999Z"
   },
   {
    "duration": 660,
    "start_time": "2022-12-27T18:29:42.639Z"
   },
   {
    "duration": 191,
    "start_time": "2022-12-27T18:29:43.301Z"
   },
   {
    "duration": 4,
    "start_time": "2022-12-27T18:29:43.497Z"
   },
   {
    "duration": 365,
    "start_time": "2022-12-27T18:29:43.503Z"
   },
   {
    "duration": 12,
    "start_time": "2022-12-27T18:29:43.869Z"
   },
   {
    "duration": 467,
    "start_time": "2022-12-27T18:29:43.883Z"
   },
   {
    "duration": 5,
    "start_time": "2022-12-27T18:29:44.352Z"
   },
   {
    "duration": 495,
    "start_time": "2022-12-27T18:29:44.359Z"
   },
   {
    "duration": 30,
    "start_time": "2022-12-27T18:29:44.855Z"
   },
   {
    "duration": 29,
    "start_time": "2022-12-27T18:29:44.895Z"
   },
   {
    "duration": 80,
    "start_time": "2022-12-27T18:29:44.926Z"
   },
   {
    "duration": 74,
    "start_time": "2022-12-27T18:29:45.007Z"
   },
   {
    "duration": 1286,
    "start_time": "2022-12-27T18:31:08.565Z"
   },
   {
    "duration": 185,
    "start_time": "2022-12-27T18:31:20.010Z"
   },
   {
    "duration": 167,
    "start_time": "2022-12-27T18:31:58.195Z"
   },
   {
    "duration": 19,
    "start_time": "2022-12-27T18:32:04.008Z"
   },
   {
    "duration": 194,
    "start_time": "2022-12-27T18:32:09.199Z"
   },
   {
    "duration": 201,
    "start_time": "2022-12-27T18:32:45.008Z"
   },
   {
    "duration": 229,
    "start_time": "2022-12-27T18:44:32.876Z"
   },
   {
    "duration": 3,
    "start_time": "2022-12-27T19:41:42.449Z"
   },
   {
    "duration": 98,
    "start_time": "2022-12-27T19:41:42.454Z"
   },
   {
    "duration": 19,
    "start_time": "2022-12-27T19:41:42.554Z"
   },
   {
    "duration": 29,
    "start_time": "2022-12-27T19:41:42.575Z"
   },
   {
    "duration": 7,
    "start_time": "2022-12-27T19:41:42.607Z"
   },
   {
    "duration": 14,
    "start_time": "2022-12-27T19:41:42.616Z"
   },
   {
    "duration": 200,
    "start_time": "2022-12-27T19:41:42.632Z"
   },
   {
    "duration": 8,
    "start_time": "2022-12-27T19:41:42.833Z"
   },
   {
    "duration": 55,
    "start_time": "2022-12-27T19:41:42.843Z"
   },
   {
    "duration": 9,
    "start_time": "2022-12-27T19:41:42.900Z"
   },
   {
    "duration": 19,
    "start_time": "2022-12-27T19:41:42.910Z"
   },
   {
    "duration": 25,
    "start_time": "2022-12-27T19:41:42.931Z"
   },
   {
    "duration": 398,
    "start_time": "2022-12-27T19:41:42.959Z"
   },
   {
    "duration": 272,
    "start_time": "2022-12-27T19:41:43.359Z"
   },
   {
    "duration": 399,
    "start_time": "2022-12-27T19:41:43.633Z"
   },
   {
    "duration": 599,
    "start_time": "2022-12-27T19:41:44.036Z"
   },
   {
    "duration": 188,
    "start_time": "2022-12-27T19:41:44.636Z"
   },
   {
    "duration": 1382,
    "start_time": "2022-12-27T19:41:44.826Z"
   },
   {
    "duration": 6,
    "start_time": "2022-12-27T19:41:46.210Z"
   },
   {
    "duration": 401,
    "start_time": "2022-12-27T19:41:46.218Z"
   },
   {
    "duration": 98,
    "start_time": "2022-12-27T19:41:46.621Z"
   },
   {
    "duration": 13,
    "start_time": "2022-12-27T19:41:46.721Z"
   },
   {
    "duration": 361,
    "start_time": "2022-12-27T19:41:46.737Z"
   },
   {
    "duration": 272,
    "start_time": "2022-12-27T19:41:47.100Z"
   },
   {
    "duration": 600,
    "start_time": "2022-12-27T19:41:47.380Z"
   },
   {
    "duration": 639,
    "start_time": "2022-12-27T19:41:47.983Z"
   },
   {
    "duration": 216,
    "start_time": "2022-12-27T19:41:48.624Z"
   },
   {
    "duration": 208,
    "start_time": "2022-12-27T19:41:48.842Z"
   },
   {
    "duration": 6,
    "start_time": "2022-12-27T19:41:49.052Z"
   },
   {
    "duration": 486,
    "start_time": "2022-12-27T19:41:49.060Z"
   },
   {
    "duration": 4,
    "start_time": "2022-12-27T19:41:49.548Z"
   },
   {
    "duration": 372,
    "start_time": "2022-12-27T19:41:49.554Z"
   },
   {
    "duration": 4,
    "start_time": "2022-12-27T19:41:49.928Z"
   },
   {
    "duration": 422,
    "start_time": "2022-12-27T19:41:49.934Z"
   },
   {
    "duration": 9,
    "start_time": "2022-12-27T19:41:50.357Z"
   },
   {
    "duration": 18,
    "start_time": "2022-12-27T19:41:50.380Z"
   },
   {
    "duration": 8,
    "start_time": "2022-12-27T19:41:50.402Z"
   },
   {
    "duration": 10,
    "start_time": "2022-12-27T19:41:50.412Z"
   },
   {
    "duration": 11,
    "start_time": "2022-12-27T20:16:11.128Z"
   },
   {
    "duration": 15,
    "start_time": "2022-12-27T20:16:26.404Z"
   },
   {
    "duration": 8,
    "start_time": "2022-12-27T20:17:10.727Z"
   },
   {
    "duration": 78,
    "start_time": "2022-12-27T20:17:18.071Z"
   },
   {
    "duration": 5,
    "start_time": "2022-12-27T20:17:21.658Z"
   },
   {
    "duration": 5,
    "start_time": "2022-12-27T20:17:27.233Z"
   },
   {
    "duration": 5,
    "start_time": "2022-12-27T20:17:43.335Z"
   },
   {
    "duration": 74,
    "start_time": "2022-12-27T20:55:47.408Z"
   },
   {
    "duration": 53,
    "start_time": "2022-12-27T21:54:46.334Z"
   },
   {
    "duration": 1191,
    "start_time": "2022-12-27T21:54:51.540Z"
   },
   {
    "duration": 98,
    "start_time": "2022-12-27T21:54:52.733Z"
   },
   {
    "duration": 20,
    "start_time": "2022-12-27T21:54:52.833Z"
   },
   {
    "duration": 13,
    "start_time": "2022-12-27T21:54:52.855Z"
   },
   {
    "duration": 4,
    "start_time": "2022-12-27T21:54:52.871Z"
   },
   {
    "duration": 6,
    "start_time": "2022-12-27T21:54:52.876Z"
   },
   {
    "duration": 203,
    "start_time": "2022-12-27T21:54:52.884Z"
   },
   {
    "duration": 7,
    "start_time": "2022-12-27T21:54:53.089Z"
   },
   {
    "duration": 29,
    "start_time": "2022-12-27T21:54:53.097Z"
   },
   {
    "duration": 6,
    "start_time": "2022-12-27T21:54:53.128Z"
   },
   {
    "duration": 18,
    "start_time": "2022-12-27T21:54:53.136Z"
   },
   {
    "duration": 16,
    "start_time": "2022-12-27T21:54:53.155Z"
   },
   {
    "duration": 13,
    "start_time": "2022-12-27T21:54:53.173Z"
   },
   {
    "duration": 294,
    "start_time": "2022-12-27T21:54:53.215Z"
   },
   {
    "duration": 261,
    "start_time": "2022-12-27T21:54:53.515Z"
   },
   {
    "duration": 278,
    "start_time": "2022-12-27T21:54:53.778Z"
   },
   {
    "duration": 690,
    "start_time": "2022-12-27T21:54:54.058Z"
   },
   {
    "duration": 170,
    "start_time": "2022-12-27T21:54:54.752Z"
   },
   {
    "duration": 1297,
    "start_time": "2022-12-27T21:54:54.923Z"
   },
   {
    "duration": 9,
    "start_time": "2022-12-27T21:54:56.222Z"
   },
   {
    "duration": 350,
    "start_time": "2022-12-27T21:54:56.233Z"
   },
   {
    "duration": 67,
    "start_time": "2022-12-27T21:54:56.585Z"
   },
   {
    "duration": 12,
    "start_time": "2022-12-27T21:54:56.653Z"
   },
   {
    "duration": 301,
    "start_time": "2022-12-27T21:54:56.666Z"
   },
   {
    "duration": 335,
    "start_time": "2022-12-27T21:54:56.969Z"
   },
   {
    "duration": 704,
    "start_time": "2022-12-27T21:54:57.306Z"
   },
   {
    "duration": 644,
    "start_time": "2022-12-27T21:54:58.015Z"
   },
   {
    "duration": 227,
    "start_time": "2022-12-27T21:54:58.661Z"
   },
   {
    "duration": 200,
    "start_time": "2022-12-27T21:54:58.889Z"
   },
   {
    "duration": 5,
    "start_time": "2022-12-27T21:54:59.090Z"
   },
   {
    "duration": 374,
    "start_time": "2022-12-27T21:54:59.096Z"
   },
   {
    "duration": 5,
    "start_time": "2022-12-27T21:54:59.471Z"
   },
   {
    "duration": 481,
    "start_time": "2022-12-27T21:54:59.477Z"
   },
   {
    "duration": 6,
    "start_time": "2022-12-27T21:54:59.960Z"
   },
   {
    "duration": 405,
    "start_time": "2022-12-27T21:54:59.967Z"
   },
   {
    "duration": 9,
    "start_time": "2022-12-27T21:55:00.374Z"
   },
   {
    "duration": 38,
    "start_time": "2022-12-27T21:55:00.384Z"
   },
   {
    "duration": 34,
    "start_time": "2022-12-27T21:55:00.423Z"
   },
   {
    "duration": 52,
    "start_time": "2022-12-27T21:55:00.458Z"
   },
   {
    "duration": 26,
    "start_time": "2022-12-27T21:57:21.569Z"
   },
   {
    "duration": 1164,
    "start_time": "2022-12-27T21:57:33.558Z"
   },
   {
    "duration": 58,
    "start_time": "2022-12-27T21:57:34.724Z"
   },
   {
    "duration": 16,
    "start_time": "2022-12-27T21:57:34.784Z"
   },
   {
    "duration": 14,
    "start_time": "2022-12-27T21:57:34.802Z"
   },
   {
    "duration": 5,
    "start_time": "2022-12-27T21:57:34.818Z"
   },
   {
    "duration": 10,
    "start_time": "2022-12-27T21:57:34.824Z"
   },
   {
    "duration": 183,
    "start_time": "2022-12-27T21:57:34.836Z"
   },
   {
    "duration": 8,
    "start_time": "2022-12-27T21:57:35.020Z"
   },
   {
    "duration": 36,
    "start_time": "2022-12-27T21:57:35.030Z"
   },
   {
    "duration": 7,
    "start_time": "2022-12-27T21:57:35.068Z"
   },
   {
    "duration": 14,
    "start_time": "2022-12-27T21:57:35.076Z"
   },
   {
    "duration": 43,
    "start_time": "2022-12-27T21:57:35.092Z"
   },
   {
    "duration": 16,
    "start_time": "2022-12-27T21:57:35.137Z"
   },
   {
    "duration": 20,
    "start_time": "2022-12-27T21:57:35.156Z"
   },
   {
    "duration": 342,
    "start_time": "2022-12-27T21:57:35.178Z"
   },
   {
    "duration": 267,
    "start_time": "2022-12-27T21:57:35.522Z"
   },
   {
    "duration": 271,
    "start_time": "2022-12-27T21:57:35.790Z"
   },
   {
    "duration": 662,
    "start_time": "2022-12-27T21:57:36.063Z"
   },
   {
    "duration": 151,
    "start_time": "2022-12-27T21:57:36.727Z"
   },
   {
    "duration": 1199,
    "start_time": "2022-12-27T21:57:36.880Z"
   },
   {
    "duration": 6,
    "start_time": "2022-12-27T21:57:38.081Z"
   },
   {
    "duration": 270,
    "start_time": "2022-12-27T21:57:38.089Z"
   },
   {
    "duration": 66,
    "start_time": "2022-12-27T21:57:38.361Z"
   },
   {
    "duration": 12,
    "start_time": "2022-12-27T21:57:38.429Z"
   },
   {
    "duration": 277,
    "start_time": "2022-12-27T21:57:38.443Z"
   },
   {
    "duration": 303,
    "start_time": "2022-12-27T21:57:38.721Z"
   },
   {
    "duration": 726,
    "start_time": "2022-12-27T21:57:39.026Z"
   },
   {
    "duration": 703,
    "start_time": "2022-12-27T21:57:39.755Z"
   },
   {
    "duration": 235,
    "start_time": "2022-12-27T21:57:40.461Z"
   },
   {
    "duration": 221,
    "start_time": "2022-12-27T21:57:40.697Z"
   },
   {
    "duration": 5,
    "start_time": "2022-12-27T21:57:40.920Z"
   },
   {
    "duration": 386,
    "start_time": "2022-12-27T21:57:40.927Z"
   },
   {
    "duration": 4,
    "start_time": "2022-12-27T21:57:41.316Z"
   },
   {
    "duration": 475,
    "start_time": "2022-12-27T21:57:41.322Z"
   },
   {
    "duration": 4,
    "start_time": "2022-12-27T21:57:41.798Z"
   },
   {
    "duration": 417,
    "start_time": "2022-12-27T21:57:41.803Z"
   },
   {
    "duration": 8,
    "start_time": "2022-12-27T21:57:42.222Z"
   },
   {
    "duration": 13,
    "start_time": "2022-12-27T21:57:42.232Z"
   },
   {
    "duration": 10,
    "start_time": "2022-12-27T21:57:42.247Z"
   },
   {
    "duration": 12,
    "start_time": "2022-12-27T21:57:42.259Z"
   },
   {
    "duration": 14,
    "start_time": "2022-12-27T21:58:10.420Z"
   },
   {
    "duration": 1082,
    "start_time": "2022-12-27T21:58:22.543Z"
   },
   {
    "duration": 55,
    "start_time": "2022-12-27T21:58:23.627Z"
   },
   {
    "duration": 16,
    "start_time": "2022-12-27T21:58:23.683Z"
   },
   {
    "duration": 22,
    "start_time": "2022-12-27T21:58:23.700Z"
   },
   {
    "duration": 5,
    "start_time": "2022-12-27T21:58:23.724Z"
   },
   {
    "duration": 8,
    "start_time": "2022-12-27T21:58:23.732Z"
   },
   {
    "duration": 191,
    "start_time": "2022-12-27T21:58:23.743Z"
   },
   {
    "duration": 8,
    "start_time": "2022-12-27T21:58:23.936Z"
   },
   {
    "duration": 31,
    "start_time": "2022-12-27T21:58:23.945Z"
   },
   {
    "duration": 7,
    "start_time": "2022-12-27T21:58:23.978Z"
   },
   {
    "duration": 37,
    "start_time": "2022-12-27T21:58:23.986Z"
   },
   {
    "duration": 23,
    "start_time": "2022-12-27T21:58:24.025Z"
   },
   {
    "duration": 17,
    "start_time": "2022-12-27T21:58:24.050Z"
   },
   {
    "duration": 13,
    "start_time": "2022-12-27T21:58:24.069Z"
   },
   {
    "duration": 336,
    "start_time": "2022-12-27T21:58:24.083Z"
   },
   {
    "duration": 284,
    "start_time": "2022-12-27T21:58:24.421Z"
   },
   {
    "duration": 277,
    "start_time": "2022-12-27T21:58:24.706Z"
   },
   {
    "duration": 612,
    "start_time": "2022-12-27T21:58:24.985Z"
   },
   {
    "duration": 169,
    "start_time": "2022-12-27T21:58:25.599Z"
   },
   {
    "duration": 1181,
    "start_time": "2022-12-27T21:58:25.769Z"
   },
   {
    "duration": 6,
    "start_time": "2022-12-27T21:58:26.953Z"
   },
   {
    "duration": 276,
    "start_time": "2022-12-27T21:58:26.961Z"
   },
   {
    "duration": 77,
    "start_time": "2022-12-27T21:58:27.239Z"
   },
   {
    "duration": 13,
    "start_time": "2022-12-27T21:58:27.319Z"
   },
   {
    "duration": 281,
    "start_time": "2022-12-27T21:58:27.334Z"
   },
   {
    "duration": 321,
    "start_time": "2022-12-27T21:58:27.617Z"
   },
   {
    "duration": 705,
    "start_time": "2022-12-27T21:58:27.940Z"
   },
   {
    "duration": 600,
    "start_time": "2022-12-27T21:58:28.647Z"
   },
   {
    "duration": 204,
    "start_time": "2022-12-27T21:58:29.249Z"
   },
   {
    "duration": 196,
    "start_time": "2022-12-27T21:58:29.454Z"
   },
   {
    "duration": 5,
    "start_time": "2022-12-27T21:58:29.652Z"
   },
   {
    "duration": 361,
    "start_time": "2022-12-27T21:58:29.658Z"
   },
   {
    "duration": 5,
    "start_time": "2022-12-27T21:58:30.021Z"
   },
   {
    "duration": 477,
    "start_time": "2022-12-27T21:58:30.028Z"
   },
   {
    "duration": 10,
    "start_time": "2022-12-27T21:58:30.507Z"
   },
   {
    "duration": 437,
    "start_time": "2022-12-27T21:58:30.518Z"
   },
   {
    "duration": 8,
    "start_time": "2022-12-27T21:58:30.957Z"
   },
   {
    "duration": 44,
    "start_time": "2022-12-27T21:58:30.967Z"
   },
   {
    "duration": 35,
    "start_time": "2022-12-27T21:58:31.012Z"
   },
   {
    "duration": 57,
    "start_time": "2022-12-27T21:58:31.048Z"
   },
   {
    "duration": 1037,
    "start_time": "2022-12-27T22:29:46.464Z"
   },
   {
    "duration": 56,
    "start_time": "2022-12-27T22:29:47.503Z"
   },
   {
    "duration": 20,
    "start_time": "2022-12-27T22:29:47.561Z"
   },
   {
    "duration": 16,
    "start_time": "2022-12-27T22:29:47.583Z"
   },
   {
    "duration": 14,
    "start_time": "2022-12-27T22:29:47.601Z"
   },
   {
    "duration": 5,
    "start_time": "2022-12-27T22:29:47.618Z"
   },
   {
    "duration": 191,
    "start_time": "2022-12-27T22:29:47.624Z"
   },
   {
    "duration": 9,
    "start_time": "2022-12-27T22:29:47.817Z"
   },
   {
    "duration": 23,
    "start_time": "2022-12-27T22:29:47.828Z"
   },
   {
    "duration": 6,
    "start_time": "2022-12-27T22:29:47.853Z"
   },
   {
    "duration": 14,
    "start_time": "2022-12-27T22:29:47.860Z"
   },
   {
    "duration": 50,
    "start_time": "2022-12-27T22:29:47.875Z"
   },
   {
    "duration": 16,
    "start_time": "2022-12-27T22:29:47.927Z"
   },
   {
    "duration": 16,
    "start_time": "2022-12-27T22:29:47.945Z"
   },
   {
    "duration": 339,
    "start_time": "2022-12-27T22:29:47.963Z"
   },
   {
    "duration": 250,
    "start_time": "2022-12-27T22:29:48.303Z"
   },
   {
    "duration": 274,
    "start_time": "2022-12-27T22:29:48.555Z"
   },
   {
    "duration": 566,
    "start_time": "2022-12-27T22:29:48.831Z"
   },
   {
    "duration": 146,
    "start_time": "2022-12-27T22:29:49.398Z"
   },
   {
    "duration": 1046,
    "start_time": "2022-12-27T22:29:49.545Z"
   },
   {
    "duration": 6,
    "start_time": "2022-12-27T22:29:50.592Z"
   },
   {
    "duration": 252,
    "start_time": "2022-12-27T22:29:50.616Z"
   },
   {
    "duration": 75,
    "start_time": "2022-12-27T22:29:50.870Z"
   },
   {
    "duration": 12,
    "start_time": "2022-12-27T22:29:50.947Z"
   },
   {
    "duration": 285,
    "start_time": "2022-12-27T22:29:50.962Z"
   },
   {
    "duration": 369,
    "start_time": "2022-12-27T22:29:51.249Z"
   },
   {
    "duration": 729,
    "start_time": "2022-12-27T22:29:51.620Z"
   },
   {
    "duration": 592,
    "start_time": "2022-12-27T22:29:52.352Z"
   },
   {
    "duration": 209,
    "start_time": "2022-12-27T22:29:52.945Z"
   },
   {
    "duration": 208,
    "start_time": "2022-12-27T22:29:53.156Z"
   },
   {
    "duration": 5,
    "start_time": "2022-12-27T22:29:53.366Z"
   },
   {
    "duration": 353,
    "start_time": "2022-12-27T22:29:53.372Z"
   },
   {
    "duration": 5,
    "start_time": "2022-12-27T22:29:53.727Z"
   },
   {
    "duration": 453,
    "start_time": "2022-12-27T22:29:53.733Z"
   },
   {
    "duration": 5,
    "start_time": "2022-12-27T22:29:54.187Z"
   },
   {
    "duration": 395,
    "start_time": "2022-12-27T22:29:54.194Z"
   },
   {
    "duration": 8,
    "start_time": "2022-12-27T22:29:54.591Z"
   },
   {
    "duration": 20,
    "start_time": "2022-12-27T22:29:54.601Z"
   },
   {
    "duration": 8,
    "start_time": "2022-12-27T22:29:54.622Z"
   },
   {
    "duration": 14,
    "start_time": "2022-12-27T22:29:54.631Z"
   },
   {
    "duration": 10,
    "start_time": "2022-12-27T22:30:24.111Z"
   },
   {
    "duration": 43,
    "start_time": "2022-12-28T06:53:19.837Z"
   },
   {
    "duration": 1213,
    "start_time": "2022-12-28T06:53:23.698Z"
   },
   {
    "duration": 90,
    "start_time": "2022-12-28T06:53:24.913Z"
   },
   {
    "duration": 15,
    "start_time": "2022-12-28T06:53:25.005Z"
   },
   {
    "duration": 31,
    "start_time": "2022-12-28T06:53:25.022Z"
   },
   {
    "duration": 4,
    "start_time": "2022-12-28T06:53:25.055Z"
   },
   {
    "duration": 10,
    "start_time": "2022-12-28T06:53:25.060Z"
   },
   {
    "duration": 189,
    "start_time": "2022-12-28T06:53:25.071Z"
   },
   {
    "duration": 8,
    "start_time": "2022-12-28T06:53:25.262Z"
   },
   {
    "duration": 28,
    "start_time": "2022-12-28T06:53:25.272Z"
   },
   {
    "duration": 8,
    "start_time": "2022-12-28T06:53:25.320Z"
   },
   {
    "duration": 88,
    "start_time": "2022-12-28T06:53:25.330Z"
   },
   {
    "duration": 15,
    "start_time": "2022-12-28T06:53:43.019Z"
   },
   {
    "duration": 15,
    "start_time": "2022-12-28T06:54:42.179Z"
   },
   {
    "duration": 9,
    "start_time": "2022-12-28T06:55:04.218Z"
   },
   {
    "duration": 10,
    "start_time": "2022-12-28T06:55:11.139Z"
   },
   {
    "duration": 3,
    "start_time": "2022-12-28T10:15:55.432Z"
   },
   {
    "duration": 67,
    "start_time": "2022-12-28T10:15:55.438Z"
   },
   {
    "duration": 13,
    "start_time": "2022-12-28T10:15:55.507Z"
   },
   {
    "duration": 18,
    "start_time": "2022-12-28T10:15:55.521Z"
   },
   {
    "duration": 9,
    "start_time": "2022-12-28T10:15:55.541Z"
   },
   {
    "duration": 10,
    "start_time": "2022-12-28T10:15:55.551Z"
   },
   {
    "duration": 152,
    "start_time": "2022-12-28T10:15:55.562Z"
   },
   {
    "duration": 9,
    "start_time": "2022-12-28T10:15:55.716Z"
   },
   {
    "duration": 27,
    "start_time": "2022-12-28T10:15:55.726Z"
   },
   {
    "duration": 7,
    "start_time": "2022-12-28T10:15:55.754Z"
   },
   {
    "duration": 9,
    "start_time": "2022-12-28T10:15:55.764Z"
   },
   {
    "duration": 10,
    "start_time": "2022-12-28T10:15:55.774Z"
   },
   {
    "duration": 40,
    "start_time": "2022-12-28T10:15:55.785Z"
   },
   {
    "duration": 13,
    "start_time": "2022-12-28T10:15:55.827Z"
   },
   {
    "duration": 302,
    "start_time": "2022-12-28T10:15:55.841Z"
   },
   {
    "duration": 240,
    "start_time": "2022-12-28T10:15:56.144Z"
   },
   {
    "duration": 264,
    "start_time": "2022-12-28T10:15:56.385Z"
   },
   {
    "duration": 739,
    "start_time": "2022-12-28T10:15:56.651Z"
   },
   {
    "duration": 151,
    "start_time": "2022-12-28T10:15:57.392Z"
   },
   {
    "duration": 1042,
    "start_time": "2022-12-28T10:15:57.545Z"
   },
   {
    "duration": 6,
    "start_time": "2022-12-28T10:15:58.590Z"
   },
   {
    "duration": 268,
    "start_time": "2022-12-28T10:15:58.598Z"
   },
   {
    "duration": 60,
    "start_time": "2022-12-28T10:15:58.868Z"
   },
   {
    "duration": 9,
    "start_time": "2022-12-28T10:15:58.930Z"
   },
   {
    "duration": 250,
    "start_time": "2022-12-28T10:15:58.940Z"
   },
   {
    "duration": 451,
    "start_time": "2022-12-28T10:15:59.192Z"
   },
   {
    "duration": 561,
    "start_time": "2022-12-28T10:15:59.645Z"
   },
   {
    "duration": 834,
    "start_time": "2022-12-28T10:16:00.208Z"
   },
   {
    "duration": 419,
    "start_time": "2022-12-28T10:16:01.045Z"
   },
   {
    "duration": 457,
    "start_time": "2022-12-28T10:16:01.466Z"
   },
   {
    "duration": 7,
    "start_time": "2022-12-28T10:16:01.925Z"
   },
   {
    "duration": 600,
    "start_time": "2022-12-28T10:16:01.934Z"
   },
   {
    "duration": 5,
    "start_time": "2022-12-28T10:16:02.536Z"
   },
   {
    "duration": 457,
    "start_time": "2022-12-28T10:16:02.548Z"
   },
   {
    "duration": 4,
    "start_time": "2022-12-28T10:16:03.007Z"
   },
   {
    "duration": 392,
    "start_time": "2022-12-28T10:16:03.013Z"
   },
   {
    "duration": 16,
    "start_time": "2022-12-28T10:16:03.407Z"
   },
   {
    "duration": 41,
    "start_time": "2022-12-28T10:16:03.425Z"
   },
   {
    "duration": 21,
    "start_time": "2022-12-28T10:16:03.469Z"
   },
   {
    "duration": 23,
    "start_time": "2022-12-28T10:16:03.492Z"
   },
   {
    "duration": 6,
    "start_time": "2022-12-28T10:20:25.138Z"
   },
   {
    "duration": 5,
    "start_time": "2022-12-28T10:20:39.785Z"
   },
   {
    "duration": 10,
    "start_time": "2022-12-28T10:20:53.082Z"
   },
   {
    "duration": 9,
    "start_time": "2022-12-28T10:21:03.902Z"
   },
   {
    "duration": 840,
    "start_time": "2022-12-28T10:21:45.501Z"
   },
   {
    "duration": 525,
    "start_time": "2022-12-28T10:25:49.340Z"
   },
   {
    "duration": 15,
    "start_time": "2022-12-28T10:26:37.076Z"
   },
   {
    "duration": 556,
    "start_time": "2022-12-28T10:26:43.910Z"
   },
   {
    "duration": 3,
    "start_time": "2022-12-28T10:27:55.794Z"
   },
   {
    "duration": 52,
    "start_time": "2022-12-28T10:27:55.799Z"
   },
   {
    "duration": 13,
    "start_time": "2022-12-28T10:27:55.852Z"
   },
   {
    "duration": 16,
    "start_time": "2022-12-28T10:27:55.866Z"
   },
   {
    "duration": 4,
    "start_time": "2022-12-28T10:27:55.884Z"
   },
   {
    "duration": 6,
    "start_time": "2022-12-28T10:27:55.890Z"
   },
   {
    "duration": 153,
    "start_time": "2022-12-28T10:27:55.921Z"
   },
   {
    "duration": 7,
    "start_time": "2022-12-28T10:27:56.076Z"
   },
   {
    "duration": 21,
    "start_time": "2022-12-28T10:27:56.085Z"
   },
   {
    "duration": 7,
    "start_time": "2022-12-28T10:27:56.121Z"
   },
   {
    "duration": 10,
    "start_time": "2022-12-28T10:27:56.130Z"
   },
   {
    "duration": 8,
    "start_time": "2022-12-28T10:27:56.142Z"
   },
   {
    "duration": 15,
    "start_time": "2022-12-28T10:27:56.151Z"
   },
   {
    "duration": 12,
    "start_time": "2022-12-28T10:27:56.167Z"
   },
   {
    "duration": 45,
    "start_time": "2022-12-28T10:27:56.180Z"
   },
   {
    "duration": 292,
    "start_time": "2022-12-28T10:27:56.226Z"
   },
   {
    "duration": 263,
    "start_time": "2022-12-28T10:27:56.520Z"
   },
   {
    "duration": 297,
    "start_time": "2022-12-28T10:27:56.785Z"
   },
   {
    "duration": 583,
    "start_time": "2022-12-28T10:27:57.084Z"
   },
   {
    "duration": 149,
    "start_time": "2022-12-28T10:27:57.669Z"
   },
   {
    "duration": 974,
    "start_time": "2022-12-28T10:27:57.820Z"
   },
   {
    "duration": 6,
    "start_time": "2022-12-28T10:27:58.795Z"
   },
   {
    "duration": 457,
    "start_time": "2022-12-28T10:27:58.802Z"
   },
   {
    "duration": 104,
    "start_time": "2022-12-28T10:27:59.261Z"
   },
   {
    "duration": 11,
    "start_time": "2022-12-28T10:27:59.421Z"
   },
   {
    "duration": 500,
    "start_time": "2022-12-28T10:27:59.434Z"
   },
   {
    "duration": 607,
    "start_time": "2022-12-28T10:27:59.935Z"
   },
   {
    "duration": 570,
    "start_time": "2022-12-28T10:28:00.543Z"
   },
   {
    "duration": 619,
    "start_time": "2022-12-28T10:28:01.117Z"
   },
   {
    "duration": 204,
    "start_time": "2022-12-28T10:28:01.738Z"
   },
   {
    "duration": 188,
    "start_time": "2022-12-28T10:28:01.945Z"
   },
   {
    "duration": 5,
    "start_time": "2022-12-28T10:28:02.134Z"
   },
   {
    "duration": 374,
    "start_time": "2022-12-28T10:28:02.141Z"
   },
   {
    "duration": 6,
    "start_time": "2022-12-28T10:28:02.517Z"
   },
   {
    "duration": 438,
    "start_time": "2022-12-28T10:28:02.525Z"
   },
   {
    "duration": 4,
    "start_time": "2022-12-28T10:28:02.965Z"
   },
   {
    "duration": 379,
    "start_time": "2022-12-28T10:28:02.970Z"
   },
   {
    "duration": 8,
    "start_time": "2022-12-28T10:28:03.350Z"
   },
   {
    "duration": 9,
    "start_time": "2022-12-28T10:28:03.361Z"
   },
   {
    "duration": 9,
    "start_time": "2022-12-28T10:28:03.372Z"
   },
   {
    "duration": 10,
    "start_time": "2022-12-28T10:28:03.382Z"
   },
   {
    "duration": 4,
    "start_time": "2022-12-28T11:49:14.605Z"
   },
   {
    "duration": 97,
    "start_time": "2022-12-28T11:51:07.733Z"
   },
   {
    "duration": 3,
    "start_time": "2022-12-28T11:51:50.659Z"
   },
   {
    "duration": 93,
    "start_time": "2022-12-28T11:51:52.554Z"
   },
   {
    "duration": 3,
    "start_time": "2022-12-28T11:52:24.104Z"
   },
   {
    "duration": 60,
    "start_time": "2022-12-28T11:52:24.109Z"
   },
   {
    "duration": 16,
    "start_time": "2022-12-28T11:52:24.170Z"
   },
   {
    "duration": 31,
    "start_time": "2022-12-28T11:52:24.187Z"
   },
   {
    "duration": 4,
    "start_time": "2022-12-28T11:52:24.220Z"
   },
   {
    "duration": 9,
    "start_time": "2022-12-28T11:52:24.226Z"
   },
   {
    "duration": 157,
    "start_time": "2022-12-28T11:52:24.236Z"
   },
   {
    "duration": 7,
    "start_time": "2022-12-28T11:52:24.395Z"
   },
   {
    "duration": 45,
    "start_time": "2022-12-28T11:52:24.405Z"
   },
   {
    "duration": 13,
    "start_time": "2022-12-28T11:52:24.452Z"
   },
   {
    "duration": 11,
    "start_time": "2022-12-28T11:52:24.466Z"
   },
   {
    "duration": 11,
    "start_time": "2022-12-28T11:52:24.479Z"
   },
   {
    "duration": 19,
    "start_time": "2022-12-28T11:52:24.491Z"
   },
   {
    "duration": 18,
    "start_time": "2022-12-28T11:52:24.513Z"
   },
   {
    "duration": 15,
    "start_time": "2022-12-28T11:52:24.533Z"
   },
   {
    "duration": 331,
    "start_time": "2022-12-28T11:52:24.550Z"
   },
   {
    "duration": 285,
    "start_time": "2022-12-28T11:52:24.882Z"
   },
   {
    "duration": 274,
    "start_time": "2022-12-28T11:52:25.170Z"
   },
   {
    "duration": 607,
    "start_time": "2022-12-28T11:52:25.446Z"
   },
   {
    "duration": 151,
    "start_time": "2022-12-28T11:52:26.055Z"
   },
   {
    "duration": 1070,
    "start_time": "2022-12-28T11:52:26.208Z"
   },
   {
    "duration": 6,
    "start_time": "2022-12-28T11:52:27.279Z"
   },
   {
    "duration": 289,
    "start_time": "2022-12-28T11:52:27.286Z"
   },
   {
    "duration": 66,
    "start_time": "2022-12-28T11:52:27.576Z"
   },
   {
    "duration": 11,
    "start_time": "2022-12-28T11:52:27.643Z"
   },
   {
    "duration": 338,
    "start_time": "2022-12-28T11:52:27.655Z"
   },
   {
    "duration": 335,
    "start_time": "2022-12-28T11:52:27.995Z"
   },
   {
    "duration": 593,
    "start_time": "2022-12-28T11:52:28.332Z"
   },
   {
    "duration": 608,
    "start_time": "2022-12-28T11:52:28.927Z"
   },
   {
    "duration": 191,
    "start_time": "2022-12-28T11:52:29.536Z"
   },
   {
    "duration": 183,
    "start_time": "2022-12-28T11:52:29.729Z"
   },
   {
    "duration": 8,
    "start_time": "2022-12-28T11:52:29.913Z"
   },
   {
    "duration": 95,
    "start_time": "2022-12-28T11:52:29.922Z"
   },
   {
    "duration": 0,
    "start_time": "2022-12-28T11:52:30.019Z"
   },
   {
    "duration": 0,
    "start_time": "2022-12-28T11:52:30.021Z"
   },
   {
    "duration": 1,
    "start_time": "2022-12-28T11:52:30.022Z"
   },
   {
    "duration": 0,
    "start_time": "2022-12-28T11:52:30.024Z"
   },
   {
    "duration": 0,
    "start_time": "2022-12-28T11:52:30.025Z"
   },
   {
    "duration": 0,
    "start_time": "2022-12-28T11:52:30.027Z"
   },
   {
    "duration": 0,
    "start_time": "2022-12-28T11:52:30.028Z"
   },
   {
    "duration": 0,
    "start_time": "2022-12-28T11:52:30.030Z"
   },
   {
    "duration": 89,
    "start_time": "2022-12-28T11:53:25.713Z"
   },
   {
    "duration": 97,
    "start_time": "2022-12-28T11:53:40.859Z"
   },
   {
    "duration": 483,
    "start_time": "2022-12-28T11:54:14.316Z"
   },
   {
    "duration": 411,
    "start_time": "2022-12-28T11:55:11.874Z"
   },
   {
    "duration": 396,
    "start_time": "2022-12-28T11:56:30.709Z"
   },
   {
    "duration": 386,
    "start_time": "2022-12-28T11:57:02.972Z"
   },
   {
    "duration": 457,
    "start_time": "2022-12-28T11:57:26.812Z"
   },
   {
    "duration": 171,
    "start_time": "2022-12-28T11:59:41.172Z"
   },
   {
    "duration": 163,
    "start_time": "2022-12-28T12:00:14.129Z"
   },
   {
    "duration": 267,
    "start_time": "2022-12-28T12:00:42.644Z"
   },
   {
    "duration": 95,
    "start_time": "2022-12-28T12:01:13.674Z"
   },
   {
    "duration": 82,
    "start_time": "2022-12-28T12:01:46.983Z"
   },
   {
    "duration": 282,
    "start_time": "2022-12-28T12:02:09.268Z"
   },
   {
    "duration": 4,
    "start_time": "2022-12-28T12:03:52.714Z"
   },
   {
    "duration": 168,
    "start_time": "2022-12-28T12:03:54.299Z"
   },
   {
    "duration": 4,
    "start_time": "2022-12-28T12:04:10.410Z"
   },
   {
    "duration": 270,
    "start_time": "2022-12-28T12:04:32.844Z"
   },
   {
    "duration": 377,
    "start_time": "2022-12-28T12:05:02.058Z"
   },
   {
    "duration": 368,
    "start_time": "2022-12-28T12:07:54.601Z"
   },
   {
    "duration": 28,
    "start_time": "2022-12-28T12:14:57.570Z"
   },
   {
    "duration": 9,
    "start_time": "2022-12-28T12:15:21.818Z"
   },
   {
    "duration": 415,
    "start_time": "2022-12-28T12:15:22.739Z"
   },
   {
    "duration": 89,
    "start_time": "2022-12-28T12:16:17.911Z"
   },
   {
    "duration": 190,
    "start_time": "2022-12-28T12:16:19.249Z"
   },
   {
    "duration": 7,
    "start_time": "2022-12-28T12:17:15.417Z"
   },
   {
    "duration": 181,
    "start_time": "2022-12-28T12:17:16.306Z"
   },
   {
    "duration": 7,
    "start_time": "2022-12-28T12:17:36.611Z"
   },
   {
    "duration": 194,
    "start_time": "2022-12-28T12:17:37.678Z"
   },
   {
    "duration": 6,
    "start_time": "2022-12-28T12:18:05.939Z"
   },
   {
    "duration": 371,
    "start_time": "2022-12-28T12:18:07.608Z"
   },
   {
    "duration": 5,
    "start_time": "2022-12-28T12:18:19.599Z"
   },
   {
    "duration": 385,
    "start_time": "2022-12-28T12:18:21.763Z"
   },
   {
    "duration": 5,
    "start_time": "2022-12-28T12:18:39.027Z"
   },
   {
    "duration": 384,
    "start_time": "2022-12-28T12:18:39.562Z"
   },
   {
    "duration": 449,
    "start_time": "2022-12-28T13:52:41.373Z"
   },
   {
    "duration": 246,
    "start_time": "2022-12-28T13:58:05.854Z"
   },
   {
    "duration": 258,
    "start_time": "2022-12-28T13:58:39.916Z"
   },
   {
    "duration": 228,
    "start_time": "2022-12-28T13:59:33.309Z"
   },
   {
    "duration": 237,
    "start_time": "2022-12-28T13:59:44.548Z"
   },
   {
    "duration": 365,
    "start_time": "2022-12-28T13:59:56.532Z"
   },
   {
    "duration": 264,
    "start_time": "2022-12-28T14:00:21.014Z"
   },
   {
    "duration": 276,
    "start_time": "2022-12-28T14:00:27.104Z"
   },
   {
    "duration": 271,
    "start_time": "2022-12-28T14:00:36.750Z"
   },
   {
    "duration": 6,
    "start_time": "2022-12-28T14:02:24.392Z"
   },
   {
    "duration": 9,
    "start_time": "2022-12-28T14:02:44.617Z"
   },
   {
    "duration": 254,
    "start_time": "2022-12-29T08:08:35.243Z"
   },
   {
    "duration": 287,
    "start_time": "2022-12-29T08:09:39.034Z"
   },
   {
    "duration": 10,
    "start_time": "2022-12-29T08:13:21.094Z"
   },
   {
    "duration": 10,
    "start_time": "2022-12-29T08:14:30.827Z"
   },
   {
    "duration": 10,
    "start_time": "2022-12-29T08:14:34.731Z"
   },
   {
    "duration": 10,
    "start_time": "2022-12-29T08:14:37.946Z"
   },
   {
    "duration": 16,
    "start_time": "2022-12-29T08:14:41.731Z"
   },
   {
    "duration": 91,
    "start_time": "2022-12-29T08:43:22.193Z"
   },
   {
    "duration": 959,
    "start_time": "2022-12-29T08:43:24.294Z"
   },
   {
    "duration": 7,
    "start_time": "2022-12-29T08:44:13.643Z"
   },
   {
    "duration": 819,
    "start_time": "2022-12-29T08:44:15.871Z"
   },
   {
    "duration": 7,
    "start_time": "2022-12-29T08:45:38.248Z"
   },
   {
    "duration": 120,
    "start_time": "2022-12-29T08:45:39.270Z"
   },
   {
    "duration": 6,
    "start_time": "2022-12-29T08:46:44.868Z"
   },
   {
    "duration": 27,
    "start_time": "2022-12-29T08:46:45.880Z"
   },
   {
    "duration": 6,
    "start_time": "2022-12-29T08:46:51.095Z"
   },
   {
    "duration": 850,
    "start_time": "2022-12-29T08:46:51.988Z"
   },
   {
    "duration": 6,
    "start_time": "2022-12-29T08:47:11.090Z"
   },
   {
    "duration": 622,
    "start_time": "2022-12-29T08:47:11.999Z"
   },
   {
    "duration": 5,
    "start_time": "2022-12-29T08:47:28.372Z"
   },
   {
    "duration": 607,
    "start_time": "2022-12-29T08:47:28.864Z"
   },
   {
    "duration": 6,
    "start_time": "2022-12-29T08:55:01.203Z"
   },
   {
    "duration": 693,
    "start_time": "2022-12-29T08:55:02.312Z"
   },
   {
    "duration": 242,
    "start_time": "2022-12-29T08:57:31.557Z"
   },
   {
    "duration": 5,
    "start_time": "2022-12-29T08:59:31.633Z"
   },
   {
    "duration": 213,
    "start_time": "2022-12-29T08:59:32.527Z"
   },
   {
    "duration": 634,
    "start_time": "2022-12-29T08:59:44.193Z"
   },
   {
    "duration": 8,
    "start_time": "2022-12-29T09:00:32.533Z"
   },
   {
    "duration": 8,
    "start_time": "2022-12-29T09:02:22.908Z"
   },
   {
    "duration": 81,
    "start_time": "2022-12-29T09:02:51.225Z"
   },
   {
    "duration": 73,
    "start_time": "2022-12-29T09:03:06.557Z"
   },
   {
    "duration": 72,
    "start_time": "2022-12-29T09:03:22.290Z"
   },
   {
    "duration": 9,
    "start_time": "2022-12-29T09:04:56.463Z"
   },
   {
    "duration": 5,
    "start_time": "2022-12-29T09:05:21.906Z"
   },
   {
    "duration": 9,
    "start_time": "2022-12-29T09:05:36.899Z"
   },
   {
    "duration": 5,
    "start_time": "2022-12-29T09:05:43.238Z"
   },
   {
    "duration": 9,
    "start_time": "2022-12-29T09:05:44.485Z"
   },
   {
    "duration": 202,
    "start_time": "2022-12-29T09:05:48.213Z"
   },
   {
    "duration": 222,
    "start_time": "2022-12-29T09:06:02.815Z"
   },
   {
    "duration": 5,
    "start_time": "2022-12-29T09:14:51.112Z"
   },
   {
    "duration": 10,
    "start_time": "2022-12-29T09:15:01.482Z"
   },
   {
    "duration": 5,
    "start_time": "2022-12-29T09:15:35.272Z"
   },
   {
    "duration": 11,
    "start_time": "2022-12-29T09:15:38.090Z"
   },
   {
    "duration": 10,
    "start_time": "2022-12-29T09:16:01.009Z"
   },
   {
    "duration": 210,
    "start_time": "2022-12-29T09:16:17.311Z"
   },
   {
    "duration": 4,
    "start_time": "2022-12-29T09:16:45.531Z"
   },
   {
    "duration": 239,
    "start_time": "2022-12-29T09:16:46.869Z"
   },
   {
    "duration": 1267,
    "start_time": "2022-12-29T14:13:49.745Z"
   },
   {
    "duration": 90,
    "start_time": "2022-12-29T14:13:51.014Z"
   },
   {
    "duration": 18,
    "start_time": "2022-12-29T14:13:51.106Z"
   },
   {
    "duration": 14,
    "start_time": "2022-12-29T14:13:51.126Z"
   },
   {
    "duration": 5,
    "start_time": "2022-12-29T14:13:51.143Z"
   },
   {
    "duration": 11,
    "start_time": "2022-12-29T14:13:51.150Z"
   },
   {
    "duration": 204,
    "start_time": "2022-12-29T14:13:51.163Z"
   },
   {
    "duration": 9,
    "start_time": "2022-12-29T14:13:51.369Z"
   },
   {
    "duration": 39,
    "start_time": "2022-12-29T14:13:51.380Z"
   },
   {
    "duration": 7,
    "start_time": "2022-12-29T14:13:51.421Z"
   },
   {
    "duration": 11,
    "start_time": "2022-12-29T14:13:51.430Z"
   },
   {
    "duration": 10,
    "start_time": "2022-12-29T14:13:51.443Z"
   },
   {
    "duration": 45,
    "start_time": "2022-12-29T14:13:51.454Z"
   },
   {
    "duration": 15,
    "start_time": "2022-12-29T14:13:51.503Z"
   },
   {
    "duration": 18,
    "start_time": "2022-12-29T14:13:51.520Z"
   },
   {
    "duration": 425,
    "start_time": "2022-12-29T14:13:51.540Z"
   },
   {
    "duration": 0,
    "start_time": "2022-12-29T14:13:51.967Z"
   },
   {
    "duration": 0,
    "start_time": "2022-12-29T14:13:51.969Z"
   },
   {
    "duration": 0,
    "start_time": "2022-12-29T14:13:51.970Z"
   },
   {
    "duration": 0,
    "start_time": "2022-12-29T14:13:51.972Z"
   },
   {
    "duration": 1,
    "start_time": "2022-12-29T14:13:51.973Z"
   },
   {
    "duration": 0,
    "start_time": "2022-12-29T14:13:51.975Z"
   },
   {
    "duration": 0,
    "start_time": "2022-12-29T14:13:51.977Z"
   },
   {
    "duration": 0,
    "start_time": "2022-12-29T14:13:51.978Z"
   },
   {
    "duration": 0,
    "start_time": "2022-12-29T14:13:51.979Z"
   },
   {
    "duration": 0,
    "start_time": "2022-12-29T14:13:51.996Z"
   },
   {
    "duration": 0,
    "start_time": "2022-12-29T14:13:51.998Z"
   },
   {
    "duration": 0,
    "start_time": "2022-12-29T14:13:51.999Z"
   },
   {
    "duration": 0,
    "start_time": "2022-12-29T14:13:52.001Z"
   },
   {
    "duration": 0,
    "start_time": "2022-12-29T14:13:52.002Z"
   },
   {
    "duration": 0,
    "start_time": "2022-12-29T14:13:52.004Z"
   },
   {
    "duration": 0,
    "start_time": "2022-12-29T14:13:52.005Z"
   },
   {
    "duration": 0,
    "start_time": "2022-12-29T14:13:52.006Z"
   },
   {
    "duration": 0,
    "start_time": "2022-12-29T14:13:52.007Z"
   },
   {
    "duration": 0,
    "start_time": "2022-12-29T14:13:52.008Z"
   },
   {
    "duration": 0,
    "start_time": "2022-12-29T14:13:52.009Z"
   },
   {
    "duration": 0,
    "start_time": "2022-12-29T14:13:52.011Z"
   },
   {
    "duration": 0,
    "start_time": "2022-12-29T14:13:52.012Z"
   },
   {
    "duration": 0,
    "start_time": "2022-12-29T14:13:52.013Z"
   },
   {
    "duration": 0,
    "start_time": "2022-12-29T14:13:52.014Z"
   },
   {
    "duration": 0,
    "start_time": "2022-12-29T14:13:52.015Z"
   },
   {
    "duration": 0,
    "start_time": "2022-12-29T14:13:52.016Z"
   },
   {
    "duration": 0,
    "start_time": "2022-12-29T14:13:52.017Z"
   },
   {
    "duration": 0,
    "start_time": "2022-12-29T14:13:52.019Z"
   },
   {
    "duration": 0,
    "start_time": "2022-12-29T14:13:52.020Z"
   },
   {
    "duration": 334,
    "start_time": "2022-12-29T14:14:26.201Z"
   },
   {
    "duration": 313,
    "start_time": "2022-12-29T14:14:33.323Z"
   },
   {
    "duration": 391,
    "start_time": "2022-12-29T14:15:04.701Z"
   },
   {
    "duration": 10,
    "start_time": "2022-12-29T14:15:41.562Z"
   },
   {
    "duration": 9,
    "start_time": "2022-12-29T14:15:50.381Z"
   },
   {
    "duration": 3,
    "start_time": "2022-12-29T14:15:55.297Z"
   },
   {
    "duration": 53,
    "start_time": "2022-12-29T14:15:55.302Z"
   },
   {
    "duration": 14,
    "start_time": "2022-12-29T14:15:55.357Z"
   },
   {
    "duration": 16,
    "start_time": "2022-12-29T14:15:55.372Z"
   },
   {
    "duration": 5,
    "start_time": "2022-12-29T14:15:55.397Z"
   },
   {
    "duration": 5,
    "start_time": "2022-12-29T14:15:55.403Z"
   },
   {
    "duration": 187,
    "start_time": "2022-12-29T14:15:55.409Z"
   },
   {
    "duration": 7,
    "start_time": "2022-12-29T14:15:55.598Z"
   },
   {
    "duration": 22,
    "start_time": "2022-12-29T14:15:55.606Z"
   },
   {
    "duration": 7,
    "start_time": "2022-12-29T14:15:55.630Z"
   },
   {
    "duration": 11,
    "start_time": "2022-12-29T14:15:55.638Z"
   },
   {
    "duration": 9,
    "start_time": "2022-12-29T14:15:55.650Z"
   },
   {
    "duration": 47,
    "start_time": "2022-12-29T14:15:55.661Z"
   },
   {
    "duration": 12,
    "start_time": "2022-12-29T14:15:55.711Z"
   },
   {
    "duration": 15,
    "start_time": "2022-12-29T14:15:55.724Z"
   },
   {
    "duration": 362,
    "start_time": "2022-12-29T14:15:55.740Z"
   },
   {
    "duration": 336,
    "start_time": "2022-12-29T14:15:56.105Z"
   },
   {
    "duration": 273,
    "start_time": "2022-12-29T14:15:56.442Z"
   },
   {
    "duration": 515,
    "start_time": "2022-12-29T14:15:56.717Z"
   },
   {
    "duration": 167,
    "start_time": "2022-12-29T14:15:57.234Z"
   },
   {
    "duration": 1176,
    "start_time": "2022-12-29T14:15:57.403Z"
   },
   {
    "duration": 16,
    "start_time": "2022-12-29T14:15:58.580Z"
   },
   {
    "duration": 273,
    "start_time": "2022-12-29T14:15:58.598Z"
   },
   {
    "duration": 282,
    "start_time": "2022-12-29T14:15:58.873Z"
   },
   {
    "duration": 67,
    "start_time": "2022-12-29T14:15:59.156Z"
   },
   {
    "duration": 12,
    "start_time": "2022-12-29T14:15:59.225Z"
   },
   {
    "duration": 165,
    "start_time": "2022-12-29T14:15:59.239Z"
   },
   {
    "duration": 0,
    "start_time": "2022-12-29T14:15:59.405Z"
   },
   {
    "duration": 0,
    "start_time": "2022-12-29T14:15:59.407Z"
   },
   {
    "duration": 0,
    "start_time": "2022-12-29T14:15:59.408Z"
   },
   {
    "duration": 0,
    "start_time": "2022-12-29T14:15:59.409Z"
   },
   {
    "duration": 0,
    "start_time": "2022-12-29T14:15:59.410Z"
   },
   {
    "duration": 0,
    "start_time": "2022-12-29T14:15:59.412Z"
   },
   {
    "duration": 0,
    "start_time": "2022-12-29T14:15:59.413Z"
   },
   {
    "duration": 0,
    "start_time": "2022-12-29T14:15:59.414Z"
   },
   {
    "duration": 0,
    "start_time": "2022-12-29T14:15:59.416Z"
   },
   {
    "duration": 0,
    "start_time": "2022-12-29T14:15:59.417Z"
   },
   {
    "duration": 0,
    "start_time": "2022-12-29T14:15:59.418Z"
   },
   {
    "duration": 0,
    "start_time": "2022-12-29T14:15:59.419Z"
   },
   {
    "duration": 0,
    "start_time": "2022-12-29T14:15:59.420Z"
   },
   {
    "duration": 0,
    "start_time": "2022-12-29T14:15:59.421Z"
   },
   {
    "duration": 0,
    "start_time": "2022-12-29T14:15:59.423Z"
   },
   {
    "duration": 0,
    "start_time": "2022-12-29T14:15:59.424Z"
   },
   {
    "duration": 0,
    "start_time": "2022-12-29T14:15:59.426Z"
   },
   {
    "duration": 0,
    "start_time": "2022-12-29T14:15:59.427Z"
   },
   {
    "duration": 151,
    "start_time": "2022-12-29T14:16:29.664Z"
   },
   {
    "duration": 301,
    "start_time": "2022-12-29T14:16:46.090Z"
   },
   {
    "duration": 3,
    "start_time": "2022-12-29T14:17:24.018Z"
   },
   {
    "duration": 53,
    "start_time": "2022-12-29T14:17:25.129Z"
   },
   {
    "duration": 15,
    "start_time": "2022-12-29T14:17:25.503Z"
   },
   {
    "duration": 16,
    "start_time": "2022-12-29T14:17:26.847Z"
   },
   {
    "duration": 168,
    "start_time": "2022-12-29T14:18:34.898Z"
   },
   {
    "duration": 722,
    "start_time": "2022-12-29T14:18:57.498Z"
   },
   {
    "duration": 1135,
    "start_time": "2022-12-29T14:19:13.085Z"
   },
   {
    "duration": 53,
    "start_time": "2022-12-29T14:19:14.221Z"
   },
   {
    "duration": 17,
    "start_time": "2022-12-29T14:19:14.276Z"
   },
   {
    "duration": 14,
    "start_time": "2022-12-29T14:19:14.295Z"
   },
   {
    "duration": 5,
    "start_time": "2022-12-29T14:19:14.310Z"
   },
   {
    "duration": 5,
    "start_time": "2022-12-29T14:19:14.317Z"
   },
   {
    "duration": 199,
    "start_time": "2022-12-29T14:19:14.323Z"
   },
   {
    "duration": 7,
    "start_time": "2022-12-29T14:19:14.524Z"
   },
   {
    "duration": 37,
    "start_time": "2022-12-29T14:19:14.533Z"
   },
   {
    "duration": 7,
    "start_time": "2022-12-29T14:19:14.572Z"
   },
   {
    "duration": 22,
    "start_time": "2022-12-29T14:19:14.581Z"
   },
   {
    "duration": 17,
    "start_time": "2022-12-29T14:19:14.604Z"
   },
   {
    "duration": 16,
    "start_time": "2022-12-29T14:19:14.622Z"
   },
   {
    "duration": 14,
    "start_time": "2022-12-29T14:19:14.640Z"
   },
   {
    "duration": 14,
    "start_time": "2022-12-29T14:19:14.656Z"
   },
   {
    "duration": 343,
    "start_time": "2022-12-29T14:19:14.672Z"
   },
   {
    "duration": 281,
    "start_time": "2022-12-29T14:19:15.017Z"
   },
   {
    "duration": 267,
    "start_time": "2022-12-29T14:19:15.300Z"
   },
   {
    "duration": 642,
    "start_time": "2022-12-29T14:19:15.569Z"
   },
   {
    "duration": 204,
    "start_time": "2022-12-29T14:19:16.214Z"
   },
   {
    "duration": 1133,
    "start_time": "2022-12-29T14:19:16.419Z"
   },
   {
    "duration": 6,
    "start_time": "2022-12-29T14:19:17.554Z"
   },
   {
    "duration": 286,
    "start_time": "2022-12-29T14:19:17.561Z"
   },
   {
    "duration": 299,
    "start_time": "2022-12-29T14:19:17.848Z"
   },
   {
    "duration": 74,
    "start_time": "2022-12-29T14:19:18.149Z"
   },
   {
    "duration": 129,
    "start_time": "2022-12-29T14:19:18.225Z"
   },
   {
    "duration": 245,
    "start_time": "2022-12-29T14:19:18.356Z"
   },
   {
    "duration": 0,
    "start_time": "2022-12-29T14:19:18.603Z"
   },
   {
    "duration": 0,
    "start_time": "2022-12-29T14:19:18.604Z"
   },
   {
    "duration": 0,
    "start_time": "2022-12-29T14:19:18.604Z"
   },
   {
    "duration": 0,
    "start_time": "2022-12-29T14:19:18.605Z"
   },
   {
    "duration": 0,
    "start_time": "2022-12-29T14:19:18.606Z"
   },
   {
    "duration": 0,
    "start_time": "2022-12-29T14:19:18.607Z"
   },
   {
    "duration": 0,
    "start_time": "2022-12-29T14:19:18.608Z"
   },
   {
    "duration": 0,
    "start_time": "2022-12-29T14:19:18.609Z"
   },
   {
    "duration": 0,
    "start_time": "2022-12-29T14:19:18.610Z"
   },
   {
    "duration": 0,
    "start_time": "2022-12-29T14:19:18.611Z"
   },
   {
    "duration": 0,
    "start_time": "2022-12-29T14:19:18.612Z"
   },
   {
    "duration": 0,
    "start_time": "2022-12-29T14:19:18.613Z"
   },
   {
    "duration": 0,
    "start_time": "2022-12-29T14:19:18.614Z"
   },
   {
    "duration": 0,
    "start_time": "2022-12-29T14:19:18.615Z"
   },
   {
    "duration": 0,
    "start_time": "2022-12-29T14:19:18.616Z"
   },
   {
    "duration": 0,
    "start_time": "2022-12-29T14:19:18.617Z"
   },
   {
    "duration": 0,
    "start_time": "2022-12-29T14:19:18.618Z"
   },
   {
    "duration": 0,
    "start_time": "2022-12-29T14:19:18.618Z"
   },
   {
    "duration": 4,
    "start_time": "2022-12-29T14:19:31.026Z"
   },
   {
    "duration": 97,
    "start_time": "2022-12-29T14:19:31.032Z"
   },
   {
    "duration": 16,
    "start_time": "2022-12-29T14:19:31.131Z"
   },
   {
    "duration": 53,
    "start_time": "2022-12-29T14:19:31.149Z"
   },
   {
    "duration": 51,
    "start_time": "2022-12-29T14:19:31.205Z"
   },
   {
    "duration": 37,
    "start_time": "2022-12-29T14:19:31.257Z"
   },
   {
    "duration": 188,
    "start_time": "2022-12-29T14:19:31.296Z"
   },
   {
    "duration": 12,
    "start_time": "2022-12-29T14:19:31.486Z"
   },
   {
    "duration": 49,
    "start_time": "2022-12-29T14:19:31.499Z"
   },
   {
    "duration": 21,
    "start_time": "2022-12-29T14:19:31.550Z"
   },
   {
    "duration": 17,
    "start_time": "2022-12-29T14:19:31.574Z"
   },
   {
    "duration": 23,
    "start_time": "2022-12-29T14:19:31.592Z"
   },
   {
    "duration": 16,
    "start_time": "2022-12-29T14:19:31.617Z"
   },
   {
    "duration": 26,
    "start_time": "2022-12-29T14:19:31.634Z"
   },
   {
    "duration": 39,
    "start_time": "2022-12-29T14:19:31.661Z"
   },
   {
    "duration": 343,
    "start_time": "2022-12-29T14:19:31.702Z"
   },
   {
    "duration": 276,
    "start_time": "2022-12-29T14:19:32.047Z"
   },
   {
    "duration": 278,
    "start_time": "2022-12-29T14:19:32.325Z"
   },
   {
    "duration": 530,
    "start_time": "2022-12-29T14:19:32.605Z"
   },
   {
    "duration": 162,
    "start_time": "2022-12-29T14:19:33.137Z"
   },
   {
    "duration": 1213,
    "start_time": "2022-12-29T14:19:33.301Z"
   },
   {
    "duration": 6,
    "start_time": "2022-12-29T14:19:34.516Z"
   },
   {
    "duration": 293,
    "start_time": "2022-12-29T14:19:34.523Z"
   },
   {
    "duration": 294,
    "start_time": "2022-12-29T14:19:34.818Z"
   },
   {
    "duration": 95,
    "start_time": "2022-12-29T14:19:35.114Z"
   },
   {
    "duration": 14,
    "start_time": "2022-12-29T14:19:35.211Z"
   },
   {
    "duration": 153,
    "start_time": "2022-12-29T14:19:35.226Z"
   },
   {
    "duration": 0,
    "start_time": "2022-12-29T14:19:35.380Z"
   },
   {
    "duration": 0,
    "start_time": "2022-12-29T14:19:35.382Z"
   },
   {
    "duration": 0,
    "start_time": "2022-12-29T14:19:35.383Z"
   },
   {
    "duration": 0,
    "start_time": "2022-12-29T14:19:35.383Z"
   },
   {
    "duration": 0,
    "start_time": "2022-12-29T14:19:35.384Z"
   },
   {
    "duration": 0,
    "start_time": "2022-12-29T14:19:35.396Z"
   },
   {
    "duration": 0,
    "start_time": "2022-12-29T14:19:35.397Z"
   },
   {
    "duration": 0,
    "start_time": "2022-12-29T14:19:35.399Z"
   },
   {
    "duration": 0,
    "start_time": "2022-12-29T14:19:35.400Z"
   },
   {
    "duration": 0,
    "start_time": "2022-12-29T14:19:35.401Z"
   },
   {
    "duration": 0,
    "start_time": "2022-12-29T14:19:35.402Z"
   },
   {
    "duration": 0,
    "start_time": "2022-12-29T14:19:35.403Z"
   },
   {
    "duration": 0,
    "start_time": "2022-12-29T14:19:35.404Z"
   },
   {
    "duration": 0,
    "start_time": "2022-12-29T14:19:35.405Z"
   },
   {
    "duration": 0,
    "start_time": "2022-12-29T14:19:35.406Z"
   },
   {
    "duration": 0,
    "start_time": "2022-12-29T14:19:35.407Z"
   },
   {
    "duration": 0,
    "start_time": "2022-12-29T14:19:35.408Z"
   },
   {
    "duration": 0,
    "start_time": "2022-12-29T14:19:35.409Z"
   },
   {
    "duration": 12,
    "start_time": "2022-12-29T14:19:44.938Z"
   },
   {
    "duration": 498,
    "start_time": "2022-12-29T14:19:56.086Z"
   },
   {
    "duration": 9,
    "start_time": "2022-12-29T14:20:01.659Z"
   },
   {
    "duration": 5,
    "start_time": "2022-12-29T14:20:05.339Z"
   },
   {
    "duration": 147,
    "start_time": "2022-12-29T14:20:05.704Z"
   },
   {
    "duration": 144,
    "start_time": "2022-12-29T14:22:56.723Z"
   },
   {
    "duration": 281,
    "start_time": "2022-12-29T14:23:18.838Z"
   },
   {
    "duration": 5,
    "start_time": "2022-12-29T14:23:43.373Z"
   },
   {
    "duration": 912,
    "start_time": "2022-12-29T14:23:46.124Z"
   },
   {
    "duration": 17,
    "start_time": "2022-12-29T14:27:27.864Z"
   },
   {
    "duration": 18,
    "start_time": "2022-12-29T14:27:43.588Z"
   },
   {
    "duration": 796,
    "start_time": "2022-12-29T14:28:12.021Z"
   },
   {
    "duration": 6,
    "start_time": "2022-12-29T14:34:39.100Z"
   },
   {
    "duration": 961,
    "start_time": "2022-12-29T14:34:40.361Z"
   },
   {
    "duration": 303,
    "start_time": "2022-12-29T14:35:15.948Z"
   },
   {
    "duration": 6,
    "start_time": "2022-12-29T14:35:27.030Z"
   },
   {
    "duration": 212,
    "start_time": "2022-12-29T14:35:28.454Z"
   },
   {
    "duration": 712,
    "start_time": "2022-12-29T14:37:20.735Z"
   },
   {
    "duration": 977,
    "start_time": "2022-12-29T14:38:41.378Z"
   },
   {
    "duration": 116,
    "start_time": "2022-12-29T14:38:52.730Z"
   },
   {
    "duration": 708,
    "start_time": "2022-12-29T14:38:59.776Z"
   },
   {
    "duration": 658,
    "start_time": "2022-12-29T14:39:27.503Z"
   },
   {
    "duration": 798,
    "start_time": "2022-12-29T14:39:37.781Z"
   },
   {
    "duration": 32,
    "start_time": "2022-12-29T14:41:49.595Z"
   },
   {
    "duration": 34,
    "start_time": "2022-12-29T14:41:56.519Z"
   },
   {
    "duration": 4,
    "start_time": "2022-12-29T14:42:35.893Z"
   },
   {
    "duration": 12,
    "start_time": "2022-12-29T14:43:05.502Z"
   },
   {
    "duration": 13,
    "start_time": "2022-12-29T14:43:12.585Z"
   },
   {
    "duration": 49,
    "start_time": "2022-12-29T14:43:50.632Z"
   },
   {
    "duration": 4,
    "start_time": "2022-12-29T14:44:10.660Z"
   },
   {
    "duration": 18,
    "start_time": "2022-12-29T14:44:14.784Z"
   },
   {
    "duration": 1086,
    "start_time": "2022-12-29T14:45:29.557Z"
   },
   {
    "duration": 214,
    "start_time": "2022-12-29T14:46:11.371Z"
   },
   {
    "duration": 242,
    "start_time": "2022-12-29T14:46:42.540Z"
   },
   {
    "duration": 312,
    "start_time": "2022-12-29T14:47:09.760Z"
   },
   {
    "duration": 254,
    "start_time": "2022-12-29T14:47:13.895Z"
   },
   {
    "duration": 361,
    "start_time": "2022-12-29T14:47:49.692Z"
   },
   {
    "duration": 250,
    "start_time": "2022-12-29T14:48:08.858Z"
   },
   {
    "duration": 264,
    "start_time": "2022-12-29T14:48:18.136Z"
   },
   {
    "duration": 260,
    "start_time": "2022-12-29T14:48:28.442Z"
   },
   {
    "duration": 314,
    "start_time": "2022-12-29T14:50:43.119Z"
   },
   {
    "duration": 351,
    "start_time": "2022-12-29T14:51:15.395Z"
   },
   {
    "duration": 471,
    "start_time": "2022-12-29T14:51:40.394Z"
   },
   {
    "duration": 364,
    "start_time": "2022-12-29T14:52:41.385Z"
   },
   {
    "duration": 47,
    "start_time": "2022-12-29T14:54:57.634Z"
   },
   {
    "duration": 398,
    "start_time": "2022-12-29T14:55:21.630Z"
   },
   {
    "duration": 413,
    "start_time": "2022-12-29T14:55:32.301Z"
   },
   {
    "duration": 405,
    "start_time": "2022-12-29T14:55:36.334Z"
   },
   {
    "duration": 548,
    "start_time": "2022-12-29T14:55:43.078Z"
   },
   {
    "duration": 436,
    "start_time": "2022-12-29T14:55:50.369Z"
   },
   {
    "duration": 459,
    "start_time": "2022-12-29T14:56:04.389Z"
   },
   {
    "duration": 432,
    "start_time": "2022-12-29T14:58:13.894Z"
   },
   {
    "duration": 484,
    "start_time": "2022-12-29T14:58:33.656Z"
   },
   {
    "duration": 408,
    "start_time": "2022-12-29T14:58:57.179Z"
   },
   {
    "duration": 447,
    "start_time": "2022-12-29T14:59:29.405Z"
   },
   {
    "duration": 550,
    "start_time": "2022-12-29T15:05:20.890Z"
   },
   {
    "duration": 422,
    "start_time": "2022-12-29T15:05:40.013Z"
   },
   {
    "duration": 406,
    "start_time": "2022-12-29T15:05:53.404Z"
   },
   {
    "duration": 439,
    "start_time": "2022-12-29T15:05:59.141Z"
   },
   {
    "duration": 393,
    "start_time": "2022-12-29T15:06:05.561Z"
   },
   {
    "duration": 399,
    "start_time": "2022-12-29T15:06:21.946Z"
   },
   {
    "duration": 393,
    "start_time": "2022-12-29T15:07:02.279Z"
   },
   {
    "duration": 10,
    "start_time": "2022-12-29T15:07:16.542Z"
   },
   {
    "duration": 4,
    "start_time": "2022-12-29T15:09:57.238Z"
   },
   {
    "duration": 45,
    "start_time": "2022-12-29T15:09:58.167Z"
   },
   {
    "duration": 16,
    "start_time": "2022-12-29T15:09:58.933Z"
   },
   {
    "duration": 15,
    "start_time": "2022-12-29T15:09:59.988Z"
   },
   {
    "duration": 6,
    "start_time": "2022-12-29T15:10:03.418Z"
   },
   {
    "duration": 4,
    "start_time": "2022-12-29T15:10:04.761Z"
   },
   {
    "duration": 178,
    "start_time": "2022-12-29T15:10:05.186Z"
   },
   {
    "duration": 8,
    "start_time": "2022-12-29T15:10:06.794Z"
   },
   {
    "duration": 20,
    "start_time": "2022-12-29T15:10:08.615Z"
   },
   {
    "duration": 7,
    "start_time": "2022-12-29T15:10:09.181Z"
   },
   {
    "duration": 9,
    "start_time": "2022-12-29T15:10:10.365Z"
   },
   {
    "duration": 8,
    "start_time": "2022-12-29T15:10:11.420Z"
   },
   {
    "duration": 16,
    "start_time": "2022-12-29T15:10:13.805Z"
   },
   {
    "duration": 15,
    "start_time": "2022-12-29T15:10:16.065Z"
   },
   {
    "duration": 15,
    "start_time": "2022-12-29T15:10:17.828Z"
   },
   {
    "duration": 488,
    "start_time": "2022-12-29T15:10:22.115Z"
   },
   {
    "duration": 78,
    "start_time": "2022-12-29T15:11:06.403Z"
   },
   {
    "duration": 303,
    "start_time": "2022-12-29T15:11:17.677Z"
   },
   {
    "duration": 51,
    "start_time": "2022-12-29T15:12:36.340Z"
   },
   {
    "duration": 293,
    "start_time": "2022-12-29T15:12:40.943Z"
   },
   {
    "duration": 302,
    "start_time": "2022-12-29T15:13:31.590Z"
   },
   {
    "duration": 279,
    "start_time": "2022-12-29T15:15:04.761Z"
   },
   {
    "duration": 241,
    "start_time": "2022-12-29T15:15:37.566Z"
   },
   {
    "duration": 251,
    "start_time": "2022-12-29T15:15:41.345Z"
   },
   {
    "duration": 272,
    "start_time": "2022-12-29T15:16:13.008Z"
   },
   {
    "duration": 510,
    "start_time": "2022-12-29T15:16:57.648Z"
   },
   {
    "duration": 159,
    "start_time": "2022-12-29T15:17:01.339Z"
   },
   {
    "duration": 1329,
    "start_time": "2022-12-29T15:17:02.810Z"
   },
   {
    "duration": 6,
    "start_time": "2022-12-29T15:17:04.429Z"
   },
   {
    "duration": 293,
    "start_time": "2022-12-29T15:17:08.118Z"
   },
   {
    "duration": 263,
    "start_time": "2022-12-29T15:17:09.640Z"
   },
   {
    "duration": 62,
    "start_time": "2022-12-29T15:17:10.212Z"
   },
   {
    "duration": 59,
    "start_time": "2022-12-29T15:17:26.812Z"
   },
   {
    "duration": 12,
    "start_time": "2022-12-29T15:17:29.118Z"
   },
   {
    "duration": 252,
    "start_time": "2022-12-29T15:19:10.704Z"
   },
   {
    "duration": 261,
    "start_time": "2022-12-29T15:19:28.658Z"
   },
   {
    "duration": 347,
    "start_time": "2022-12-29T15:20:05.997Z"
   },
   {
    "duration": 278,
    "start_time": "2022-12-29T15:20:16.544Z"
   },
   {
    "duration": 151,
    "start_time": "2022-12-29T15:20:23.673Z"
   },
   {
    "duration": 562,
    "start_time": "2022-12-29T15:20:59.934Z"
   },
   {
    "duration": 588,
    "start_time": "2022-12-29T15:21:11.730Z"
   },
   {
    "duration": 185,
    "start_time": "2022-12-29T15:21:16.249Z"
   },
   {
    "duration": 49,
    "start_time": "2022-12-29T15:23:07.670Z"
   },
   {
    "duration": 210,
    "start_time": "2022-12-29T15:23:15.753Z"
   },
   {
    "duration": 45,
    "start_time": "2022-12-29T15:23:38.083Z"
   },
   {
    "duration": 391,
    "start_time": "2022-12-29T15:23:42.893Z"
   },
   {
    "duration": 183,
    "start_time": "2022-12-29T15:23:48.004Z"
   },
   {
    "duration": 183,
    "start_time": "2022-12-29T15:24:24.541Z"
   },
   {
    "duration": 276,
    "start_time": "2022-12-29T15:24:30.613Z"
   },
   {
    "duration": 15,
    "start_time": "2022-12-29T15:24:35.883Z"
   },
   {
    "duration": 289,
    "start_time": "2022-12-29T15:24:37.185Z"
   },
   {
    "duration": 4,
    "start_time": "2022-12-29T15:24:47.942Z"
   },
   {
    "duration": 387,
    "start_time": "2022-12-29T15:24:56.682Z"
   },
   {
    "duration": 6,
    "start_time": "2022-12-29T15:25:01.328Z"
   },
   {
    "duration": 4,
    "start_time": "2022-12-29T15:26:46.671Z"
   },
   {
    "duration": 128,
    "start_time": "2022-12-29T15:26:47.356Z"
   },
   {
    "duration": 105,
    "start_time": "2022-12-29T15:26:59.349Z"
   },
   {
    "duration": 332,
    "start_time": "2022-12-29T15:27:02.335Z"
   },
   {
    "duration": 106,
    "start_time": "2022-12-29T15:27:26.486Z"
   },
   {
    "duration": 5,
    "start_time": "2022-12-29T15:27:53.332Z"
   },
   {
    "duration": 341,
    "start_time": "2022-12-29T15:27:55.144Z"
   },
   {
    "duration": 5,
    "start_time": "2022-12-29T15:28:16.562Z"
   },
   {
    "duration": 357,
    "start_time": "2022-12-29T15:28:16.924Z"
   },
   {
    "duration": 9,
    "start_time": "2022-12-29T15:28:22.497Z"
   },
   {
    "duration": 10,
    "start_time": "2022-12-29T15:28:23.495Z"
   },
   {
    "duration": 11,
    "start_time": "2022-12-29T15:28:26.061Z"
   },
   {
    "duration": 10,
    "start_time": "2022-12-29T15:28:26.560Z"
   },
   {
    "duration": 48,
    "start_time": "2022-12-30T10:37:04.563Z"
   },
   {
    "duration": 1135,
    "start_time": "2022-12-30T10:37:09.293Z"
   },
   {
    "duration": 94,
    "start_time": "2022-12-30T10:37:10.430Z"
   },
   {
    "duration": 17,
    "start_time": "2022-12-30T10:37:10.525Z"
   },
   {
    "duration": 13,
    "start_time": "2022-12-30T10:37:10.543Z"
   },
   {
    "duration": 14,
    "start_time": "2022-12-30T10:37:10.558Z"
   },
   {
    "duration": 18,
    "start_time": "2022-12-30T10:37:10.573Z"
   },
   {
    "duration": 188,
    "start_time": "2022-12-30T10:37:10.592Z"
   },
   {
    "duration": 7,
    "start_time": "2022-12-30T10:37:10.782Z"
   },
   {
    "duration": 34,
    "start_time": "2022-12-30T10:37:10.790Z"
   },
   {
    "duration": 7,
    "start_time": "2022-12-30T10:37:10.826Z"
   },
   {
    "duration": 17,
    "start_time": "2022-12-30T10:37:10.834Z"
   },
   {
    "duration": 8,
    "start_time": "2022-12-30T10:37:10.853Z"
   },
   {
    "duration": 15,
    "start_time": "2022-12-30T10:37:10.863Z"
   },
   {
    "duration": 35,
    "start_time": "2022-12-30T10:37:10.880Z"
   },
   {
    "duration": 14,
    "start_time": "2022-12-30T10:37:10.917Z"
   },
   {
    "duration": 510,
    "start_time": "2022-12-30T10:37:10.932Z"
   },
   {
    "duration": 500,
    "start_time": "2022-12-30T10:37:11.444Z"
   },
   {
    "duration": 571,
    "start_time": "2022-12-30T10:37:11.946Z"
   },
   {
    "duration": 670,
    "start_time": "2022-12-30T10:37:12.519Z"
   },
   {
    "duration": 142,
    "start_time": "2022-12-30T10:37:13.191Z"
   },
   {
    "duration": 999,
    "start_time": "2022-12-30T10:37:13.335Z"
   },
   {
    "duration": 6,
    "start_time": "2022-12-30T10:37:14.335Z"
   },
   {
    "duration": 253,
    "start_time": "2022-12-30T10:37:14.342Z"
   },
   {
    "duration": 251,
    "start_time": "2022-12-30T10:37:14.596Z"
   },
   {
    "duration": 54,
    "start_time": "2022-12-30T10:37:14.848Z"
   },
   {
    "duration": 113,
    "start_time": "2022-12-30T10:37:14.903Z"
   },
   {
    "duration": 248,
    "start_time": "2022-12-30T10:37:15.018Z"
   },
   {
    "duration": 282,
    "start_time": "2022-12-30T10:37:15.268Z"
   },
   {
    "duration": 530,
    "start_time": "2022-12-30T10:37:15.552Z"
   },
   {
    "duration": 633,
    "start_time": "2022-12-30T10:37:16.084Z"
   },
   {
    "duration": 197,
    "start_time": "2022-12-30T10:37:16.718Z"
   },
   {
    "duration": 188,
    "start_time": "2022-12-30T10:37:16.917Z"
   },
   {
    "duration": 266,
    "start_time": "2022-12-30T10:37:17.115Z"
   },
   {
    "duration": 15,
    "start_time": "2022-12-30T10:37:17.383Z"
   },
   {
    "duration": 364,
    "start_time": "2022-12-30T10:37:17.400Z"
   },
   {
    "duration": 4,
    "start_time": "2022-12-30T10:37:17.766Z"
   },
   {
    "duration": 403,
    "start_time": "2022-12-30T10:37:17.772Z"
   },
   {
    "duration": 5,
    "start_time": "2022-12-30T10:37:18.178Z"
   },
   {
    "duration": 348,
    "start_time": "2022-12-30T10:37:18.184Z"
   },
   {
    "duration": 4,
    "start_time": "2022-12-30T10:37:18.534Z"
   },
   {
    "duration": 387,
    "start_time": "2022-12-30T10:37:18.541Z"
   },
   {
    "duration": 7,
    "start_time": "2022-12-30T10:37:18.930Z"
   },
   {
    "duration": 13,
    "start_time": "2022-12-30T10:37:18.939Z"
   },
   {
    "duration": 15,
    "start_time": "2022-12-30T10:37:18.953Z"
   },
   {
    "duration": 10,
    "start_time": "2022-12-30T10:37:18.970Z"
   },
   {
    "duration": 553,
    "start_time": "2022-12-30T10:37:26.117Z"
   },
   {
    "duration": 492,
    "start_time": "2022-12-30T10:37:31.800Z"
   },
   {
    "duration": 549,
    "start_time": "2022-12-30T10:37:37.601Z"
   },
   {
    "duration": 525,
    "start_time": "2022-12-30T10:37:55.144Z"
   },
   {
    "duration": 478,
    "start_time": "2022-12-30T10:38:19.492Z"
   },
   {
    "duration": 496,
    "start_time": "2022-12-30T10:39:26.252Z"
   },
   {
    "duration": 562,
    "start_time": "2022-12-30T10:40:15.920Z"
   },
   {
    "duration": 585,
    "start_time": "2022-12-30T10:40:45.178Z"
   },
   {
    "duration": 464,
    "start_time": "2022-12-30T10:41:02.759Z"
   },
   {
    "duration": 475,
    "start_time": "2022-12-30T10:41:14.824Z"
   },
   {
    "duration": 463,
    "start_time": "2022-12-30T10:41:29.113Z"
   },
   {
    "duration": 525,
    "start_time": "2022-12-30T10:41:51.970Z"
   },
   {
    "duration": 565,
    "start_time": "2022-12-30T10:42:24.817Z"
   },
   {
    "duration": 434,
    "start_time": "2022-12-30T10:42:33.676Z"
   },
   {
    "duration": 6,
    "start_time": "2022-12-30T10:43:02.794Z"
   },
   {
    "duration": 458,
    "start_time": "2022-12-30T10:43:08.676Z"
   },
   {
    "duration": 468,
    "start_time": "2022-12-30T10:43:19.497Z"
   },
   {
    "duration": 445,
    "start_time": "2022-12-30T10:43:42.180Z"
   },
   {
    "duration": 505,
    "start_time": "2022-12-30T10:43:48.926Z"
   },
   {
    "duration": 517,
    "start_time": "2022-12-30T10:44:26.807Z"
   },
   {
    "duration": 498,
    "start_time": "2022-12-30T10:45:32.027Z"
   },
   {
    "duration": 7,
    "start_time": "2022-12-30T10:48:36.329Z"
   },
   {
    "duration": 66,
    "start_time": "2022-12-30T10:49:34.050Z"
   },
   {
    "duration": 3,
    "start_time": "2022-12-30T10:49:34.296Z"
   },
   {
    "duration": 12,
    "start_time": "2022-12-30T10:49:34.522Z"
   },
   {
    "duration": 8,
    "start_time": "2022-12-30T10:49:34.715Z"
   },
   {
    "duration": 5,
    "start_time": "2022-12-30T10:49:34.923Z"
   },
   {
    "duration": 6,
    "start_time": "2022-12-30T10:49:35.155Z"
   },
   {
    "duration": 6,
    "start_time": "2022-12-30T10:49:35.299Z"
   },
   {
    "duration": 612,
    "start_time": "2022-12-30T10:49:35.762Z"
   },
   {
    "duration": 582,
    "start_time": "2022-12-30T10:49:49.020Z"
   },
   {
    "duration": 588,
    "start_time": "2022-12-30T10:49:54.577Z"
   },
   {
    "duration": 729,
    "start_time": "2022-12-30T10:49:59.243Z"
   },
   {
    "duration": 1100,
    "start_time": "2022-12-30T10:50:05.631Z"
   },
   {
    "duration": 52,
    "start_time": "2022-12-30T10:50:06.733Z"
   },
   {
    "duration": 16,
    "start_time": "2022-12-30T10:50:06.787Z"
   },
   {
    "duration": 15,
    "start_time": "2022-12-30T10:50:06.804Z"
   },
   {
    "duration": 20,
    "start_time": "2022-12-30T10:50:06.822Z"
   },
   {
    "duration": 14,
    "start_time": "2022-12-30T10:50:06.844Z"
   },
   {
    "duration": 176,
    "start_time": "2022-12-30T10:50:06.860Z"
   },
   {
    "duration": 7,
    "start_time": "2022-12-30T10:50:07.038Z"
   },
   {
    "duration": 24,
    "start_time": "2022-12-30T10:50:07.046Z"
   },
   {
    "duration": 7,
    "start_time": "2022-12-30T10:50:07.071Z"
   },
   {
    "duration": 10,
    "start_time": "2022-12-30T10:50:07.079Z"
   },
   {
    "duration": 25,
    "start_time": "2022-12-30T10:50:07.091Z"
   },
   {
    "duration": 16,
    "start_time": "2022-12-30T10:50:07.118Z"
   },
   {
    "duration": 14,
    "start_time": "2022-12-30T10:50:07.137Z"
   },
   {
    "duration": 19,
    "start_time": "2022-12-30T10:50:07.153Z"
   },
   {
    "duration": 315,
    "start_time": "2022-12-30T10:50:07.174Z"
   },
   {
    "duration": 265,
    "start_time": "2022-12-30T10:50:07.491Z"
   },
   {
    "duration": 277,
    "start_time": "2022-12-30T10:50:07.757Z"
   },
   {
    "duration": 532,
    "start_time": "2022-12-30T10:50:08.036Z"
   },
   {
    "duration": 145,
    "start_time": "2022-12-30T10:50:08.570Z"
   },
   {
    "duration": 999,
    "start_time": "2022-12-30T10:50:08.717Z"
   },
   {
    "duration": 6,
    "start_time": "2022-12-30T10:50:09.718Z"
   },
   {
    "duration": 266,
    "start_time": "2022-12-30T10:50:09.725Z"
   },
   {
    "duration": 268,
    "start_time": "2022-12-30T10:50:09.993Z"
   },
   {
    "duration": 65,
    "start_time": "2022-12-30T10:50:10.263Z"
   },
   {
    "duration": 10,
    "start_time": "2022-12-30T10:50:10.330Z"
   },
   {
    "duration": 345,
    "start_time": "2022-12-30T10:50:10.341Z"
   },
   {
    "duration": 332,
    "start_time": "2022-12-30T10:50:10.687Z"
   },
   {
    "duration": 529,
    "start_time": "2022-12-30T10:50:11.020Z"
   },
   {
    "duration": 582,
    "start_time": "2022-12-30T10:50:11.550Z"
   },
   {
    "duration": 211,
    "start_time": "2022-12-30T10:50:12.134Z"
   },
   {
    "duration": 206,
    "start_time": "2022-12-30T10:50:12.347Z"
   },
   {
    "duration": 290,
    "start_time": "2022-12-30T10:50:12.555Z"
   },
   {
    "duration": 14,
    "start_time": "2022-12-30T10:50:12.847Z"
   },
   {
    "duration": 361,
    "start_time": "2022-12-30T10:50:12.863Z"
   },
   {
    "duration": 4,
    "start_time": "2022-12-30T10:50:13.226Z"
   },
   {
    "duration": 427,
    "start_time": "2022-12-30T10:50:13.232Z"
   },
   {
    "duration": 483,
    "start_time": "2022-12-30T10:50:13.661Z"
   },
   {
    "duration": 5,
    "start_time": "2022-12-30T10:50:14.145Z"
   },
   {
    "duration": 373,
    "start_time": "2022-12-30T10:50:14.152Z"
   },
   {
    "duration": 4,
    "start_time": "2022-12-30T10:50:14.529Z"
   },
   {
    "duration": 369,
    "start_time": "2022-12-30T10:50:14.535Z"
   },
   {
    "duration": 15,
    "start_time": "2022-12-30T10:50:14.905Z"
   },
   {
    "duration": 12,
    "start_time": "2022-12-30T10:50:14.921Z"
   },
   {
    "duration": 18,
    "start_time": "2022-12-30T10:50:14.934Z"
   },
   {
    "duration": 20,
    "start_time": "2022-12-30T10:50:14.953Z"
   },
   {
    "duration": 21,
    "start_time": "2022-12-30T10:50:14.974Z"
   },
   {
    "duration": 71,
    "start_time": "2022-12-30T10:50:14.996Z"
   },
   {
    "duration": 3,
    "start_time": "2022-12-30T10:50:15.069Z"
   },
   {
    "duration": 25,
    "start_time": "2022-12-30T10:50:15.074Z"
   },
   {
    "duration": 16,
    "start_time": "2022-12-30T10:50:15.101Z"
   },
   {
    "duration": 26,
    "start_time": "2022-12-30T10:50:15.119Z"
   },
   {
    "duration": 17,
    "start_time": "2022-12-30T10:50:15.148Z"
   },
   {
    "duration": 33,
    "start_time": "2022-12-30T10:50:15.168Z"
   },
   {
    "duration": 702,
    "start_time": "2022-12-30T10:50:15.203Z"
   },
   {
    "duration": 638,
    "start_time": "2022-12-30T10:50:15.915Z"
   },
   {
    "duration": 592,
    "start_time": "2022-12-30T10:50:16.555Z"
   },
   {
    "duration": 1111,
    "start_time": "2023-06-03T09:04:39.200Z"
   },
   {
    "duration": 174,
    "start_time": "2023-06-03T09:04:40.313Z"
   },
   {
    "duration": 18,
    "start_time": "2023-06-03T09:04:40.489Z"
   },
   {
    "duration": 26,
    "start_time": "2023-06-03T09:04:40.509Z"
   },
   {
    "duration": 15,
    "start_time": "2023-06-03T09:04:40.537Z"
   },
   {
    "duration": 11,
    "start_time": "2023-06-03T09:04:40.553Z"
   },
   {
    "duration": 196,
    "start_time": "2023-06-03T09:04:40.565Z"
   },
   {
    "duration": 7,
    "start_time": "2023-06-03T09:04:40.762Z"
   },
   {
    "duration": 39,
    "start_time": "2023-06-03T09:04:40.770Z"
   },
   {
    "duration": 6,
    "start_time": "2023-06-03T09:04:40.812Z"
   },
   {
    "duration": 25,
    "start_time": "2023-06-03T09:04:40.819Z"
   },
   {
    "duration": 15,
    "start_time": "2023-06-03T09:04:40.846Z"
   },
   {
    "duration": 21,
    "start_time": "2023-06-03T09:04:40.863Z"
   },
   {
    "duration": 12,
    "start_time": "2023-06-03T09:04:40.886Z"
   },
   {
    "duration": 14,
    "start_time": "2023-06-03T09:04:40.899Z"
   },
   {
    "duration": 354,
    "start_time": "2023-06-03T09:04:40.915Z"
   },
   {
    "duration": 276,
    "start_time": "2023-06-03T09:04:41.271Z"
   },
   {
    "duration": 276,
    "start_time": "2023-06-03T09:04:41.549Z"
   },
   {
    "duration": 584,
    "start_time": "2023-06-03T09:04:41.826Z"
   },
   {
    "duration": 159,
    "start_time": "2023-06-03T09:04:42.412Z"
   },
   {
    "duration": 1123,
    "start_time": "2023-06-03T09:04:42.573Z"
   },
   {
    "duration": 6,
    "start_time": "2023-06-03T09:04:43.697Z"
   },
   {
    "duration": 282,
    "start_time": "2023-06-03T09:04:43.705Z"
   },
   {
    "duration": 279,
    "start_time": "2023-06-03T09:04:43.989Z"
   },
   {
    "duration": 61,
    "start_time": "2023-06-03T09:04:44.270Z"
   },
   {
    "duration": 27,
    "start_time": "2023-06-03T09:04:44.333Z"
   },
   {
    "duration": 394,
    "start_time": "2023-06-03T09:04:44.362Z"
   },
   {
    "duration": 303,
    "start_time": "2023-06-03T09:04:44.760Z"
   },
   {
    "duration": 598,
    "start_time": "2023-06-03T09:04:45.065Z"
   },
   {
    "duration": 638,
    "start_time": "2023-06-03T09:04:45.664Z"
   },
   {
    "duration": 219,
    "start_time": "2023-06-03T09:04:46.304Z"
   },
   {
    "duration": 211,
    "start_time": "2023-06-03T09:04:46.524Z"
   },
   {
    "duration": 302,
    "start_time": "2023-06-03T09:04:46.737Z"
   },
   {
    "duration": 25,
    "start_time": "2023-06-03T09:04:47.041Z"
   },
   {
    "duration": 426,
    "start_time": "2023-06-03T09:04:47.068Z"
   },
   {
    "duration": 4,
    "start_time": "2023-06-03T09:04:47.495Z"
   },
   {
    "duration": 464,
    "start_time": "2023-06-03T09:04:47.501Z"
   },
   {
    "duration": 503,
    "start_time": "2023-06-03T09:04:47.967Z"
   },
   {
    "duration": 6,
    "start_time": "2023-06-03T09:04:48.472Z"
   },
   {
    "duration": 411,
    "start_time": "2023-06-03T09:04:48.480Z"
   },
   {
    "duration": 5,
    "start_time": "2023-06-03T09:04:48.894Z"
   },
   {
    "duration": 478,
    "start_time": "2023-06-03T09:04:48.901Z"
   },
   {
    "duration": 10,
    "start_time": "2023-06-03T09:04:49.381Z"
   },
   {
    "duration": 12,
    "start_time": "2023-06-03T09:04:49.392Z"
   },
   {
    "duration": 6,
    "start_time": "2023-06-03T09:04:49.406Z"
   },
   {
    "duration": 18,
    "start_time": "2023-06-03T09:04:49.414Z"
   },
   {
    "duration": 33,
    "start_time": "2023-06-03T09:04:49.433Z"
   },
   {
    "duration": 50,
    "start_time": "2023-06-03T09:04:49.467Z"
   },
   {
    "duration": 3,
    "start_time": "2023-06-03T09:04:49.518Z"
   },
   {
    "duration": 10,
    "start_time": "2023-06-03T09:04:49.523Z"
   },
   {
    "duration": 42,
    "start_time": "2023-06-03T09:04:49.534Z"
   },
   {
    "duration": 15,
    "start_time": "2023-06-03T09:04:49.577Z"
   },
   {
    "duration": 23,
    "start_time": "2023-06-03T09:04:49.593Z"
   },
   {
    "duration": 27,
    "start_time": "2023-06-03T09:04:49.618Z"
   },
   {
    "duration": 741,
    "start_time": "2023-06-03T09:04:49.647Z"
   },
   {
    "duration": 607,
    "start_time": "2023-06-03T09:04:50.390Z"
   },
   {
    "duration": 592,
    "start_time": "2023-06-03T09:04:50.999Z"
   }
  ],
  "kernelspec": {
   "display_name": "Python 3 (ipykernel)",
   "language": "python",
   "name": "python3"
  },
  "language_info": {
   "codemirror_mode": {
    "name": "ipython",
    "version": 3
   },
   "file_extension": ".py",
   "mimetype": "text/x-python",
   "name": "python",
   "nbconvert_exporter": "python",
   "pygments_lexer": "ipython3",
   "version": "3.11.4"
  },
  "toc": {
   "base_numbering": 1,
   "nav_menu": {},
   "number_sections": true,
   "sideBar": true,
   "skip_h1_title": true,
   "title_cell": "Table of Contents",
   "title_sidebar": "Contents",
   "toc_cell": false,
   "toc_position": {
    "height": "calc(100% - 180px)",
    "left": "10px",
    "top": "150px",
    "width": "389.172px"
   },
   "toc_section_display": true,
   "toc_window_display": true
  }
 },
 "nbformat": 4,
 "nbformat_minor": 2
}
